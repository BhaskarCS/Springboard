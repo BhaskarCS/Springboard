{
 "cells": [
  {
   "cell_type": "markdown",
   "metadata": {},
   "source": [
    "## Capstone Project 1: Home Loan Credibility Assessment\n",
    "\n",
    "### Statistical Data Analysis "
   ]
  },
  {
   "cell_type": "markdown",
   "metadata": {},
   "source": [
    "There are 122 features in the dataset. The importance of these features will be evaluated in this study.\n",
    "\n",
    "Correlation tests will be performed with a feature against the target feature to check if they are related. I will use Kendall’s rank correlation in this study to test whether two features have a monotonic relationship. Chi-Squared test will be used to test whether categorical variables are related to the Target variable."
   ]
  },
  {
   "cell_type": "code",
   "execution_count": 1,
   "metadata": {},
   "outputs": [],
   "source": [
    "import pandas as pd\n",
    "import numpy as np\n",
    "from numpy.random import seed\n",
    "\n",
    "#from scipy.stats import t, norm\n",
    "import scipy.stats as stats\n",
    "import statsmodels.api as sm\n",
    "\n",
    "import matplotlib.pyplot as plt\n",
    "# Set the style of plots\n",
    "plt.style.use('fivethirtyeight')\n",
    "import seaborn as sns\n",
    "\n",
    "import warnings\n",
    "warnings.simplefilter(action='ignore', category=FutureWarning)"
   ]
  },
  {
   "cell_type": "markdown",
   "metadata": {},
   "source": [
    "#### Read Data"
   ]
  },
  {
   "cell_type": "code",
   "execution_count": 2,
   "metadata": {},
   "outputs": [],
   "source": [
    "# One-hot encoding for categorical columns with get_dummies\n",
    "def one_hot_encoder(df, nan_as_category = True):\n",
    "    original_columns = list(df.columns)\n",
    "    categorical_columns = [col for col in df.columns if df[col].dtype == 'object']\n",
    "    df = pd.get_dummies(df, columns= categorical_columns, dummy_na= nan_as_category)\n",
    "    new_columns = [c for c in df.columns if c not in original_columns]\n",
    "    return df, new_columns"
   ]
  },
  {
   "cell_type": "code",
   "execution_count": 3,
   "metadata": {},
   "outputs": [
    {
     "name": "stdout",
     "output_type": "stream",
     "text": [
      "Training data shape:  (307511, 122)\n"
     ]
    },
    {
     "data": {
      "text/html": [
       "<div>\n",
       "<style scoped>\n",
       "    .dataframe tbody tr th:only-of-type {\n",
       "        vertical-align: middle;\n",
       "    }\n",
       "\n",
       "    .dataframe tbody tr th {\n",
       "        vertical-align: top;\n",
       "    }\n",
       "\n",
       "    .dataframe thead th {\n",
       "        text-align: right;\n",
       "    }\n",
       "</style>\n",
       "<table border=\"1\" class=\"dataframe\">\n",
       "  <thead>\n",
       "    <tr style=\"text-align: right;\">\n",
       "      <th></th>\n",
       "      <th>SK_ID_CURR</th>\n",
       "      <th>TARGET</th>\n",
       "      <th>NAME_CONTRACT_TYPE</th>\n",
       "      <th>CODE_GENDER</th>\n",
       "      <th>FLAG_OWN_CAR</th>\n",
       "      <th>FLAG_OWN_REALTY</th>\n",
       "      <th>CNT_CHILDREN</th>\n",
       "      <th>AMT_INCOME_TOTAL</th>\n",
       "      <th>AMT_CREDIT</th>\n",
       "      <th>AMT_ANNUITY</th>\n",
       "      <th>...</th>\n",
       "      <th>FLAG_DOCUMENT_18</th>\n",
       "      <th>FLAG_DOCUMENT_19</th>\n",
       "      <th>FLAG_DOCUMENT_20</th>\n",
       "      <th>FLAG_DOCUMENT_21</th>\n",
       "      <th>AMT_REQ_CREDIT_BUREAU_HOUR</th>\n",
       "      <th>AMT_REQ_CREDIT_BUREAU_DAY</th>\n",
       "      <th>AMT_REQ_CREDIT_BUREAU_WEEK</th>\n",
       "      <th>AMT_REQ_CREDIT_BUREAU_MON</th>\n",
       "      <th>AMT_REQ_CREDIT_BUREAU_QRT</th>\n",
       "      <th>AMT_REQ_CREDIT_BUREAU_YEAR</th>\n",
       "    </tr>\n",
       "  </thead>\n",
       "  <tbody>\n",
       "    <tr>\n",
       "      <td>0</td>\n",
       "      <td>100002</td>\n",
       "      <td>1</td>\n",
       "      <td>Cash loans</td>\n",
       "      <td>0</td>\n",
       "      <td>0</td>\n",
       "      <td>0</td>\n",
       "      <td>0</td>\n",
       "      <td>202500.0</td>\n",
       "      <td>406597.5</td>\n",
       "      <td>24700.5</td>\n",
       "      <td>...</td>\n",
       "      <td>0</td>\n",
       "      <td>0</td>\n",
       "      <td>0</td>\n",
       "      <td>0</td>\n",
       "      <td>0.0</td>\n",
       "      <td>0.0</td>\n",
       "      <td>0.0</td>\n",
       "      <td>0.0</td>\n",
       "      <td>0.0</td>\n",
       "      <td>1.0</td>\n",
       "    </tr>\n",
       "    <tr>\n",
       "      <td>1</td>\n",
       "      <td>100003</td>\n",
       "      <td>0</td>\n",
       "      <td>Cash loans</td>\n",
       "      <td>1</td>\n",
       "      <td>0</td>\n",
       "      <td>1</td>\n",
       "      <td>0</td>\n",
       "      <td>270000.0</td>\n",
       "      <td>1293502.5</td>\n",
       "      <td>35698.5</td>\n",
       "      <td>...</td>\n",
       "      <td>0</td>\n",
       "      <td>0</td>\n",
       "      <td>0</td>\n",
       "      <td>0</td>\n",
       "      <td>0.0</td>\n",
       "      <td>0.0</td>\n",
       "      <td>0.0</td>\n",
       "      <td>0.0</td>\n",
       "      <td>0.0</td>\n",
       "      <td>0.0</td>\n",
       "    </tr>\n",
       "    <tr>\n",
       "      <td>2</td>\n",
       "      <td>100004</td>\n",
       "      <td>0</td>\n",
       "      <td>Revolving loans</td>\n",
       "      <td>0</td>\n",
       "      <td>1</td>\n",
       "      <td>0</td>\n",
       "      <td>0</td>\n",
       "      <td>67500.0</td>\n",
       "      <td>135000.0</td>\n",
       "      <td>6750.0</td>\n",
       "      <td>...</td>\n",
       "      <td>0</td>\n",
       "      <td>0</td>\n",
       "      <td>0</td>\n",
       "      <td>0</td>\n",
       "      <td>0.0</td>\n",
       "      <td>0.0</td>\n",
       "      <td>0.0</td>\n",
       "      <td>0.0</td>\n",
       "      <td>0.0</td>\n",
       "      <td>0.0</td>\n",
       "    </tr>\n",
       "    <tr>\n",
       "      <td>3</td>\n",
       "      <td>100006</td>\n",
       "      <td>0</td>\n",
       "      <td>Cash loans</td>\n",
       "      <td>1</td>\n",
       "      <td>0</td>\n",
       "      <td>0</td>\n",
       "      <td>0</td>\n",
       "      <td>135000.0</td>\n",
       "      <td>312682.5</td>\n",
       "      <td>29686.5</td>\n",
       "      <td>...</td>\n",
       "      <td>0</td>\n",
       "      <td>0</td>\n",
       "      <td>0</td>\n",
       "      <td>0</td>\n",
       "      <td>NaN</td>\n",
       "      <td>NaN</td>\n",
       "      <td>NaN</td>\n",
       "      <td>NaN</td>\n",
       "      <td>NaN</td>\n",
       "      <td>NaN</td>\n",
       "    </tr>\n",
       "    <tr>\n",
       "      <td>4</td>\n",
       "      <td>100007</td>\n",
       "      <td>0</td>\n",
       "      <td>Cash loans</td>\n",
       "      <td>0</td>\n",
       "      <td>0</td>\n",
       "      <td>0</td>\n",
       "      <td>0</td>\n",
       "      <td>121500.0</td>\n",
       "      <td>513000.0</td>\n",
       "      <td>21865.5</td>\n",
       "      <td>...</td>\n",
       "      <td>0</td>\n",
       "      <td>0</td>\n",
       "      <td>0</td>\n",
       "      <td>0</td>\n",
       "      <td>0.0</td>\n",
       "      <td>0.0</td>\n",
       "      <td>0.0</td>\n",
       "      <td>0.0</td>\n",
       "      <td>0.0</td>\n",
       "      <td>0.0</td>\n",
       "    </tr>\n",
       "  </tbody>\n",
       "</table>\n",
       "<p>5 rows × 122 columns</p>\n",
       "</div>"
      ],
      "text/plain": [
       "   SK_ID_CURR  TARGET NAME_CONTRACT_TYPE  CODE_GENDER  FLAG_OWN_CAR  \\\n",
       "0      100002       1         Cash loans            0             0   \n",
       "1      100003       0         Cash loans            1             0   \n",
       "2      100004       0    Revolving loans            0             1   \n",
       "3      100006       0         Cash loans            1             0   \n",
       "4      100007       0         Cash loans            0             0   \n",
       "\n",
       "   FLAG_OWN_REALTY  CNT_CHILDREN  AMT_INCOME_TOTAL  AMT_CREDIT  AMT_ANNUITY  \\\n",
       "0                0             0          202500.0    406597.5      24700.5   \n",
       "1                1             0          270000.0   1293502.5      35698.5   \n",
       "2                0             0           67500.0    135000.0       6750.0   \n",
       "3                0             0          135000.0    312682.5      29686.5   \n",
       "4                0             0          121500.0    513000.0      21865.5   \n",
       "\n",
       "   ...  FLAG_DOCUMENT_18 FLAG_DOCUMENT_19 FLAG_DOCUMENT_20 FLAG_DOCUMENT_21  \\\n",
       "0  ...                 0                0                0                0   \n",
       "1  ...                 0                0                0                0   \n",
       "2  ...                 0                0                0                0   \n",
       "3  ...                 0                0                0                0   \n",
       "4  ...                 0                0                0                0   \n",
       "\n",
       "  AMT_REQ_CREDIT_BUREAU_HOUR AMT_REQ_CREDIT_BUREAU_DAY  \\\n",
       "0                        0.0                       0.0   \n",
       "1                        0.0                       0.0   \n",
       "2                        0.0                       0.0   \n",
       "3                        NaN                       NaN   \n",
       "4                        0.0                       0.0   \n",
       "\n",
       "   AMT_REQ_CREDIT_BUREAU_WEEK  AMT_REQ_CREDIT_BUREAU_MON  \\\n",
       "0                         0.0                        0.0   \n",
       "1                         0.0                        0.0   \n",
       "2                         0.0                        0.0   \n",
       "3                         NaN                        NaN   \n",
       "4                         0.0                        0.0   \n",
       "\n",
       "   AMT_REQ_CREDIT_BUREAU_QRT  AMT_REQ_CREDIT_BUREAU_YEAR  \n",
       "0                        0.0                         1.0  \n",
       "1                        0.0                         0.0  \n",
       "2                        0.0                         0.0  \n",
       "3                        NaN                         NaN  \n",
       "4                        0.0                         0.0  \n",
       "\n",
       "[5 rows x 122 columns]"
      ]
     },
     "execution_count": 3,
     "metadata": {},
     "output_type": "execute_result"
    }
   ],
   "source": [
    "df = pd.read_csv('./Data_Files/application_train.csv')\n",
    "print('Training data shape: ', df.shape)\n",
    "\n",
    "# Remove 4 applications with XNA CODE_GENDER (train set)\n",
    "df = df[df['CODE_GENDER'] != 'XNA']\n",
    "\n",
    "# Categorical features with Binary encode (0 or 1; two categories)\n",
    "for bin_feature in ['CODE_GENDER', 'FLAG_OWN_CAR', 'FLAG_OWN_REALTY']:\n",
    "    df[bin_feature], uniques = pd.factorize(df[bin_feature])\n",
    "# Categorical features with One-Hot encode\n",
    "#df, cat_cols = one_hot_encoder(df, nan_as_category=False)\n",
    "\n",
    "# NaN values for DAYS_EMPLOYED: 365.243 -> nan\n",
    "df['DAYS_EMPLOYED'].replace(365243, np.nan, inplace= True)\n",
    "\n",
    "df.head()"
   ]
  },
  {
   "cell_type": "markdown",
   "metadata": {},
   "source": [
    "### Correlation:"
   ]
  },
  {
   "cell_type": "code",
   "execution_count": 4,
   "metadata": {},
   "outputs": [
    {
     "name": "stdout",
     "output_type": "stream",
     "text": [
      "Most Positive (15) Correlations:\n",
      " DEF_30_CNT_SOCIAL_CIRCLE       0.032261\n",
      "LIVE_CITY_NOT_WORK_CITY        0.032517\n",
      "OWN_CAR_AGE                    0.037611\n",
      "DAYS_REGISTRATION              0.041976\n",
      "FLAG_DOCUMENT_3                0.044341\n",
      "REG_CITY_NOT_LIVE_CITY         0.044394\n",
      "FLAG_EMP_PHONE                 0.045984\n",
      "REG_CITY_NOT_WORK_CITY         0.050992\n",
      "DAYS_ID_PUBLISH                0.051457\n",
      "DAYS_LAST_PHONE_CHANGE         0.055219\n",
      "REGION_RATING_CLIENT           0.058901\n",
      "REGION_RATING_CLIENT_W_CITY    0.060895\n",
      "DAYS_EMPLOYED                  0.074957\n",
      "DAYS_BIRTH                     0.078242\n",
      "TARGET                         1.000000\n",
      "Name: TARGET, dtype: float64\n",
      "\n",
      "Most Negative (15) Correlations:\n",
      " EXT_SOURCE_3                 -0.178926\n",
      "EXT_SOURCE_2                 -0.160471\n",
      "EXT_SOURCE_1                 -0.155317\n",
      "CODE_GENDER                  -0.054710\n",
      "FLOORSMAX_AVG                -0.044009\n",
      "FLOORSMAX_MEDI               -0.043773\n",
      "FLOORSMAX_MODE               -0.043231\n",
      "AMT_GOODS_PRICE              -0.039647\n",
      "REGION_POPULATION_RELATIVE   -0.037225\n",
      "ELEVATORS_AVG                -0.034202\n",
      "ELEVATORS_MEDI               -0.033866\n",
      "FLOORSMIN_AVG                -0.033619\n",
      "FLOORSMIN_MEDI               -0.033400\n",
      "LIVINGAREA_AVG               -0.033001\n",
      "LIVINGAREA_MEDI              -0.032743\n",
      "Name: TARGET, dtype: float64\n"
     ]
    }
   ],
   "source": [
    "# Find correlations with the target and sort\n",
    "correlations = df.corr()['TARGET'].sort_values()\n",
    "\n",
    "# Display correlations\n",
    "print('Most Positive (15) Correlations:\\n', correlations.tail(15))\n",
    "print('\\nMost Negative (15) Correlations:\\n', correlations.head(15))"
   ]
  },
  {
   "cell_type": "markdown",
   "metadata": {},
   "source": [
    "### Target variable normality check:"
   ]
  },
  {
   "cell_type": "code",
   "execution_count": 5,
   "metadata": {},
   "outputs": [
    {
     "data": {
      "image/png": "[encoded data removed]",
      "text/plain": [
       "<Figure size 432x288 with 1 Axes>"
      ]
     },
     "metadata": {
      "needs_background": "light"
     },
     "output_type": "display_data"
    },
    {
     "data": {
      "image/png": "[encoded data removed]",
      "text/plain": [
       "<Figure size 432x288 with 1 Axes>"
      ]
     },
     "metadata": {
      "needs_background": "light"
     },
     "output_type": "display_data"
    }
   ],
   "source": [
    "plt.hist(df['TARGET']) \n",
    "plt.show()\n",
    "fig = sm.qqplot(df['TARGET'], line='s' )\n",
    "plt.show()"
   ]
  },
  {
   "cell_type": "code",
   "execution_count": 6,
   "metadata": {},
   "outputs": [
    {
     "name": "stdout",
     "output_type": "stream",
     "text": [
      "stats:  186563.2820995757  , p-value:  0.0\n",
      "Sample does not look Gaussian (reject H0)\n"
     ]
    }
   ],
   "source": [
    "# D’Agostino’s K^2 Test\n",
    "stat, p = stats.normaltest(df['TARGET'])\n",
    "print('stats: ', stat, ' , p-value: ', p)\n",
    "\n",
    "# Interpretation\n",
    "alpha = 0.05\n",
    "if p > alpha:\n",
    "    print('Sample looks Gaussian (fail to reject H0)')\n",
    "else:\n",
    "    print('Sample does not look Gaussian (reject H0)') "
   ]
  },
  {
   "cell_type": "markdown",
   "metadata": {},
   "source": [
    "### Client's Age on loan repayment\n",
    "\n",
    "I want to observe is there a significant difference between the age groups in terms of loan repayment.\n",
    "\n",
    "__Research questions: Is there any relation between age groups in terms of loan repayment?__\n",
    "\n",
    "H0: There is no correlation between age groups and loan repayment.   \n",
    "H1: Loan repayment is related to the age groups.\n",
    "\n",
    "\n",
    "First to check wheather the client's age data is Gaussian or not."
   ]
  },
  {
   "cell_type": "code",
   "execution_count": 7,
   "metadata": {},
   "outputs": [
    {
     "data": {
      "image/png": "[encoded data removed]",
      "text/plain": [
       "<Figure size 432x288 with 1 Axes>"
      ]
     },
     "metadata": {
      "needs_background": "light"
     },
     "output_type": "display_data"
    },
    {
     "data": {
      "image/png": "[encoded data removed]",
      "text/plain": [
       "<Figure size 432x288 with 1 Axes>"
      ]
     },
     "metadata": {
      "needs_background": "light"
     },
     "output_type": "display_data"
    }
   ],
   "source": [
    "plt.hist(df['DAYS_BIRTH']) \n",
    "plt.show()\n",
    "fig = sm.qqplot(df['DAYS_BIRTH'], line='s' )\n",
    "plt.show()"
   ]
  },
  {
   "cell_type": "code",
   "execution_count": 8,
   "metadata": {},
   "outputs": [
    {
     "name": "stdout",
     "output_type": "stream",
     "text": [
      "0.9696902632713318 0.0\n",
      "Sample does not look Gaussian (reject H0)\n"
     ]
    },
    {
     "name": "stderr",
     "output_type": "stream",
     "text": [
      "D:\\Programs\\Anaconda3_072019\\envs\\pm36\\lib\\site-packages\\scipy\\stats\\morestats.py:1660: UserWarning: p-value may not be accurate for N > 5000.\n",
      "  warnings.warn(\"p-value may not be accurate for N > 5000.\")\n"
     ]
    }
   ],
   "source": [
    "# Shapiro-Wilk Test\n",
    "stat, p = stats.shapiro(df['DAYS_BIRTH'])\n",
    "print(stat, p)\n",
    "\n",
    "# interpret\n",
    "alpha = 0.05\n",
    "if p > alpha:\n",
    "    print('Sample looks Gaussian (fail to reject H0)')\n",
    "else:\n",
    "    print('Sample does not look Gaussian (reject H0)') "
   ]
  },
  {
   "cell_type": "code",
   "execution_count": 9,
   "metadata": {},
   "outputs": [
    {
     "name": "stdout",
     "output_type": "stream",
     "text": [
      "                TARGET    DAYS_BIRTH  YEARS_BIRTH\n",
      "YEARS_BINNED                                     \n",
      "(20.0, 25.0]  0.123036  -8532.795625    23.377522\n",
      "(25.0, 30.0]  0.111442 -10155.219690    27.822520\n",
      "(30.0, 35.0]  0.102814 -11854.848377    32.479037\n",
      "(35.0, 40.0]  0.089416 -13707.908041    37.555912\n",
      "(40.0, 45.0]  0.078491 -15497.661233    42.459346\n",
      "(45.0, 50.0]  0.074171 -17323.900441    47.462741\n",
      "(50.0, 55.0]  0.066968 -19196.494791    52.593136\n",
      "(55.0, 60.0]  0.055316 -20984.285455    57.491193\n",
      "(60.0, 65.0]  0.052737 -22780.547460    62.412459\n",
      "(65.0, 70.0]  0.037270 -24292.614340    66.555108\n"
     ]
    },
    {
     "data": {
      "image/png": "[encoded data removed]",
      "text/plain": [
       "<Figure size 576x576 with 1 Axes>"
      ]
     },
     "metadata": {
      "needs_background": "light"
     },
     "output_type": "display_data"
    }
   ],
   "source": [
    "# Age information into a separate dataframe\n",
    "age_data = df.loc[:,['TARGET', 'DAYS_BIRTH']].copy()\n",
    "age_data['YEARS_BIRTH'] = age_data['DAYS_BIRTH'] / -365\n",
    "\n",
    "# Bin the age data\n",
    "age_data['YEARS_BINNED'] = pd.cut(age_data['YEARS_BIRTH'], bins = np.linspace(20, 70, num = 11))\n",
    "age_data.head(10)\n",
    "\n",
    "# Group by the bin and calculate averages\n",
    "age_groups  = age_data.groupby('YEARS_BINNED').mean()\n",
    "print(age_groups)\n",
    "\n",
    "plt.figure(figsize = (8, 8))\n",
    "\n",
    "# Graph the age bins and the average of the target as a bar plot\n",
    "plt.bar(age_groups.index.astype(str), 100 * age_groups['TARGET'])\n",
    "\n",
    "# Plot labeling\n",
    "plt.xticks(rotation = 75); plt.xlabel('Age Group (years)'); plt.ylabel('Failure to Repay (%)')\n",
    "plt.title('Failure to Repay by Age Group');"
   ]
  },
  {
   "cell_type": "code",
   "execution_count": 10,
   "metadata": {},
   "outputs": [
    {
     "name": "stdout",
     "output_type": "stream",
     "text": [
      "corr:  -0.9999999999999999 , p-value:  5.511463844797178e-07\n",
      "H1: there is a dependency between the samples.\n"
     ]
    }
   ],
   "source": [
    "corr, p = stats.kendalltau(age_groups.iloc[:,0], age_groups.iloc[:,2])\n",
    "print('corr: ', corr, ', p-value: ', p)\n",
    "# Interpretation\n",
    "alpha = 0.05\n",
    "if p > alpha:\n",
    "    print('H0: the two samples are independent.')\n",
    "else:\n",
    "    print('H1: there is a dependency between the samples.') "
   ]
  },
  {
   "cell_type": "markdown",
   "metadata": {},
   "source": [
    "Since the p-value is smaller than 0.05, the null hypothesis is rejected. There is a relation between loan repayment and the age groups."
   ]
  },
  {
   "cell_type": "markdown",
   "metadata": {},
   "source": [
    "### Client's Employment on loan repayment\n",
    "\n",
    "I want to observe is there a significant difference between the years of employed in terms of loan repayment.\n",
    "\n",
    "Research questions: Is there any relation between years employed interms of loan repayment?\n",
    "\n",
    "H0: There is no correlation between years employed and loan repayment.    \n",
    "H1: Loan repayment is related to the years employed.\n",
    "\n",
    "Lets check that wheather the client's employment data is Gaussian or not."
   ]
  },
  {
   "cell_type": "code",
   "execution_count": 11,
   "metadata": {},
   "outputs": [
    {
     "name": "stderr",
     "output_type": "stream",
     "text": [
      "D:\\Programs\\Anaconda3_072019\\envs\\pm36\\lib\\site-packages\\numpy\\lib\\histograms.py:829: RuntimeWarning: invalid value encountered in greater_equal\n",
      "  keep = (tmp_a >= first_edge)\n",
      "D:\\Programs\\Anaconda3_072019\\envs\\pm36\\lib\\site-packages\\numpy\\lib\\histograms.py:830: RuntimeWarning: invalid value encountered in less_equal\n",
      "  keep &= (tmp_a <= last_edge)\n"
     ]
    },
    {
     "data": {
      "image/png": "[encoded data removed]",
      "text/plain": [
       "<Figure size 432x288 with 1 Axes>"
      ]
     },
     "metadata": {
      "needs_background": "light"
     },
     "output_type": "display_data"
    },
    {
     "data": {
      "image/png": "[encoded data removed]",
      "text/plain": [
       "<Figure size 432x288 with 1 Axes>"
      ]
     },
     "metadata": {
      "needs_background": "light"
     },
     "output_type": "display_data"
    }
   ],
   "source": [
    "plt.hist(df['DAYS_EMPLOYED']) \n",
    "plt.show()\n",
    "fig = sm.qqplot(df['DAYS_EMPLOYED'], line='s')\n",
    "plt.show()"
   ]
  },
  {
   "cell_type": "code",
   "execution_count": 12,
   "metadata": {},
   "outputs": [
    {
     "name": "stdout",
     "output_type": "stream",
     "text": [
      "nan 1.0\n",
      "Sample looks Gaussian (fail to reject H0)\n"
     ]
    }
   ],
   "source": [
    "# Shapiro-Wilk Test\n",
    "stat, p = stats.shapiro(df['DAYS_EMPLOYED'])\n",
    "print(stat, p)\n",
    "\n",
    "# interpret\n",
    "alpha = 0.05\n",
    "if p > alpha:\n",
    "    print('Sample looks Gaussian (fail to reject H0)')\n",
    "else:\n",
    "    print('Sample does not look Gaussian (reject H0)') "
   ]
  },
  {
   "cell_type": "code",
   "execution_count": 13,
   "metadata": {},
   "outputs": [
    {
     "name": "stdout",
     "output_type": "stream",
     "text": [
      "                TARGET  DAYS_EMPLOYED  YEARS_EMPLOYED\n",
      "YEARS_BINNED                                         \n",
      "(0.0, 1.0]    0.109685    -218.990064        0.599973\n",
      "(1.0, 2.0]    0.114052    -541.915403        1.484700\n",
      "(2.0, 3.0]    0.107166    -908.500287        2.489042\n",
      "(3.0, 4.0]    0.101594   -1269.729681        3.478711\n",
      "(4.0, 5.0]    0.091147   -1638.408071        4.488789\n",
      "(5.0, 6.0]    0.081304   -1999.644588        5.478478\n",
      "(6.0, 7.0]    0.076637   -2368.929871        6.490219\n",
      "(7.0, 8.0]    0.072597   -2733.776958        7.489800\n",
      "(8.0, 9.0]    0.068603   -3096.985999        8.484893\n"
     ]
    },
    {
     "data": {
      "image/png": "[encoded data removed]",
      "text/plain": [
       "<Figure size 576x576 with 1 Axes>"
      ]
     },
     "metadata": {
      "needs_background": "light"
     },
     "output_type": "display_data"
    }
   ],
   "source": [
    "# Year of employment into a separate dataframe\n",
    "emp_data = df.loc[:,['TARGET', 'DAYS_EMPLOYED']].copy()\n",
    "emp_data['YEARS_EMPLOYED'] = emp_data['DAYS_EMPLOYED'] / -365\n",
    "\n",
    "# Bin the Year of employment data\n",
    "emp_data.dropna(inplace=True)\n",
    "emp_data['YEARS_BINNED'] = pd.cut(emp_data['YEARS_EMPLOYED'], bins = np.linspace(0, 9, num = 10))\n",
    "\n",
    "# Group by the bin and calculate averages\n",
    "emp_groups  = emp_data.groupby('YEARS_BINNED').mean()\n",
    "print(emp_groups)\n",
    "\n",
    "plt.figure(figsize = (8, 8))\n",
    "\n",
    "# Graph the age bins and the average of the target as a bar plot\n",
    "plt.bar(emp_groups.index.astype(str), 100 * emp_groups['TARGET'])\n",
    "\n",
    "# Plot labeling\n",
    "plt.xticks(rotation = 75); plt.xlabel('Employed (years)'); plt.ylabel('Failure to Repay (%)')\n",
    "plt.title('Failure to Repay by Years Employed');\n"
   ]
  },
  {
   "cell_type": "code",
   "execution_count": 14,
   "metadata": {},
   "outputs": [
    {
     "name": "stdout",
     "output_type": "stream",
     "text": [
      "corr:  -0.9444444444444445 , p-value:  4.96031746031746e-05\n",
      "H1: there is a dependency between the samples.\n"
     ]
    }
   ],
   "source": [
    "corr, p = stats.kendalltau(emp_groups.iloc[:,0], emp_groups.iloc[:,2])\n",
    "print('corr: ', corr, ', p-value: ', p)\n",
    "# Interpretation\n",
    "alpha = 0.05\n",
    "if p > alpha:\n",
    "    print('H0: the two samples are independent.')\n",
    "else:\n",
    "    print('H1: there is a dependency between the samples.') "
   ]
  },
  {
   "cell_type": "markdown",
   "metadata": {},
   "source": [
    "Since the p-value is smaller than 0.05, the null hypothesis is rejected. There is a relation between loan repayment and the years employed."
   ]
  },
  {
   "cell_type": "markdown",
   "metadata": {},
   "source": [
    "### Client's living region (city) on loan repayment\n",
    "\n",
    "Research questions: Is there any relation between client's living region (city) on loan repayment?\n",
    "\n",
    "H0: There is no correlation between client's living region (city) and loan repayment.            \n",
    "H1: Loan repayment is related to the client's living region (city).\n",
    "\n",
    "Lets check that wheather the client's living region (city) data is Gaussian or not."
   ]
  },
  {
   "cell_type": "code",
   "execution_count": 15,
   "metadata": {},
   "outputs": [
    {
     "data": {
      "image/png": "[encoded data removed]",
      "text/plain": [
       "<Figure size 432x288 with 1 Axes>"
      ]
     },
     "metadata": {
      "needs_background": "light"
     },
     "output_type": "display_data"
    },
    {
     "data": {
      "image/png": "[encoded data removed]",
      "text/plain": [
       "<Figure size 432x288 with 1 Axes>"
      ]
     },
     "metadata": {
      "needs_background": "light"
     },
     "output_type": "display_data"
    },
    {
     "name": "stdout",
     "output_type": "stream",
     "text": [
      "0.6829575300216675 0.0\n",
      "Sample does not look Gaussian (reject H0)\n"
     ]
    }
   ],
   "source": [
    "plt.hist(df['REGION_RATING_CLIENT_W_CITY']) \n",
    "plt.show()\n",
    "fig = sm.qqplot(df['REGION_RATING_CLIENT_W_CITY'], line='s')\n",
    "plt.show()\n",
    "# Shapiro-Wilk Test\n",
    "stat, p = stats.shapiro(df['REGION_RATING_CLIENT_W_CITY'])\n",
    "print(stat, p)\n",
    "\n",
    "# interpret\n",
    "alpha = 0.05\n",
    "if p > alpha:\n",
    "    print('Sample looks Gaussian (fail to reject H0)')\n",
    "else:\n",
    "    print('Sample does not look Gaussian (reject H0)') "
   ]
  },
  {
   "cell_type": "code",
   "execution_count": 16,
   "metadata": {},
   "outputs": [
    {
     "name": "stdout",
     "output_type": "stream",
     "text": [
      "                               TARGET\n",
      "REGION_RATING_CLIENT_W_CITY          \n",
      "1                            0.048409\n",
      "2                            0.079179\n",
      "3                            0.114024\n"
     ]
    },
    {
     "data": {
      "image/png": "[encoded data removed]",
      "text/plain": [
       "<Figure size 576x576 with 1 Axes>"
      ]
     },
     "metadata": {
      "needs_background": "light"
     },
     "output_type": "display_data"
    }
   ],
   "source": [
    "# Put the rating of the region with city where client lives into a separate dataframe\n",
    "rgc_data = df.loc[:,['TARGET', 'REGION_RATING_CLIENT_W_CITY']].copy()\n",
    "rgc_data.dropna(inplace=True)\n",
    "\n",
    "# Group by the region and calculate averages\n",
    "rgc_groups  = rgc_data.groupby('REGION_RATING_CLIENT_W_CITY').mean()\n",
    "print(rgc_groups)\n",
    "\n",
    "plt.figure(figsize = (8, 8))\n",
    "\n",
    "# Graph the age bins and the average of the target as a bar plot\n",
    "plt.bar(rgc_groups.index.astype(str), 100 * rgc_groups['TARGET'])\n",
    "\n",
    "# Plot labeling\n",
    "plt.xticks(rotation = 75); plt.xlabel('Client\\'s living region with city'); plt.ylabel('Failure to Repay (%)')\n",
    "plt.title('Failure to Repay by Client\\'s living region with city');"
   ]
  },
  {
   "cell_type": "code",
   "execution_count": 17,
   "metadata": {},
   "outputs": [
    {
     "name": "stdout",
     "output_type": "stream",
     "text": [
      "corr:  1.0 , p-value:  0.3333333333333333\n",
      "H0: the two samples are independent.\n"
     ]
    }
   ],
   "source": [
    "corr, p = stats.kendalltau(rgc_groups.iloc[:,0], list(rgc_groups.index))\n",
    "print('corr: ', corr, ', p-value: ', p)\n",
    "\n",
    "# Interpretation\n",
    "alpha = 0.05\n",
    "if p > alpha:\n",
    "    print('H0: the two samples are independent.')\n",
    "else:\n",
    "    print('H1: there is a dependency between the samples.') "
   ]
  },
  {
   "cell_type": "markdown",
   "metadata": {},
   "source": [
    "### Client's living region on loan repayment\n",
    "Research questions: Is there any relation between client's living region on loan repayment?\n",
    "\n",
    "H0: There is no correlation between client's living region and loan repayment.        \n",
    "H1: Loan repayment is related to the client's living region."
   ]
  },
  {
   "cell_type": "code",
   "execution_count": 18,
   "metadata": {},
   "outputs": [
    {
     "name": "stdout",
     "output_type": "stream",
     "text": [
      "corr:  1.0 , p-value:  0.3333333333333333\n",
      "H0: the two samples are independent.\n"
     ]
    }
   ],
   "source": [
    "# Put the rating of the region with city where client lives into a separate dataframe\n",
    "rgc_data = df.loc[:,['TARGET', 'REGION_RATING_CLIENT']].copy()\n",
    "rgc_data.dropna(inplace=True)\n",
    "\n",
    "# Group by the region and calculate averages\n",
    "rgc_groups  = rgc_data.groupby('REGION_RATING_CLIENT').mean()\n",
    "\n",
    "corr, p = stats.kendalltau(rgc_groups.iloc[:,0], list(rgc_groups.index))\n",
    "print('corr: ', corr, ', p-value: ', p)\n",
    "\n",
    "# Interpretation\n",
    "alpha = 0.05\n",
    "if p > alpha:\n",
    "    print('H0: the two samples are independent.')\n",
    "else:\n",
    "    print('H1: there is a dependency between the samples.') "
   ]
  },
  {
   "cell_type": "markdown",
   "metadata": {},
   "source": [
    "### External data sources on loan repayment\n",
    "\n",
    "Research questions: Is there any relation between external data sources on loan repayment?\n",
    "\n",
    "H0: There is no correlation between external data sources and loan repayment.    \n",
    "H1: External data sources is related to the loan repayment.\n",
    "\n",
    "Lets check that wheather the external data sources is Gaussian or not."
   ]
  },
  {
   "cell_type": "code",
   "execution_count": 19,
   "metadata": {},
   "outputs": [
    {
     "data": {
      "image/png": "[encoded data removed]",
      "text/plain": [
       "<Figure size 432x288 with 1 Axes>"
      ]
     },
     "metadata": {
      "needs_background": "light"
     },
     "output_type": "display_data"
    },
    {
     "data": {
      "image/png": "[encoded data removed]",
      "text/plain": [
       "<Figure size 432x288 with 1 Axes>"
      ]
     },
     "metadata": {
      "needs_background": "light"
     },
     "output_type": "display_data"
    },
    {
     "name": "stdout",
     "output_type": "stream",
     "text": [
      "nan 1.0\n",
      "Sample looks Gaussian (fail to reject H0)\n"
     ]
    }
   ],
   "source": [
    "plt.hist(df['EXT_SOURCE_3']) \n",
    "plt.show()\n",
    "fig = sm.qqplot(df['EXT_SOURCE_3'], line='s')\n",
    "plt.show()\n",
    "\n",
    "# Shapiro-Wilk Test\n",
    "stat, p = stats.shapiro(df['EXT_SOURCE_3'])\n",
    "print(stat, p)\n",
    "\n",
    "# interpret\n",
    "alpha = 0.05\n",
    "if p > alpha:\n",
    "    print('Sample looks Gaussian (fail to reject H0)')\n",
    "else:\n",
    "    print('Sample does not look Gaussian (reject H0)') "
   ]
  },
  {
   "cell_type": "code",
   "execution_count": 20,
   "metadata": {},
   "outputs": [
    {
     "name": "stdout",
     "output_type": "stream",
     "text": [
      "corr:  -0.13598507164649482 , p-value:  0.0\n",
      "H1: there is a dependency between the samples.\n"
     ]
    }
   ],
   "source": [
    "ex3_data = df.loc[:,['TARGET', 'EXT_SOURCE_3']].copy()\n",
    "ex3_data.dropna(inplace=True)\n",
    "\n",
    "corr, p = stats.kendalltau(ex3_data.iloc[:,0], ex3_data.iloc[:,1])\n",
    "print('corr: ', corr, ', p-value: ', p)\n",
    "\n",
    "# Interpretation\n",
    "alpha = 0.05\n",
    "if p > alpha:\n",
    "    print('H0: the two samples are independent.')\n",
    "else:\n",
    "    print('H1: there is a dependency between the samples.') "
   ]
  },
  {
   "cell_type": "code",
   "execution_count": 21,
   "metadata": {},
   "outputs": [
    {
     "name": "stdout",
     "output_type": "stream",
     "text": [
      "corr:  -0.12029722465317395 , p-value:  0.0\n",
      "H1: there is a dependency between the samples.\n"
     ]
    }
   ],
   "source": [
    "ex3_data = df.loc[:,['TARGET', 'EXT_SOURCE_2']].copy()\n",
    "ex3_data.dropna(inplace=True)\n",
    "\n",
    "corr, p = stats.kendalltau(ex3_data.iloc[:,0], ex3_data.iloc[:,1])\n",
    "print('corr: ', corr, ', p-value: ', p)\n",
    "\n",
    "# Interpretation\n",
    "alpha = 0.05\n",
    "if p > alpha:\n",
    "    print('H0: the two samples are independent.')\n",
    "else:\n",
    "    print('H1: there is a dependency between the samples.')"
   ]
  },
  {
   "cell_type": "code",
   "execution_count": 22,
   "metadata": {},
   "outputs": [
    {
     "name": "stdout",
     "output_type": "stream",
     "text": [
      "corr:  -0.1233965997070033 , p-value:  0.0\n",
      "H1: there is a dependency between the samples.\n"
     ]
    }
   ],
   "source": [
    "ex3_data = df.loc[:,['TARGET', 'EXT_SOURCE_1']].copy()\n",
    "ex3_data.dropna(inplace=True)\n",
    "\n",
    "corr, p = stats.kendalltau(ex3_data.iloc[:,0], ex3_data.iloc[:,1])\n",
    "print('corr: ', corr, ', p-value: ', p)\n",
    "\n",
    "# Interpretation\n",
    "alpha = 0.05\n",
    "if p > alpha:\n",
    "    print('H0: the two samples are independent.')\n",
    "else:\n",
    "    print('H1: there is a dependency between the samples.')"
   ]
  },
  {
   "cell_type": "markdown",
   "metadata": {},
   "source": [
    "There is a relation between external data sources and loan repayment."
   ]
  },
  {
   "cell_type": "markdown",
   "metadata": {},
   "source": [
    "### Client's gender on loan repayment\n",
    "\n",
    "Research questions: Is there any relation between client's gender on loan repayment?\n",
    "\n",
    "H0: There is no correlation between client's gender and loan repayment.    \n",
    "H1: client's gender is related to the loan repayment.\n",
    "\n",
    "Lets check that wheather the client's gender is Gaussian or not."
   ]
  },
  {
   "cell_type": "code",
   "execution_count": 23,
   "metadata": {},
   "outputs": [
    {
     "name": "stdout",
     "output_type": "stream",
     "text": [
      "stat:  0.5982246398925781 , p-value:  0.0\n",
      "Sample does not look Gaussian (reject H0)\n"
     ]
    }
   ],
   "source": [
    "# Shapiro-Wilk Test\n",
    "stat, p = stats.shapiro(df['CODE_GENDER'])\n",
    "print('stat: ', stat, ', p-value: ',p)\n",
    "\n",
    "# interpret\n",
    "alpha = 0.05\n",
    "if p > alpha:\n",
    "    print('Sample looks Gaussian (fail to reject H0)')\n",
    "else:\n",
    "    print('Sample does not look Gaussian (reject H0)') "
   ]
  },
  {
   "cell_type": "code",
   "execution_count": 24,
   "metadata": {},
   "outputs": [
    {
     "name": "stdout",
     "output_type": "stream",
     "text": [
      "p-value:  4.394091339983112e-202\n",
      "H1: there is a dependency between the samples.\n"
     ]
    }
   ],
   "source": [
    "crosstab = pd.crosstab(df['CODE_GENDER'], df['TARGET'])\n",
    "chi2, p, dof, expected = stats.chi2_contingency(crosstab)\n",
    "print('p-value: ',p)\n",
    "# Interpretation\n",
    "alpha = 0.05\n",
    "if p > alpha:\n",
    "    print('H0: the two samples are independent.')\n",
    "else:\n",
    "    print('H1: there is a dependency between the samples.')"
   ]
  },
  {
   "cell_type": "markdown",
   "metadata": {},
   "source": [
    "####  Relation between client own car on loan repayment"
   ]
  },
  {
   "cell_type": "code",
   "execution_count": 25,
   "metadata": {},
   "outputs": [
    {
     "name": "stdout",
     "output_type": "stream",
     "text": [
      "p-value:  9.410574445435375e-34\n",
      "H1: there is a dependency between the samples.\n"
     ]
    }
   ],
   "source": [
    "crosstab = pd.crosstab(df['FLAG_OWN_CAR'], df['TARGET'])\n",
    "chi2, p, dof, expected = stats.chi2_contingency(crosstab)\n",
    "print('p-value: ',p)\n",
    "# Interpretation\n",
    "alpha = 0.05\n",
    "if p > alpha:\n",
    "    print('H0: the two samples are independent.')\n",
    "else:\n",
    "    print('H1: there is a dependency between the samples.')"
   ]
  },
  {
   "cell_type": "markdown",
   "metadata": {},
   "source": [
    "####  Relation between client own house or flat on loan repayment"
   ]
  },
  {
   "cell_type": "code",
   "execution_count": 26,
   "metadata": {},
   "outputs": [
    {
     "name": "stdout",
     "output_type": "stream",
     "text": [
      "p-value:  0.0006716541669272181\n",
      "H1: there is a dependency between the samples.\n"
     ]
    }
   ],
   "source": [
    "crosstab = pd.crosstab(df['FLAG_OWN_REALTY'], df['TARGET'])\n",
    "chi2, p, dof, expected = stats.chi2_contingency(crosstab)\n",
    "print('p-value: ',p)\n",
    "# Interpretation\n",
    "alpha = 0.05\n",
    "if p > alpha:\n",
    "    print('H0: the two samples are independent.')\n",
    "else:\n",
    "    print('H1: there is a dependency between the samples.')"
   ]
  },
  {
   "cell_type": "markdown",
   "metadata": {},
   "source": [
    "####  Relation between if loan is cash or revolving on loan repayment"
   ]
  },
  {
   "cell_type": "code",
   "execution_count": 27,
   "metadata": {},
   "outputs": [
    {
     "name": "stdout",
     "output_type": "stream",
     "text": [
      "p-value:  1.1274999190439246e-65\n",
      "H1: there is a dependency between the samples.\n"
     ]
    }
   ],
   "source": [
    "dummies = pd.get_dummies(df['NAME_CONTRACT_TYPE'])\n",
    "for series in dummies:\n",
    "    crosstab = pd.crosstab(dummies[f\"{series}\"], df['TARGET'])\n",
    "    chi2, p, dof, expected = stats.chi2_contingency(crosstab)\n",
    "print('p-value: ',p)\n",
    "# Interpretation\n",
    "alpha = 0.05\n",
    "if p > alpha:\n",
    "    print('H0: the two samples are independent.')\n",
    "else:\n",
    "    print('H1: there is a dependency between the samples.')"
   ]
  },
  {
   "cell_type": "markdown",
   "metadata": {},
   "source": [
    "####  Relation between accompanying person with client on loan repayment"
   ]
  },
  {
   "cell_type": "code",
   "execution_count": 28,
   "metadata": {},
   "outputs": [
    {
     "name": "stdout",
     "output_type": "stream",
     "text": [
      "p-value:  4.339400920054708e-06\n",
      "H1: there is a dependency between the samples.\n"
     ]
    }
   ],
   "source": [
    "dummies = pd.get_dummies(df['NAME_TYPE_SUITE'])\n",
    "for series in dummies:\n",
    "    crosstab = pd.crosstab(dummies[f\"{series}\"], df['TARGET'])\n",
    "    chi2, p, dof, expected = stats.chi2_contingency(crosstab)\n",
    "# Interpretation\n",
    "print('p-value: ',p)\n",
    "alpha = 0.05\n",
    "if p > alpha:\n",
    "    print('H0: the two samples are independent.')\n",
    "else:\n",
    "    print('H1: there is a dependency between the samples.')"
   ]
  },
  {
   "cell_type": "markdown",
   "metadata": {},
   "source": [
    "####  Relation between Client's income type on loan repayment"
   ]
  },
  {
   "cell_type": "code",
   "execution_count": 29,
   "metadata": {},
   "outputs": [
    {
     "name": "stdout",
     "output_type": "stream",
     "text": [
      "p-value:  6.996531588495895e-223\n",
      "H1: there is a dependency between the samples.\n"
     ]
    }
   ],
   "source": [
    "dummies = pd.get_dummies(df['NAME_INCOME_TYPE'])\n",
    "for series in dummies:\n",
    "    crosstab = pd.crosstab(dummies[f\"{series}\"], df['TARGET'])\n",
    "    chi2, p, dof, expected = stats.chi2_contingency(crosstab)\n",
    "# Interpretation\n",
    "print('p-value: ',p)\n",
    "alpha = 0.05\n",
    "if p > alpha:\n",
    "    print('H0: the two samples are independent.')\n",
    "else:\n",
    "    print('H1: there is a dependency between the samples.')"
   ]
  },
  {
   "cell_type": "markdown",
   "metadata": {},
   "source": [
    "####  Relation between Client's education type on loan repayment"
   ]
  },
  {
   "cell_type": "code",
   "execution_count": 30,
   "metadata": {},
   "outputs": [
    {
     "name": "stdout",
     "output_type": "stream",
     "text": [
      "p-value:  6.244278068516921e-168\n",
      "H1: there is a dependency between the samples.\n"
     ]
    }
   ],
   "source": [
    "dummies = pd.get_dummies(df['NAME_EDUCATION_TYPE'])\n",
    "for series in dummies:\n",
    "    crosstab = pd.crosstab(dummies[f\"{series}\"], df['TARGET'])\n",
    "    chi2, p, dof, expected = stats.chi2_contingency(crosstab)\n",
    "# Interpretation\n",
    "print('p-value: ',p)\n",
    "alpha = 0.05\n",
    "if p > alpha:\n",
    "    print('H0: the two samples are independent.')\n",
    "else:\n",
    "    print('H1: there is a dependency between the samples.')"
   ]
  },
  {
   "cell_type": "markdown",
   "metadata": {},
   "source": [
    "####  Relation between Client's family status type on loan repayment"
   ]
  },
  {
   "cell_type": "code",
   "execution_count": 31,
   "metadata": {},
   "outputs": [
    {
     "name": "stdout",
     "output_type": "stream",
     "text": [
      "p-value:  6.567292088867877e-27\n",
      "H1: there is a dependency between the samples.\n"
     ]
    }
   ],
   "source": [
    "dummies = pd.get_dummies(df['NAME_FAMILY_STATUS'])\n",
    "for series in dummies:\n",
    "    crosstab = pd.crosstab(dummies[f\"{series}\"], df['TARGET'])\n",
    "    chi2, p, dof, expected = stats.chi2_contingency(crosstab)\n",
    "# Interpretation\n",
    "print('p-value: ',p)\n",
    "alpha = 0.05\n",
    "if p > alpha:\n",
    "    print('H0: the two samples are independent.')\n",
    "else:\n",
    "    print('H1: there is a dependency between the samples.')"
   ]
  },
  {
   "cell_type": "markdown",
   "metadata": {},
   "source": [
    "####  Relation between Client's housing situation type on loan repayment"
   ]
  },
  {
   "cell_type": "code",
   "execution_count": 32,
   "metadata": {},
   "outputs": [
    {
     "name": "stdout",
     "output_type": "stream",
     "text": [
      "p-value:  6.836805842473723e-62\n",
      "H1: there is a dependency between the samples.\n"
     ]
    }
   ],
   "source": [
    "dummies = pd.get_dummies(df['NAME_HOUSING_TYPE'])\n",
    "for series in dummies:\n",
    "    crosstab = pd.crosstab(dummies[f\"{series}\"], df['TARGET'])\n",
    "    chi2, p, dof, expected = stats.chi2_contingency(crosstab)\n",
    "# Interpretation\n",
    "print('p-value: ',p)\n",
    "alpha = 0.05\n",
    "if p > alpha:\n",
    "    print('H0: the two samples are independent.')\n",
    "else:\n",
    "    print('H1: there is a dependency between the samples.')"
   ]
  },
  {
   "cell_type": "markdown",
   "metadata": {},
   "source": [
    "####  Relation between Client's occupation type on loan repayment"
   ]
  },
  {
   "cell_type": "code",
   "execution_count": 33,
   "metadata": {},
   "outputs": [
    {
     "name": "stdout",
     "output_type": "stream",
     "text": [
      "p-value:  1.901321182393792e-05\n",
      "H1: there is a dependency between the samples.\n"
     ]
    }
   ],
   "source": [
    "dummies = pd.get_dummies(df['OCCUPATION_TYPE'])\n",
    "for series in dummies:\n",
    "    crosstab = pd.crosstab(dummies[f\"{series}\"], df['TARGET'])\n",
    "    chi2, p, dof, expected = stats.chi2_contingency(crosstab)\n",
    "# Interpretation\n",
    "print('p-value: ',p)\n",
    "alpha = 0.05\n",
    "if p > alpha:\n",
    "    print('H0: the two samples are independent.')\n",
    "else:\n",
    "    print('H1: there is a dependency between the samples.')"
   ]
  },
  {
   "cell_type": "markdown",
   "metadata": {},
   "source": [
    "####  Relation between on which day client's applied for loan on loan repayment"
   ]
  },
  {
   "cell_type": "code",
   "execution_count": 34,
   "metadata": {},
   "outputs": [
    {
     "name": "stdout",
     "output_type": "stream",
     "text": [
      "p-value:  0.4278456292130821\n",
      "H0: the two samples are independent.\n"
     ]
    }
   ],
   "source": [
    "dummies = pd.get_dummies(df['WEEKDAY_APPR_PROCESS_START'])\n",
    "for series in dummies:\n",
    "    crosstab = pd.crosstab(dummies[f\"{series}\"], df['TARGET'])\n",
    "    chi2, p, dof, expected = stats.chi2_contingency(crosstab)\n",
    "# Interpretation\n",
    "print('p-value: ',p)\n",
    "alpha = 0.05\n",
    "if p > alpha:\n",
    "    print('H0: the two samples are independent.')\n",
    "else:\n",
    "    print('H1: there is a dependency between the samples.')"
   ]
  },
  {
   "cell_type": "markdown",
   "metadata": {},
   "source": [
    "####  Relation between Client's organization type on loan repayment"
   ]
  },
  {
   "cell_type": "code",
   "execution_count": 35,
   "metadata": {},
   "outputs": [
    {
     "name": "stdout",
     "output_type": "stream",
     "text": [
      "p-value:  2.309529940469931e-143\n",
      "H1: there is a dependency between the samples.\n"
     ]
    }
   ],
   "source": [
    "dummies = pd.get_dummies(df['ORGANIZATION_TYPE'])\n",
    "for series in dummies:\n",
    "    crosstab = pd.crosstab(dummies[f\"{series}\"], df['TARGET'])\n",
    "    chi2, p, dof, expected = stats.chi2_contingency(crosstab)\n",
    "# Interpretation\n",
    "print('p-value: ',p)\n",
    "alpha = 0.05\n",
    "if p > alpha:\n",
    "    print('H0: the two samples are independent.')\n",
    "else:\n",
    "    print('H1: there is a dependency between the samples.')"
   ]
  },
  {
   "cell_type": "markdown",
   "metadata": {},
   "source": [
    "####  Relation between Client's building information on loan repayment"
   ]
  },
  {
   "cell_type": "code",
   "execution_count": 36,
   "metadata": {},
   "outputs": [
    {
     "name": "stdout",
     "output_type": "stream",
     "text": [
      "p-value:  4.862113352578507e-10\n",
      "H1: there is a dependency between the samples.\n"
     ]
    }
   ],
   "source": [
    "dummies = pd.get_dummies(df['FONDKAPREMONT_MODE'])\n",
    "for series in dummies:\n",
    "    crosstab = pd.crosstab(dummies[f\"{series}\"], df['TARGET'])\n",
    "    chi2, p, dof, expected = stats.chi2_contingency(crosstab)\n",
    "# Interpretation\n",
    "print('p-value: ',p)\n",
    "alpha = 0.05\n",
    "if p > alpha:\n",
    "    print('H0: the two samples are independent.')\n",
    "else:\n",
    "    print('H1: there is a dependency between the samples.')"
   ]
  },
  {
   "cell_type": "code",
   "execution_count": 37,
   "metadata": {},
   "outputs": [
    {
     "name": "stdout",
     "output_type": "stream",
     "text": [
      "p-value:  0.6228320422210112\n",
      "H0: the two samples are independent.\n"
     ]
    }
   ],
   "source": [
    "dummies = pd.get_dummies(df['HOUSETYPE_MODE'])\n",
    "for series in dummies:\n",
    "    crosstab = pd.crosstab(dummies[f\"{series}\"], df['TARGET'])\n",
    "    chi2, p, dof, expected = stats.chi2_contingency(crosstab)\n",
    "# Interpretation\n",
    "print('p-value: ',p)\n",
    "alpha = 0.05\n",
    "if p > alpha:\n",
    "    print('H0: the two samples are independent.')\n",
    "else:\n",
    "    print('H1: there is a dependency between the samples.')"
   ]
  },
  {
   "cell_type": "code",
   "execution_count": 38,
   "metadata": {},
   "outputs": [
    {
     "name": "stdout",
     "output_type": "stream",
     "text": [
      "p-value:  1.1816375261140862e-05\n",
      "H1: there is a dependency between the samples.\n"
     ]
    }
   ],
   "source": [
    "dummies = pd.get_dummies(df['WALLSMATERIAL_MODE'])\n",
    "for series in dummies:\n",
    "    crosstab = pd.crosstab(dummies[f\"{series}\"], df['TARGET'])\n",
    "    chi2, p, dof, expected = stats.chi2_contingency(crosstab)\n",
    "# Interpretation\n",
    "print('p-value: ',p)\n",
    "alpha = 0.05\n",
    "if p > alpha:\n",
    "    print('H0: the two samples are independent.')\n",
    "else:\n",
    "    print('H1: there is a dependency between the samples.')"
   ]
  },
  {
   "cell_type": "code",
   "execution_count": 39,
   "metadata": {},
   "outputs": [
    {
     "name": "stdout",
     "output_type": "stream",
     "text": [
      "p-value:  0.008305386463150065\n",
      "H1: there is a dependency between the samples.\n"
     ]
    }
   ],
   "source": [
    "dummies = pd.get_dummies(df['EMERGENCYSTATE_MODE'])\n",
    "for series in dummies:\n",
    "    crosstab = pd.crosstab(dummies[f\"{series}\"], df['TARGET'])\n",
    "    chi2, p, dof, expected = stats.chi2_contingency(crosstab)\n",
    "# Interpretation\n",
    "print('p-value: ',p)\n",
    "alpha = 0.05\n",
    "if p > alpha:\n",
    "    print('H0: the two samples are independent.')\n",
    "else:\n",
    "    print('H1: there is a dependency between the samples.')"
   ]
  },
  {
   "cell_type": "markdown",
   "metadata": {},
   "source": [
    "The features of the data is inspected here and the insights gained from this statistical analysis will help in the model building."
   ]
  }
 ],
 "metadata": {
  "kernelspec": {
   "display_name": "Python [conda env:pm36] *",
   "language": "python",
   "name": "conda-env-pm36-py"
  },
  "language_info": {
   "codemirror_mode": {
    "name": "ipython",
    "version": 3
   },
   "file_extension": ".py",
   "mimetype": "text/x-python",
   "name": "python",
   "nbconvert_exporter": "python",
   "pygments_lexer": "ipython3",
   "version": "3.6.7"
  }
 },
 "nbformat": 4,
 "nbformat_minor": 2
}
