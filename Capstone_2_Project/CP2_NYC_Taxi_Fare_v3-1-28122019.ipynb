{
 "cells": [
  {
   "cell_type": "markdown",
   "metadata": {},
   "source": [
    "__We will use the following methods to prepare the model__\n",
    "\n",
    "1. Data size used: 2 million out of 55 million\n",
    "2. Dropped all rows with missing values (14 rows)\n",
    "3. We have used those records with fare between \\\\$2.5 and \\\\$100\n",
    "4. Passenger count variable: we have considered values 1-5 only \n",
    "5. Location Data: Rows with outliers are removed\n",
    "\n",
    "6. Feature Engineering: \n",
    "    New Features: Distance (haversine), year, month, day of the month, week, hour, lat_diff, lon_diff\n",
    "\n",
    "7. Deleted records when distance=0 to increase model accuracy\n",
    "\n",
    "8. One-hot encoding for categorical columns: year, month, day of the month, week, hour, passenger_count\n",
    "\n",
    "9. Machine Learning Model:\n",
    "    i.  lat_diff, lon_diff produces a better result than data sets with distance variable.\n",
    "    \n",
    "    ii. Parameter tuning for light gbm model using GridSearchCV:\n",
    "                        'learning_rate': 0.1, 'max_depth': 10, 'num_leaves': 31\n",
    "    \n",
    "    iii. Model accuracy with Multicollinearity:\n",
    "            a. Multicollinearity Analysis with lat_lon_diff: \n",
    "                Features Removed: wk_Friday, dt_Afternoon, mn_April, dd_1, yr_2009, pc_1\n",
    "            \n",
    "            b. Accuracy:\n",
    "                lgbm: Validation:          rmse = 3.67 \t mape = 18.87\n",
    "                lgbm v2: Validation:       rmse = 3.65 \t mape = 18.67\n",
    "                random_forest: Validation: rmse = 3.74 \t mape = 19.08\n",
    "                xgboost: Validation:       rmse = 8.6 \t  mape = 31.35\n",
    "            \n",
    "            c. Model accuracy with Multicollinearity:\n",
    "                lgbm: Validation:          rmse = 3.67 \t mape = 18.93\n",
    "                lgbm v2: Validation:       rmse = 3.65 \t mape = 18.66\n",
    "                random_forest: Validation: rmse = 3.75 \t mape = 19.94\n",
    "                \n",
    "__Note:__\n",
    "Model accuracy with and without Multicollinearity Multicollinearity are almost identical. "
   ]
  },
  {
   "cell_type": "markdown",
   "metadata": {},
   "source": [
    "## Capstone Project : New York City Taxi Fare Prediction\n",
    "Bhaskar Das\n",
    "Springboard Data Science Career Track, May 2019 cohort\n",
    "\n",
    "### Import Libraries"
   ]
  },
  {
   "cell_type": "code",
   "execution_count": 49,
   "metadata": {},
   "outputs": [],
   "source": [
    "# load some default Python modules\n",
    "import numpy as np # Linear algebra\n",
    "import pandas as pd # Data processing, CSV file I/O\n",
    "pd.set_option('display.float_format', lambda x: '%.3f' % x) # Pandas display options\n",
    "#r_seed = 100 # Set random seed \n",
    "\n",
    "from tqdm import tqdm # Decorate an iterable object. Used for reading large input file\n",
    "\n",
    "import os # Reading the input files we have access to\n",
    "import warnings # Ignore warnings\n",
    "warnings.simplefilter(\"ignore\")\n",
    "\n",
    "# Visualizations\n",
    "import matplotlib.pyplot as plt\n",
    "%matplotlib inline\n",
    "#plt.style.use('seaborn-whitegrid')\n",
    "plt.style.use('fivethirtyeight')\n",
    "plt.rcParams['font.size'] = 18\n",
    "\n",
    "import seaborn as sns\n",
    "palette = sns.color_palette('Paired', 10)"
   ]
  },
  {
   "cell_type": "markdown",
   "metadata": {},
   "source": [
    "### 1.1 Reading Data\n",
    "\n",
    "The data contain 55 million rows out of which we will work with only 2 million rows to speed up our model. Later we will use more data to evaluate the accuracy of our model. For the longitude and latitude values, we will use float32 insted of float64 to train data faster. While reading the data, we will treat the variable \"pickup_datetime\" as a date and drop the variable \"key\" since it is a unique identifier."
   ]
  },
  {
   "cell_type": "code",
   "execution_count": 7,
   "metadata": {},
   "outputs": [
    {
     "name": "stderr",
     "output_type": "stream",
     "text": [
      "28it [01:42,  3.66s/it]\n"
     ]
    },
    {
     "name": "stdout",
     "output_type": "stream",
     "text": [
      "Wall time: 1min 45s\n"
     ]
    },
    {
     "data": {
      "text/html": [
       "<div>\n",
       "<style scoped>\n",
       "    .dataframe tbody tr th:only-of-type {\n",
       "        vertical-align: middle;\n",
       "    }\n",
       "\n",
       "    .dataframe tbody tr th {\n",
       "        vertical-align: top;\n",
       "    }\n",
       "\n",
       "    .dataframe thead th {\n",
       "        text-align: right;\n",
       "    }\n",
       "</style>\n",
       "<table border=\"1\" class=\"dataframe\">\n",
       "  <thead>\n",
       "    <tr style=\"text-align: right;\">\n",
       "      <th></th>\n",
       "      <th>fare_amount</th>\n",
       "      <th>pickup_datetime</th>\n",
       "      <th>pickup_longitude</th>\n",
       "      <th>pickup_latitude</th>\n",
       "      <th>dropoff_longitude</th>\n",
       "      <th>dropoff_latitude</th>\n",
       "      <th>passenger_count</th>\n",
       "    </tr>\n",
       "  </thead>\n",
       "  <tbody>\n",
       "    <tr>\n",
       "      <td>0</td>\n",
       "      <td>4.500</td>\n",
       "      <td>2009-06-15 17:26:00+00:00</td>\n",
       "      <td>-73.844</td>\n",
       "      <td>40.721</td>\n",
       "      <td>-73.842</td>\n",
       "      <td>40.712</td>\n",
       "      <td>1</td>\n",
       "    </tr>\n",
       "    <tr>\n",
       "      <td>1</td>\n",
       "      <td>16.900</td>\n",
       "      <td>2010-01-05 16:52:00+00:00</td>\n",
       "      <td>-74.016</td>\n",
       "      <td>40.711</td>\n",
       "      <td>-73.979</td>\n",
       "      <td>40.782</td>\n",
       "      <td>1</td>\n",
       "    </tr>\n",
       "    <tr>\n",
       "      <td>2</td>\n",
       "      <td>5.700</td>\n",
       "      <td>2011-08-18 00:35:00+00:00</td>\n",
       "      <td>-73.983</td>\n",
       "      <td>40.761</td>\n",
       "      <td>-73.991</td>\n",
       "      <td>40.751</td>\n",
       "      <td>2</td>\n",
       "    </tr>\n",
       "    <tr>\n",
       "      <td>3</td>\n",
       "      <td>7.700</td>\n",
       "      <td>2012-04-21 04:30:00+00:00</td>\n",
       "      <td>-73.987</td>\n",
       "      <td>40.733</td>\n",
       "      <td>-73.992</td>\n",
       "      <td>40.758</td>\n",
       "      <td>1</td>\n",
       "    </tr>\n",
       "    <tr>\n",
       "      <td>4</td>\n",
       "      <td>5.300</td>\n",
       "      <td>2010-03-09 07:51:00+00:00</td>\n",
       "      <td>-73.968</td>\n",
       "      <td>40.768</td>\n",
       "      <td>-73.957</td>\n",
       "      <td>40.784</td>\n",
       "      <td>1</td>\n",
       "    </tr>\n",
       "  </tbody>\n",
       "</table>\n",
       "</div>"
      ],
      "text/plain": [
       "   fare_amount           pickup_datetime  pickup_longitude  pickup_latitude  \\\n",
       "0        4.500 2009-06-15 17:26:00+00:00           -73.844           40.721   \n",
       "1       16.900 2010-01-05 16:52:00+00:00           -74.016           40.711   \n",
       "2        5.700 2011-08-18 00:35:00+00:00           -73.983           40.761   \n",
       "3        7.700 2012-04-21 04:30:00+00:00           -73.987           40.733   \n",
       "4        5.300 2010-03-09 07:51:00+00:00           -73.968           40.768   \n",
       "\n",
       "   dropoff_longitude  dropoff_latitude  passenger_count  \n",
       "0            -73.842            40.712                1  \n",
       "1            -73.979            40.782                1  \n",
       "2            -73.991            40.751                2  \n",
       "3            -73.992            40.758                1  \n",
       "4            -73.957            40.784                1  "
      ]
     },
     "execution_count": 7,
     "metadata": {},
     "output_type": "execute_result"
    }
   ],
   "source": [
    "%%time\n",
    "\n",
    "TRAIN_PATH = './input/train.csv'\n",
    "\n",
    "# Set columns to most suitable type to optimize for memory usage\n",
    "traintypes = {'fare_amount': 'float32', #'key':'object', # dropped ID variable\n",
    "              'pickup_datetime': 'str', \n",
    "              'pickup_longitude': 'float32',\n",
    "              'pickup_latitude': 'float32',\n",
    "              'dropoff_longitude': 'float32',\n",
    "              'dropoff_latitude': 'float32',\n",
    "              'passenger_count': 'uint8'}\n",
    "\n",
    "cols = list(traintypes.keys())\n",
    "\n",
    "chunksize = 2_000_000\n",
    "\n",
    "df_list = [] # list to hold the batch dataframe\n",
    "\n",
    "for df_chunk in tqdm(pd.read_csv(TRAIN_PATH, usecols=cols, dtype=traintypes, chunksize=chunksize)):\n",
    "     \n",
    "    # Using parse_dates would be much slower\n",
    "    df_chunk['pickup_datetime'] = df_chunk['pickup_datetime'].str.slice(0, 16)\n",
    "    df_chunk['pickup_datetime'] = pd.to_datetime(df_chunk['pickup_datetime'], utc=True, format='%Y-%m-%d %H:%M')\n",
    "    \n",
    "    # Alternatively, append the chunk to list and merge all\n",
    "    df_list.append(df_chunk) \n",
    "    \n",
    "# Merge all dataframes into one dataframe\n",
    "train_df_all = pd.concat(df_list)\n",
    "\n",
    "# Delete the dataframe list to release memory\n",
    "del df_list\n",
    "\n",
    "# Use only chunksize (2 million) data sets for training\n",
    "train_df = train_df_all.head(chunksize)    \n",
    "\n",
    "# Delete train_df_all which contain all 55 million rows\n",
    "del train_df_all\n",
    "\n",
    "train_df.head()"
   ]
  },
  {
   "cell_type": "code",
   "execution_count": 10,
   "metadata": {},
   "outputs": [
    {
     "data": {
      "text/html": [
       "<div>\n",
       "<style scoped>\n",
       "    .dataframe tbody tr th:only-of-type {\n",
       "        vertical-align: middle;\n",
       "    }\n",
       "\n",
       "    .dataframe tbody tr th {\n",
       "        vertical-align: top;\n",
       "    }\n",
       "\n",
       "    .dataframe thead th {\n",
       "        text-align: right;\n",
       "    }\n",
       "</style>\n",
       "<table border=\"1\" class=\"dataframe\">\n",
       "  <thead>\n",
       "    <tr style=\"text-align: right;\">\n",
       "      <th></th>\n",
       "      <th>fare_amount</th>\n",
       "      <th>pickup_longitude</th>\n",
       "      <th>pickup_latitude</th>\n",
       "      <th>dropoff_longitude</th>\n",
       "      <th>dropoff_latitude</th>\n",
       "      <th>passenger_count</th>\n",
       "    </tr>\n",
       "  </thead>\n",
       "  <tbody>\n",
       "    <tr>\n",
       "      <td>count</td>\n",
       "      <td>2000000.000</td>\n",
       "      <td>2000000.000</td>\n",
       "      <td>2000000.000</td>\n",
       "      <td>1999986.000</td>\n",
       "      <td>1999986.000</td>\n",
       "      <td>2000000.000</td>\n",
       "    </tr>\n",
       "    <tr>\n",
       "      <td>mean</td>\n",
       "      <td>11.348</td>\n",
       "      <td>-72.523</td>\n",
       "      <td>39.930</td>\n",
       "      <td>-72.524</td>\n",
       "      <td>39.928</td>\n",
       "      <td>1.684</td>\n",
       "    </tr>\n",
       "    <tr>\n",
       "      <td>std</td>\n",
       "      <td>9.853</td>\n",
       "      <td>12.868</td>\n",
       "      <td>7.983</td>\n",
       "      <td>12.775</td>\n",
       "      <td>10.324</td>\n",
       "      <td>1.315</td>\n",
       "    </tr>\n",
       "    <tr>\n",
       "      <td>min</td>\n",
       "      <td>-62.000</td>\n",
       "      <td>-3377.681</td>\n",
       "      <td>-3458.665</td>\n",
       "      <td>-3383.297</td>\n",
       "      <td>-3461.541</td>\n",
       "      <td>0.000</td>\n",
       "    </tr>\n",
       "    <tr>\n",
       "      <td>25%</td>\n",
       "      <td>6.000</td>\n",
       "      <td>-73.992</td>\n",
       "      <td>40.735</td>\n",
       "      <td>-73.991</td>\n",
       "      <td>40.734</td>\n",
       "      <td>1.000</td>\n",
       "    </tr>\n",
       "    <tr>\n",
       "      <td>50%</td>\n",
       "      <td>8.500</td>\n",
       "      <td>-73.982</td>\n",
       "      <td>40.753</td>\n",
       "      <td>-73.980</td>\n",
       "      <td>40.753</td>\n",
       "      <td>1.000</td>\n",
       "    </tr>\n",
       "    <tr>\n",
       "      <td>75%</td>\n",
       "      <td>12.500</td>\n",
       "      <td>-73.967</td>\n",
       "      <td>40.767</td>\n",
       "      <td>-73.964</td>\n",
       "      <td>40.768</td>\n",
       "      <td>2.000</td>\n",
       "    </tr>\n",
       "    <tr>\n",
       "      <td>max</td>\n",
       "      <td>1273.310</td>\n",
       "      <td>2856.442</td>\n",
       "      <td>2621.628</td>\n",
       "      <td>3414.307</td>\n",
       "      <td>3345.917</td>\n",
       "      <td>208.000</td>\n",
       "    </tr>\n",
       "  </tbody>\n",
       "</table>\n",
       "</div>"
      ],
      "text/plain": [
       "       fare_amount  pickup_longitude  pickup_latitude  dropoff_longitude  \\\n",
       "count  2000000.000       2000000.000      2000000.000        1999986.000   \n",
       "mean        11.348           -72.523           39.930            -72.524   \n",
       "std          9.853            12.868            7.983             12.775   \n",
       "min        -62.000         -3377.681        -3458.665          -3383.297   \n",
       "25%          6.000           -73.992           40.735            -73.991   \n",
       "50%          8.500           -73.982           40.753            -73.980   \n",
       "75%         12.500           -73.967           40.767            -73.964   \n",
       "max       1273.310          2856.442         2621.628           3414.307   \n",
       "\n",
       "       dropoff_latitude  passenger_count  \n",
       "count       1999986.000      2000000.000  \n",
       "mean             39.928            1.684  \n",
       "std              10.324            1.315  \n",
       "min           -3461.541            0.000  \n",
       "25%              40.734            1.000  \n",
       "50%              40.753            1.000  \n",
       "75%              40.768            2.000  \n",
       "max            3345.917          208.000  "
      ]
     },
     "execution_count": 10,
     "metadata": {},
     "output_type": "execute_result"
    }
   ],
   "source": [
    "# check statistics of the features\n",
    "train_df.describe()"
   ]
  },
  {
   "cell_type": "markdown",
   "metadata": {},
   "source": [
    "We can observe that there are a number of outliers present in the data:\n",
    "\n",
    "- fare_amount contains negative value.\n",
    "- the latitude and longitude values.\n",
    "- passenger_count contains 0 value."
   ]
  },
  {
   "cell_type": "markdown",
   "metadata": {},
   "source": [
    "### 2. Missing value treatment\n",
    "\n",
    "We will remove observations with missing entries."
   ]
  },
  {
   "cell_type": "raw",
   "metadata": {},
   "source": [
    "# Check missing values\n",
    "print(train_df.isnull().sum())"
   ]
  },
  {
   "cell_type": "markdown",
   "metadata": {},
   "source": [
    "Only two columns contains missing values and we have deleted those rows."
   ]
  },
  {
   "cell_type": "code",
   "execution_count": 11,
   "metadata": {},
   "outputs": [
    {
     "name": "stdout",
     "output_type": "stream",
     "text": [
      "Old size: 2000000\n",
      "New size: 1999986\n",
      "\n",
      "fare_amount          0\n",
      "pickup_datetime      0\n",
      "pickup_longitude     0\n",
      "pickup_latitude      0\n",
      "dropoff_longitude    0\n",
      "dropoff_latitude     0\n",
      "passenger_count      0\n",
      "dtype: int64\n"
     ]
    }
   ],
   "source": [
    "print('Old size: %d' % len(train_df))\n",
    "train_df = train_df.dropna()\n",
    "#train_df = train_df[train_df.fare_amount>=0]\n",
    "print('New size: %d\\n' % len(train_df))\n",
    "\n",
    "# Check missing values\n",
    "print(train_df.isnull().sum())\n",
    "#train_df.info()"
   ]
  },
  {
   "cell_type": "markdown",
   "metadata": {},
   "source": [
    "### 3. Outlier Detection and Treatment"
   ]
  },
  {
   "cell_type": "markdown",
   "metadata": {},
   "source": [
    "#### Fare Amount"
   ]
  },
  {
   "cell_type": "code",
   "execution_count": 12,
   "metadata": {},
   "outputs": [],
   "source": [
    "# Data backup\n",
    "train_df2 = train_df.copy()\n",
    "# load backup data\n",
    "# train_df = train_df2.copy()"
   ]
  },
  {
   "cell_type": "raw",
   "metadata": {},
   "source": [
    "# Examine the Target Variable\n",
    "plt.figure(figsize = (10, 6))\n",
    "sns.distplot(train_df['fare_amount']);\n",
    "plt.title('Distribution of Fare');"
   ]
  },
  {
   "cell_type": "code",
   "execution_count": 13,
   "metadata": {},
   "outputs": [
    {
     "name": "stdout",
     "output_type": "stream",
     "text": [
      "Negative fares:  77\n",
      "$0 fares:  56\n",
      "Less than minimum $2.5 fares:  155\n",
      "Fares between $2.5 and $100:  1999046\n",
      "Fares greater than $100:  785\n"
     ]
    }
   ],
   "source": [
    "print(\"Negative fares: \", len(train_df[train_df['fare_amount'] < 0]))\n",
    "print(\"$0 fares: \", len(train_df[train_df['fare_amount'] == 0]))\n",
    "print(\"Less than minimum $2.5 fares: \", len(train_df[train_df['fare_amount'] < 2.5]))\n",
    "print(\"Fares between $2.5 and $100: \", len(train_df[train_df['fare_amount'].between(left=2.5,right=100)]))\n",
    "print(\"Fares greater than $100: \", len(train_df[train_df['fare_amount'] > 100]))"
   ]
  },
  {
   "cell_type": "markdown",
   "metadata": {},
   "source": [
    "Most of the rides lies between \\\\$2.5 and \\\\$100. "
   ]
  },
  {
   "cell_type": "raw",
   "metadata": {},
   "source": [
    "def ecdf(x):\n",
    "    \"\"\"Empirical cumulative distribution function of a variable\"\"\"\n",
    "    # Sort in ascending order\n",
    "    x = np.sort(x)\n",
    "    n = len(x)\n",
    "    \n",
    "    # Go from 1/n to 1\n",
    "    y = np.arange(1, n + 1, 1) / n\n",
    "    \n",
    "    return x, y\n",
    "\n",
    "fare_100 = train_df[train_df['fare_amount'].between(left=2.5,right=100)]\n",
    "\n",
    "xs, ys = ecdf(fare_100['fare_amount'])\n",
    "plt.figure(figsize = (8, 6))\n",
    "plt.plot(xs, ys, '.')\n",
    "plt.ylabel('Percentile'); plt.title('ECDF of Fare Amount'); plt.xlabel('Fare Amount ($)');"
   ]
  },
  {
   "cell_type": "markdown",
   "metadata": {},
   "source": [
    "From the ECDF plot, we can observe that most of the rides are below \\\\$20. Nest, we will remove fares less than \\\\$2.5, which is the minimum fare, and greater than \\\\$100."
   ]
  },
  {
   "cell_type": "code",
   "execution_count": 14,
   "metadata": {},
   "outputs": [
    {
     "name": "stdout",
     "output_type": "stream",
     "text": [
      "Old size: 1999986\n",
      "New size: 1999046\n",
      "count   1999046.000\n",
      "mean         11.297\n",
      "std           9.415\n",
      "min           2.500\n",
      "25%           6.000\n",
      "50%           8.500\n",
      "75%          12.500\n",
      "max         100.000\n",
      "Name: fare_amount, dtype: float64\n"
     ]
    }
   ],
   "source": [
    "# from collections import Counter\n",
    "\n",
    "# print(Counter(train_df['fare_amount']<2.5))\n",
    "print('Old size: %d' % len(train_df))\n",
    "\n",
    "# Remove fare < $2.5\n",
    "train_df = train_df.drop(train_df[train_df['fare_amount']<2.5].index, axis=0)\n",
    "# Remove fare > $100\n",
    "train_df = train_df.drop(train_df[train_df['fare_amount']>100.0].index, axis=0)\n",
    "\n",
    "print('New size: %d' % len(train_df))\n",
    "#print(train_df.shape)\n",
    "\n",
    "#no more negative values in the fare field\n",
    "print(train_df['fare_amount'].describe())\n",
    "#train_df['fare_amount'].sort_values(ascending=False)\n",
    "#train_df['fare_amount'].value_counts().sort_values(ascending=False)\n",
    "#train_df['fare_amount'].value_counts().sort_index(ascending=False).head(20)"
   ]
  },
  {
   "cell_type": "raw",
   "metadata": {},
   "source": [
    "print(\"Negative fares: \", len(train_df[train_df['fare_amount'] < 0]))\n",
    "print(\"$0 fares: \", len(train_df[train_df['fare_amount'] == 0]))\n",
    "print(\"Less than minimum $2.5 fares: \", len(train_df[train_df['fare_amount'] < 2.5]))\n",
    "print(\"Fares between $2.5 and $100: \", len(train_df[train_df['fare_amount'].between(left=2.5,right=100)]))\n",
    "print(\"Fares greater than $100: \", len(train_df[train_df['fare_amount'] > 100]))"
   ]
  },
  {
   "cell_type": "raw",
   "metadata": {},
   "source": [
    "# Fare into a separate dataframe\n",
    "fare_data = train_df[['fare_amount']]\n",
    "\n",
    "# Bin the age data\n",
    "fare_data['fare_bin'] = pd.cut(train_df['fare_amount'], bins = np.linspace(2.5, 100, num = 65))\n",
    "\n",
    "plt.figure(figsize = (20, 6))\n",
    "\n",
    "# Graph the fare bins as a bar plot\n",
    "fare_data['fare_bin'].value_counts().sort_index().plot.bar(color = 'b', edgecolor = 'k');\n",
    "\n",
    "# Plot labeling\n",
    "plt.xticks(rotation = 75); plt.xlabel('Taxi fare in $USD'); plt.ylabel('Count')\n",
    "plt.title('Taxi fare');\n"
   ]
  },
  {
   "cell_type": "markdown",
   "metadata": {},
   "source": [
    "The minimum taxi fares in New York City starts from \\\\$2.5. Therefore, all the records having values less than \\\\$2.50 are removed. "
   ]
  },
  {
   "cell_type": "markdown",
   "metadata": {},
   "source": [
    "#### Passenger Counts"
   ]
  },
  {
   "cell_type": "code",
   "execution_count": 15,
   "metadata": {},
   "outputs": [],
   "source": [
    "# data backup\n",
    "train_df3 = train_df.copy()\n",
    "# load backup data\n",
    "# train_df = train_df3.copy()"
   ]
  },
  {
   "cell_type": "raw",
   "metadata": {},
   "source": [
    "train_df['passenger_count'].value_counts().plot.bar(color = 'b', edgecolor = 'k');\n",
    "plt.title('Passenger Counts'); plt.xlabel('Number of Passengers'); plt.ylabel('Count');"
   ]
  },
  {
   "cell_type": "markdown",
   "metadata": {},
   "source": [
    "We will assume that the taxi is a sedan and can accomodate at most 5 passengers. Therefore, all recordes will be deleted where passenger counts is more than 5. Also, we will assume that a taxi should have at least 1 passenger."
   ]
  },
  {
   "cell_type": "code",
   "execution_count": 16,
   "metadata": {},
   "outputs": [
    {
     "name": "stdout",
     "output_type": "stream",
     "text": [
      "Old size: 1999046\n",
      "New size: 1949939\n"
     ]
    }
   ],
   "source": [
    "print('Old size: %d' % len(train_df))\n",
    "# remove passenger count > 5\n",
    "train_df = train_df.loc[train_df['passenger_count'] < 6]\n",
    "# remove records with passenger count == 0\n",
    "train_df = train_df.loc[train_df['passenger_count'] > 0]\n",
    "print('New size: %d' % len(train_df))"
   ]
  },
  {
   "cell_type": "raw",
   "metadata": {},
   "source": [
    "train_df['passenger_count'].value_counts().plot.bar(color = 'b', edgecolor = 'k');\n",
    "plt.title('Passenger Counts'); plt.xlabel('Number of Passengers'); plt.ylabel('Count');"
   ]
  },
  {
   "cell_type": "markdown",
   "metadata": {},
   "source": [
    "#### Location Data"
   ]
  },
  {
   "cell_type": "code",
   "execution_count": 18,
   "metadata": {},
   "outputs": [],
   "source": [
    "# data backup\n",
    "train_df4 = train_df.copy()\n",
    "# load backup data\n",
    "# train_df = train_df4.copy()"
   ]
  },
  {
   "cell_type": "markdown",
   "metadata": {},
   "source": [
    "Remove outlier from location data."
   ]
  },
  {
   "cell_type": "code",
   "execution_count": 19,
   "metadata": {},
   "outputs": [
    {
     "name": "stdout",
     "output_type": "stream",
     "text": [
      "Old size: 1949939\n",
      "New size: 1909426\n"
     ]
    }
   ],
   "source": [
    "print('Old size: %d' % len(train_df))\n",
    "# Remove latitude and longtiude outliers\n",
    "train_df = train_df.loc[train_df['pickup_latitude'].between(40, 42)]\n",
    "train_df = train_df.loc[train_df['pickup_longitude'].between(-75, -72)]\n",
    "train_df = train_df.loc[train_df['dropoff_latitude'].between(40, 42)]\n",
    "train_df = train_df.loc[train_df['dropoff_longitude'].between(-75, -72)]\n",
    "\n",
    "print('New size: %d' % len(train_df))"
   ]
  },
  {
   "cell_type": "markdown",
   "metadata": {},
   "source": [
    "### 4. Exploratory Data Analysis (EDA)\n",
    "\n",
    "We will use vizulization methods to find trends, anomalies, patterns, or relationships within the data. EDA helps us to learn more about our data.\n",
    "\n",
    "#### Correlation Matrix \n",
    "\n",
    "The Pearson correlation coefficient gives the correlations between a variable and the target. It gives us an idea of possible relationships within the data."
   ]
  },
  {
   "cell_type": "code",
   "execution_count": 20,
   "metadata": {},
   "outputs": [],
   "source": [
    "# data backup\n",
    "train_df5 = train_df.copy()\n",
    "# load backup data\n",
    "# train_df = train_df5.copy()"
   ]
  },
  {
   "cell_type": "raw",
   "metadata": {},
   "source": [
    "# Find correlations with the fare_amount and sort\n",
    "correlations = train_df.corr()['fare_amount'].sort_values()\n",
    "\n",
    "# Display correlations\n",
    "print('Correlations:\\n', correlations.tail(15))"
   ]
  },
  {
   "cell_type": "markdown",
   "metadata": {},
   "source": [
    "The passenger_count has positive correlation with the fare_amount. The increase in the passenger_count increase fare_amount. "
   ]
  },
  {
   "cell_type": "markdown",
   "metadata": {},
   "source": [
    "#### Relationship between number of passengers and fare"
   ]
  },
  {
   "cell_type": "raw",
   "metadata": {},
   "source": [
    "plt.figure(figsize=(10,5))\n",
    "plt.hist(train_df['passenger_count'], bins=15)\n",
    "plt.xlabel('No. of Passengers')\n",
    "plt.ylabel('Frequency')"
   ]
  },
  {
   "cell_type": "markdown",
   "metadata": {},
   "source": [
    "Single passengers are the most frequent travellers."
   ]
  },
  {
   "cell_type": "raw",
   "metadata": {},
   "source": [
    "plt.figure(figsize=(10,5))\n",
    "plt.scatter(x=train_df['passenger_count'], y=train_df['fare_amount'], s=1.5)\n",
    "plt.xlabel('No. of Passengers')\n",
    "plt.ylabel('Fare')"
   ]
  },
  {
   "cell_type": "markdown",
   "metadata": {},
   "source": [
    "The cabs receive heighest fares when thay carry single passengers."
   ]
  },
  {
   "cell_type": "markdown",
   "metadata": {},
   "source": [
    "### 4. Feature Engineering"
   ]
  },
  {
   "cell_type": "markdown",
   "metadata": {},
   "source": [
    "We will create new features out of the data for our machine learning model. \n",
    "\n",
    "We will calulate the distance between the pickup and dropoff from thei latitudes and longitudes values by using the Haversine formula. The distance of each ride will be added to our data."
   ]
  },
  {
   "cell_type": "code",
   "execution_count": 21,
   "metadata": {},
   "outputs": [],
   "source": [
    "# data backup\n",
    "train_df6 = train_df.copy()\n",
    "# load backup data\n",
    "# train_df = train_df6.copy()"
   ]
  },
  {
   "cell_type": "code",
   "execution_count": 22,
   "metadata": {},
   "outputs": [
    {
     "data": {
      "text/html": [
       "<div>\n",
       "<style scoped>\n",
       "    .dataframe tbody tr th:only-of-type {\n",
       "        vertical-align: middle;\n",
       "    }\n",
       "\n",
       "    .dataframe tbody tr th {\n",
       "        vertical-align: top;\n",
       "    }\n",
       "\n",
       "    .dataframe thead th {\n",
       "        text-align: right;\n",
       "    }\n",
       "</style>\n",
       "<table border=\"1\" class=\"dataframe\">\n",
       "  <thead>\n",
       "    <tr style=\"text-align: right;\">\n",
       "      <th></th>\n",
       "      <th>fare_amount</th>\n",
       "      <th>pickup_datetime</th>\n",
       "      <th>pickup_longitude</th>\n",
       "      <th>pickup_latitude</th>\n",
       "      <th>dropoff_longitude</th>\n",
       "      <th>dropoff_latitude</th>\n",
       "      <th>passenger_count</th>\n",
       "      <th>distance</th>\n",
       "    </tr>\n",
       "  </thead>\n",
       "  <tbody>\n",
       "    <tr>\n",
       "      <td>0</td>\n",
       "      <td>4.500</td>\n",
       "      <td>2009-06-15 17:26:00+00:00</td>\n",
       "      <td>-73.844</td>\n",
       "      <td>40.721</td>\n",
       "      <td>-73.842</td>\n",
       "      <td>40.712</td>\n",
       "      <td>1</td>\n",
       "      <td>1.031</td>\n",
       "    </tr>\n",
       "    <tr>\n",
       "      <td>1</td>\n",
       "      <td>16.900</td>\n",
       "      <td>2010-01-05 16:52:00+00:00</td>\n",
       "      <td>-74.016</td>\n",
       "      <td>40.711</td>\n",
       "      <td>-73.979</td>\n",
       "      <td>40.782</td>\n",
       "      <td>1</td>\n",
       "      <td>8.450</td>\n",
       "    </tr>\n",
       "    <tr>\n",
       "      <td>2</td>\n",
       "      <td>5.700</td>\n",
       "      <td>2011-08-18 00:35:00+00:00</td>\n",
       "      <td>-73.983</td>\n",
       "      <td>40.761</td>\n",
       "      <td>-73.991</td>\n",
       "      <td>40.751</td>\n",
       "      <td>2</td>\n",
       "      <td>1.390</td>\n",
       "    </tr>\n",
       "    <tr>\n",
       "      <td>3</td>\n",
       "      <td>7.700</td>\n",
       "      <td>2012-04-21 04:30:00+00:00</td>\n",
       "      <td>-73.987</td>\n",
       "      <td>40.733</td>\n",
       "      <td>-73.992</td>\n",
       "      <td>40.758</td>\n",
       "      <td>1</td>\n",
       "      <td>2.799</td>\n",
       "    </tr>\n",
       "    <tr>\n",
       "      <td>4</td>\n",
       "      <td>5.300</td>\n",
       "      <td>2010-03-09 07:51:00+00:00</td>\n",
       "      <td>-73.968</td>\n",
       "      <td>40.768</td>\n",
       "      <td>-73.957</td>\n",
       "      <td>40.784</td>\n",
       "      <td>1</td>\n",
       "      <td>1.999</td>\n",
       "    </tr>\n",
       "  </tbody>\n",
       "</table>\n",
       "</div>"
      ],
      "text/plain": [
       "   fare_amount           pickup_datetime  pickup_longitude  pickup_latitude  \\\n",
       "0        4.500 2009-06-15 17:26:00+00:00           -73.844           40.721   \n",
       "1       16.900 2010-01-05 16:52:00+00:00           -74.016           40.711   \n",
       "2        5.700 2011-08-18 00:35:00+00:00           -73.983           40.761   \n",
       "3        7.700 2012-04-21 04:30:00+00:00           -73.987           40.733   \n",
       "4        5.300 2010-03-09 07:51:00+00:00           -73.968           40.768   \n",
       "\n",
       "   dropoff_longitude  dropoff_latitude  passenger_count  distance  \n",
       "0            -73.842            40.712                1     1.031  \n",
       "1            -73.979            40.782                1     8.450  \n",
       "2            -73.991            40.751                2     1.390  \n",
       "3            -73.992            40.758                1     2.799  \n",
       "4            -73.957            40.784                1     1.999  "
      ]
     },
     "execution_count": 22,
     "metadata": {},
     "output_type": "execute_result"
    }
   ],
   "source": [
    "def haversine_distance(df, lat1, long1, lat2, long2):\n",
    "    R = 6371  #radius of earth in kilometers\n",
    "    phi1 = np.radians(df[lat1])\n",
    "    phi2 = np.radians(df[lat2])\n",
    "    \n",
    "    delta_phi = np.radians(df[lat2]-df[lat1])\n",
    "    delta_lambda = np.radians(df[long2]-df[long1])\n",
    "    \n",
    "    #a = sin²((φB - φA)/2) + cos φA . cos φB . sin²((λB - λA)/2)\n",
    "    a = np.sin(delta_phi / 2.0) ** 2 + np.cos(phi1) * np.cos(phi2) * np.sin(delta_lambda / 2.0) ** 2\n",
    "    \n",
    "    #c = 2 * atan2( √a, √(1−a) )\n",
    "    c = 2 * np.arctan2(np.sqrt(a), np.sqrt(1-a))\n",
    "    \n",
    "    #d = R*c\n",
    "    d = (R * c) #in kilometers\n",
    "    df['distance'] = d\n",
    "    #return d\n",
    "\n",
    "haversine_distance(train_df, 'pickup_latitude', 'pickup_longitude', 'dropoff_latitude', 'dropoff_longitude')\n",
    "train_df.head()"
   ]
  },
  {
   "cell_type": "code",
   "execution_count": 23,
   "metadata": {},
   "outputs": [
    {
     "data": {
      "text/html": [
       "<div>\n",
       "<style scoped>\n",
       "    .dataframe tbody tr th:only-of-type {\n",
       "        vertical-align: middle;\n",
       "    }\n",
       "\n",
       "    .dataframe tbody tr th {\n",
       "        vertical-align: top;\n",
       "    }\n",
       "\n",
       "    .dataframe thead th {\n",
       "        text-align: right;\n",
       "    }\n",
       "</style>\n",
       "<table border=\"1\" class=\"dataframe\">\n",
       "  <thead>\n",
       "    <tr style=\"text-align: right;\">\n",
       "      <th></th>\n",
       "      <th>fare_amount</th>\n",
       "      <th>passenger_count</th>\n",
       "      <th>distance</th>\n",
       "    </tr>\n",
       "  </thead>\n",
       "  <tbody>\n",
       "    <tr>\n",
       "      <td>1863726</td>\n",
       "      <td>10.100</td>\n",
       "      <td>1</td>\n",
       "      <td>1.290</td>\n",
       "    </tr>\n",
       "    <tr>\n",
       "      <td>1713312</td>\n",
       "      <td>5.700</td>\n",
       "      <td>1</td>\n",
       "      <td>1.290</td>\n",
       "    </tr>\n",
       "    <tr>\n",
       "      <td>1567227</td>\n",
       "      <td>7.500</td>\n",
       "      <td>1</td>\n",
       "      <td>1.290</td>\n",
       "    </tr>\n",
       "    <tr>\n",
       "      <td>1049566</td>\n",
       "      <td>6.100</td>\n",
       "      <td>3</td>\n",
       "      <td>1.290</td>\n",
       "    </tr>\n",
       "    <tr>\n",
       "      <td>929582</td>\n",
       "      <td>5.500</td>\n",
       "      <td>1</td>\n",
       "      <td>1.290</td>\n",
       "    </tr>\n",
       "    <tr>\n",
       "      <td>1615313</td>\n",
       "      <td>6.500</td>\n",
       "      <td>1</td>\n",
       "      <td>1.290</td>\n",
       "    </tr>\n",
       "    <tr>\n",
       "      <td>1437309</td>\n",
       "      <td>6.000</td>\n",
       "      <td>1</td>\n",
       "      <td>1.290</td>\n",
       "    </tr>\n",
       "    <tr>\n",
       "      <td>584499</td>\n",
       "      <td>9.000</td>\n",
       "      <td>1</td>\n",
       "      <td>1.290</td>\n",
       "    </tr>\n",
       "    <tr>\n",
       "      <td>584085</td>\n",
       "      <td>4.500</td>\n",
       "      <td>1</td>\n",
       "      <td>1.290</td>\n",
       "    </tr>\n",
       "    <tr>\n",
       "      <td>1469833</td>\n",
       "      <td>6.000</td>\n",
       "      <td>1</td>\n",
       "      <td>1.290</td>\n",
       "    </tr>\n",
       "    <tr>\n",
       "      <td>960389</td>\n",
       "      <td>8.000</td>\n",
       "      <td>3</td>\n",
       "      <td>1.290</td>\n",
       "    </tr>\n",
       "    <tr>\n",
       "      <td>95391</td>\n",
       "      <td>8.000</td>\n",
       "      <td>2</td>\n",
       "      <td>1.290</td>\n",
       "    </tr>\n",
       "    <tr>\n",
       "      <td>380208</td>\n",
       "      <td>6.500</td>\n",
       "      <td>1</td>\n",
       "      <td>1.290</td>\n",
       "    </tr>\n",
       "    <tr>\n",
       "      <td>1295848</td>\n",
       "      <td>4.500</td>\n",
       "      <td>1</td>\n",
       "      <td>1.290</td>\n",
       "    </tr>\n",
       "    <tr>\n",
       "      <td>1879265</td>\n",
       "      <td>5.300</td>\n",
       "      <td>2</td>\n",
       "      <td>1.290</td>\n",
       "    </tr>\n",
       "    <tr>\n",
       "      <td>848892</td>\n",
       "      <td>6.900</td>\n",
       "      <td>1</td>\n",
       "      <td>1.290</td>\n",
       "    </tr>\n",
       "    <tr>\n",
       "      <td>335920</td>\n",
       "      <td>5.300</td>\n",
       "      <td>2</td>\n",
       "      <td>1.290</td>\n",
       "    </tr>\n",
       "    <tr>\n",
       "      <td>1618716</td>\n",
       "      <td>5.700</td>\n",
       "      <td>1</td>\n",
       "      <td>1.290</td>\n",
       "    </tr>\n",
       "    <tr>\n",
       "      <td>1195166</td>\n",
       "      <td>13.000</td>\n",
       "      <td>1</td>\n",
       "      <td>1.290</td>\n",
       "    </tr>\n",
       "    <tr>\n",
       "      <td>1147070</td>\n",
       "      <td>4.500</td>\n",
       "      <td>1</td>\n",
       "      <td>1.290</td>\n",
       "    </tr>\n",
       "  </tbody>\n",
       "</table>\n",
       "</div>"
      ],
      "text/plain": [
       "         fare_amount  passenger_count  distance\n",
       "1863726       10.100                1     1.290\n",
       "1713312        5.700                1     1.290\n",
       "1567227        7.500                1     1.290\n",
       "1049566        6.100                3     1.290\n",
       "929582         5.500                1     1.290\n",
       "1615313        6.500                1     1.290\n",
       "1437309        6.000                1     1.290\n",
       "584499         9.000                1     1.290\n",
       "584085         4.500                1     1.290\n",
       "1469833        6.000                1     1.290\n",
       "960389         8.000                3     1.290\n",
       "95391          8.000                2     1.290\n",
       "380208         6.500                1     1.290\n",
       "1295848        4.500                1     1.290\n",
       "1879265        5.300                2     1.290\n",
       "848892         6.900                1     1.290\n",
       "335920         5.300                2     1.290\n",
       "1618716        5.700                1     1.290\n",
       "1195166       13.000                1     1.290\n",
       "1147070        4.500                1     1.290"
      ]
     },
     "execution_count": 23,
     "metadata": {},
     "output_type": "execute_result"
    }
   ],
   "source": [
    "datat=train_df.copy()\n",
    "datat2=datat.loc[:, ['fare_amount', 'passenger_count', 'distance']].sort_values(by=['distance'])\n",
    "datat2.iloc[500000:500020,:]"
   ]
  },
  {
   "cell_type": "markdown",
   "metadata": {},
   "source": [
    "From our observation, it looks like the 'passenger_count' does not have an impact on the 'fare_amount' when the distance is constant. For instance, both index 960389 and 95391 shows the same fare \\\\$8.0 for a traveling distance of 1.290km while the number of passengers differs. __Therefore, we will remove 'passenger_count' column from our machine learning model.__ "
   ]
  },
  {
   "cell_type": "markdown",
   "metadata": {},
   "source": [
    "We will create the new features, year, month, date, hour, and day_of_week from the pickup_datetime variable."
   ]
  },
  {
   "cell_type": "code",
   "execution_count": 24,
   "metadata": {},
   "outputs": [
    {
     "data": {
      "text/html": [
       "<div>\n",
       "<style scoped>\n",
       "    .dataframe tbody tr th:only-of-type {\n",
       "        vertical-align: middle;\n",
       "    }\n",
       "\n",
       "    .dataframe tbody tr th {\n",
       "        vertical-align: top;\n",
       "    }\n",
       "\n",
       "    .dataframe thead th {\n",
       "        text-align: right;\n",
       "    }\n",
       "</style>\n",
       "<table border=\"1\" class=\"dataframe\">\n",
       "  <thead>\n",
       "    <tr style=\"text-align: right;\">\n",
       "      <th></th>\n",
       "      <th>fare_amount</th>\n",
       "      <th>pickup_datetime</th>\n",
       "      <th>pickup_longitude</th>\n",
       "      <th>pickup_latitude</th>\n",
       "      <th>dropoff_longitude</th>\n",
       "      <th>dropoff_latitude</th>\n",
       "      <th>passenger_count</th>\n",
       "      <th>distance</th>\n",
       "      <th>year</th>\n",
       "      <th>month</th>\n",
       "      <th>date</th>\n",
       "      <th>wk</th>\n",
       "      <th>hour</th>\n",
       "    </tr>\n",
       "  </thead>\n",
       "  <tbody>\n",
       "    <tr>\n",
       "      <td>0</td>\n",
       "      <td>4.500</td>\n",
       "      <td>2009-06-15 17:26:00+00:00</td>\n",
       "      <td>-73.844</td>\n",
       "      <td>40.721</td>\n",
       "      <td>-73.842</td>\n",
       "      <td>40.712</td>\n",
       "      <td>1</td>\n",
       "      <td>1.031</td>\n",
       "      <td>2009</td>\n",
       "      <td>6</td>\n",
       "      <td>15</td>\n",
       "      <td>Monday</td>\n",
       "      <td>17</td>\n",
       "    </tr>\n",
       "    <tr>\n",
       "      <td>1</td>\n",
       "      <td>16.900</td>\n",
       "      <td>2010-01-05 16:52:00+00:00</td>\n",
       "      <td>-74.016</td>\n",
       "      <td>40.711</td>\n",
       "      <td>-73.979</td>\n",
       "      <td>40.782</td>\n",
       "      <td>1</td>\n",
       "      <td>8.450</td>\n",
       "      <td>2010</td>\n",
       "      <td>1</td>\n",
       "      <td>5</td>\n",
       "      <td>Tuesday</td>\n",
       "      <td>16</td>\n",
       "    </tr>\n",
       "    <tr>\n",
       "      <td>2</td>\n",
       "      <td>5.700</td>\n",
       "      <td>2011-08-18 00:35:00+00:00</td>\n",
       "      <td>-73.983</td>\n",
       "      <td>40.761</td>\n",
       "      <td>-73.991</td>\n",
       "      <td>40.751</td>\n",
       "      <td>2</td>\n",
       "      <td>1.390</td>\n",
       "      <td>2011</td>\n",
       "      <td>8</td>\n",
       "      <td>18</td>\n",
       "      <td>Thursday</td>\n",
       "      <td>0</td>\n",
       "    </tr>\n",
       "    <tr>\n",
       "      <td>3</td>\n",
       "      <td>7.700</td>\n",
       "      <td>2012-04-21 04:30:00+00:00</td>\n",
       "      <td>-73.987</td>\n",
       "      <td>40.733</td>\n",
       "      <td>-73.992</td>\n",
       "      <td>40.758</td>\n",
       "      <td>1</td>\n",
       "      <td>2.799</td>\n",
       "      <td>2012</td>\n",
       "      <td>4</td>\n",
       "      <td>21</td>\n",
       "      <td>Saturday</td>\n",
       "      <td>4</td>\n",
       "    </tr>\n",
       "    <tr>\n",
       "      <td>4</td>\n",
       "      <td>5.300</td>\n",
       "      <td>2010-03-09 07:51:00+00:00</td>\n",
       "      <td>-73.968</td>\n",
       "      <td>40.768</td>\n",
       "      <td>-73.957</td>\n",
       "      <td>40.784</td>\n",
       "      <td>1</td>\n",
       "      <td>1.999</td>\n",
       "      <td>2010</td>\n",
       "      <td>3</td>\n",
       "      <td>9</td>\n",
       "      <td>Tuesday</td>\n",
       "      <td>7</td>\n",
       "    </tr>\n",
       "  </tbody>\n",
       "</table>\n",
       "</div>"
      ],
      "text/plain": [
       "   fare_amount           pickup_datetime  pickup_longitude  pickup_latitude  \\\n",
       "0        4.500 2009-06-15 17:26:00+00:00           -73.844           40.721   \n",
       "1       16.900 2010-01-05 16:52:00+00:00           -74.016           40.711   \n",
       "2        5.700 2011-08-18 00:35:00+00:00           -73.983           40.761   \n",
       "3        7.700 2012-04-21 04:30:00+00:00           -73.987           40.733   \n",
       "4        5.300 2010-03-09 07:51:00+00:00           -73.968           40.768   \n",
       "\n",
       "   dropoff_longitude  dropoff_latitude  passenger_count  distance  year  \\\n",
       "0            -73.842            40.712                1     1.031  2009   \n",
       "1            -73.979            40.782                1     8.450  2010   \n",
       "2            -73.991            40.751                2     1.390  2011   \n",
       "3            -73.992            40.758                1     2.799  2012   \n",
       "4            -73.957            40.784                1     1.999  2010   \n",
       "\n",
       "   month  date        wk  hour  \n",
       "0      6    15    Monday    17  \n",
       "1      1     5   Tuesday    16  \n",
       "2      8    18  Thursday     0  \n",
       "3      4    21  Saturday     4  \n",
       "4      3     9   Tuesday     7  "
      ]
     },
     "execution_count": 24,
     "metadata": {},
     "output_type": "execute_result"
    }
   ],
   "source": [
    "train_df['year'] = train_df['pickup_datetime'].dt.year\n",
    "train_df['month'] = train_df['pickup_datetime'].dt.month\n",
    "train_df['date'] = train_df['pickup_datetime'].dt.day\n",
    "# train_df['day_of_week2'] = train_df['pickup_datetime'].dt.dayofweek \n",
    "train_df['wk'] = train_df['pickup_datetime'].dt.day_name()\n",
    "train_df['hour'] = train_df['pickup_datetime'].dt.hour\n",
    "train_df.head()"
   ]
  },
  {
   "cell_type": "markdown",
   "metadata": {},
   "source": [
    "Remove 'pickup_datetime' column."
   ]
  },
  {
   "cell_type": "raw",
   "metadata": {},
   "source": [
    "## train_df = train_df.drop('pickup_datetime', axis=1)\n",
    "\n",
    "#train_df.head()"
   ]
  },
  {
   "cell_type": "markdown",
   "metadata": {},
   "source": [
    "Add time of the day based on hour and remove hour column."
   ]
  },
  {
   "cell_type": "code",
   "execution_count": 25,
   "metadata": {},
   "outputs": [
    {
     "data": {
      "text/html": [
       "<div>\n",
       "<style scoped>\n",
       "    .dataframe tbody tr th:only-of-type {\n",
       "        vertical-align: middle;\n",
       "    }\n",
       "\n",
       "    .dataframe tbody tr th {\n",
       "        vertical-align: top;\n",
       "    }\n",
       "\n",
       "    .dataframe thead th {\n",
       "        text-align: right;\n",
       "    }\n",
       "</style>\n",
       "<table border=\"1\" class=\"dataframe\">\n",
       "  <thead>\n",
       "    <tr style=\"text-align: right;\">\n",
       "      <th></th>\n",
       "      <th>fare_amount</th>\n",
       "      <th>pickup_datetime</th>\n",
       "      <th>pickup_longitude</th>\n",
       "      <th>pickup_latitude</th>\n",
       "      <th>dropoff_longitude</th>\n",
       "      <th>dropoff_latitude</th>\n",
       "      <th>passenger_count</th>\n",
       "      <th>distance</th>\n",
       "      <th>year</th>\n",
       "      <th>month</th>\n",
       "      <th>date</th>\n",
       "      <th>wk</th>\n",
       "      <th>hour</th>\n",
       "      <th>dt</th>\n",
       "    </tr>\n",
       "  </thead>\n",
       "  <tbody>\n",
       "    <tr>\n",
       "      <td>0</td>\n",
       "      <td>4.500</td>\n",
       "      <td>2009-06-15 17:26:00+00:00</td>\n",
       "      <td>-73.844</td>\n",
       "      <td>40.721</td>\n",
       "      <td>-73.842</td>\n",
       "      <td>40.712</td>\n",
       "      <td>1</td>\n",
       "      <td>1.031</td>\n",
       "      <td>2009</td>\n",
       "      <td>6</td>\n",
       "      <td>15</td>\n",
       "      <td>Monday</td>\n",
       "      <td>17</td>\n",
       "      <td>Afternoon</td>\n",
       "    </tr>\n",
       "    <tr>\n",
       "      <td>1</td>\n",
       "      <td>16.900</td>\n",
       "      <td>2010-01-05 16:52:00+00:00</td>\n",
       "      <td>-74.016</td>\n",
       "      <td>40.711</td>\n",
       "      <td>-73.979</td>\n",
       "      <td>40.782</td>\n",
       "      <td>1</td>\n",
       "      <td>8.450</td>\n",
       "      <td>2010</td>\n",
       "      <td>1</td>\n",
       "      <td>5</td>\n",
       "      <td>Tuesday</td>\n",
       "      <td>16</td>\n",
       "      <td>Afternoon</td>\n",
       "    </tr>\n",
       "    <tr>\n",
       "      <td>2</td>\n",
       "      <td>5.700</td>\n",
       "      <td>2011-08-18 00:35:00+00:00</td>\n",
       "      <td>-73.983</td>\n",
       "      <td>40.761</td>\n",
       "      <td>-73.991</td>\n",
       "      <td>40.751</td>\n",
       "      <td>2</td>\n",
       "      <td>1.390</td>\n",
       "      <td>2011</td>\n",
       "      <td>8</td>\n",
       "      <td>18</td>\n",
       "      <td>Thursday</td>\n",
       "      <td>0</td>\n",
       "      <td>Night</td>\n",
       "    </tr>\n",
       "    <tr>\n",
       "      <td>3</td>\n",
       "      <td>7.700</td>\n",
       "      <td>2012-04-21 04:30:00+00:00</td>\n",
       "      <td>-73.987</td>\n",
       "      <td>40.733</td>\n",
       "      <td>-73.992</td>\n",
       "      <td>40.758</td>\n",
       "      <td>1</td>\n",
       "      <td>2.799</td>\n",
       "      <td>2012</td>\n",
       "      <td>4</td>\n",
       "      <td>21</td>\n",
       "      <td>Saturday</td>\n",
       "      <td>4</td>\n",
       "      <td>Night</td>\n",
       "    </tr>\n",
       "    <tr>\n",
       "      <td>4</td>\n",
       "      <td>5.300</td>\n",
       "      <td>2010-03-09 07:51:00+00:00</td>\n",
       "      <td>-73.968</td>\n",
       "      <td>40.768</td>\n",
       "      <td>-73.957</td>\n",
       "      <td>40.784</td>\n",
       "      <td>1</td>\n",
       "      <td>1.999</td>\n",
       "      <td>2010</td>\n",
       "      <td>3</td>\n",
       "      <td>9</td>\n",
       "      <td>Tuesday</td>\n",
       "      <td>7</td>\n",
       "      <td>Morning</td>\n",
       "    </tr>\n",
       "  </tbody>\n",
       "</table>\n",
       "</div>"
      ],
      "text/plain": [
       "   fare_amount           pickup_datetime  pickup_longitude  pickup_latitude  \\\n",
       "0        4.500 2009-06-15 17:26:00+00:00           -73.844           40.721   \n",
       "1       16.900 2010-01-05 16:52:00+00:00           -74.016           40.711   \n",
       "2        5.700 2011-08-18 00:35:00+00:00           -73.983           40.761   \n",
       "3        7.700 2012-04-21 04:30:00+00:00           -73.987           40.733   \n",
       "4        5.300 2010-03-09 07:51:00+00:00           -73.968           40.768   \n",
       "\n",
       "   dropoff_longitude  dropoff_latitude  passenger_count  distance  year  \\\n",
       "0            -73.842            40.712                1     1.031  2009   \n",
       "1            -73.979            40.782                1     8.450  2010   \n",
       "2            -73.991            40.751                2     1.390  2011   \n",
       "3            -73.992            40.758                1     2.799  2012   \n",
       "4            -73.957            40.784                1     1.999  2010   \n",
       "\n",
       "   month  date        wk  hour         dt  \n",
       "0      6    15    Monday    17  Afternoon  \n",
       "1      1     5   Tuesday    16  Afternoon  \n",
       "2      8    18  Thursday     0      Night  \n",
       "3      4    21  Saturday     4      Night  \n",
       "4      3     9   Tuesday     7    Morning  "
      ]
     },
     "execution_count": 25,
     "metadata": {},
     "output_type": "execute_result"
    }
   ],
   "source": [
    "def hourtime(hval):\n",
    "    if hval>=6 and hval<=11:\n",
    "        return  'Morning'\n",
    "    if hval>=12 and hval<=17:\n",
    "        return  'Afternoon'\n",
    "    if hval>=18 and hval<=23:\n",
    "        return  'Evening'\n",
    "    if hval>=0 and hval<=5:\n",
    "        return  'Night'\n",
    "\n",
    "train_df['dt'] = train_df['hour'].apply(hourtime)\n",
    "\n",
    "#train_df = train_df.drop('hour', axis=1)\n",
    "\n",
    "train_df.head()"
   ]
  },
  {
   "cell_type": "markdown",
   "metadata": {},
   "source": [
    "Add month name based on month value and delete month column."
   ]
  },
  {
   "cell_type": "code",
   "execution_count": 26,
   "metadata": {},
   "outputs": [
    {
     "data": {
      "text/html": [
       "<div>\n",
       "<style scoped>\n",
       "    .dataframe tbody tr th:only-of-type {\n",
       "        vertical-align: middle;\n",
       "    }\n",
       "\n",
       "    .dataframe tbody tr th {\n",
       "        vertical-align: top;\n",
       "    }\n",
       "\n",
       "    .dataframe thead th {\n",
       "        text-align: right;\n",
       "    }\n",
       "</style>\n",
       "<table border=\"1\" class=\"dataframe\">\n",
       "  <thead>\n",
       "    <tr style=\"text-align: right;\">\n",
       "      <th></th>\n",
       "      <th>fare_amount</th>\n",
       "      <th>pickup_datetime</th>\n",
       "      <th>pickup_longitude</th>\n",
       "      <th>pickup_latitude</th>\n",
       "      <th>dropoff_longitude</th>\n",
       "      <th>dropoff_latitude</th>\n",
       "      <th>passenger_count</th>\n",
       "      <th>distance</th>\n",
       "      <th>year</th>\n",
       "      <th>month</th>\n",
       "      <th>date</th>\n",
       "      <th>wk</th>\n",
       "      <th>hour</th>\n",
       "      <th>dt</th>\n",
       "      <th>mn</th>\n",
       "    </tr>\n",
       "  </thead>\n",
       "  <tbody>\n",
       "    <tr>\n",
       "      <td>0</td>\n",
       "      <td>4.500</td>\n",
       "      <td>2009-06-15 17:26:00+00:00</td>\n",
       "      <td>-73.844</td>\n",
       "      <td>40.721</td>\n",
       "      <td>-73.842</td>\n",
       "      <td>40.712</td>\n",
       "      <td>1</td>\n",
       "      <td>1.031</td>\n",
       "      <td>2009</td>\n",
       "      <td>6</td>\n",
       "      <td>15</td>\n",
       "      <td>Monday</td>\n",
       "      <td>17</td>\n",
       "      <td>Afternoon</td>\n",
       "      <td>June</td>\n",
       "    </tr>\n",
       "    <tr>\n",
       "      <td>1</td>\n",
       "      <td>16.900</td>\n",
       "      <td>2010-01-05 16:52:00+00:00</td>\n",
       "      <td>-74.016</td>\n",
       "      <td>40.711</td>\n",
       "      <td>-73.979</td>\n",
       "      <td>40.782</td>\n",
       "      <td>1</td>\n",
       "      <td>8.450</td>\n",
       "      <td>2010</td>\n",
       "      <td>1</td>\n",
       "      <td>5</td>\n",
       "      <td>Tuesday</td>\n",
       "      <td>16</td>\n",
       "      <td>Afternoon</td>\n",
       "      <td>January</td>\n",
       "    </tr>\n",
       "    <tr>\n",
       "      <td>2</td>\n",
       "      <td>5.700</td>\n",
       "      <td>2011-08-18 00:35:00+00:00</td>\n",
       "      <td>-73.983</td>\n",
       "      <td>40.761</td>\n",
       "      <td>-73.991</td>\n",
       "      <td>40.751</td>\n",
       "      <td>2</td>\n",
       "      <td>1.390</td>\n",
       "      <td>2011</td>\n",
       "      <td>8</td>\n",
       "      <td>18</td>\n",
       "      <td>Thursday</td>\n",
       "      <td>0</td>\n",
       "      <td>Night</td>\n",
       "      <td>August</td>\n",
       "    </tr>\n",
       "    <tr>\n",
       "      <td>3</td>\n",
       "      <td>7.700</td>\n",
       "      <td>2012-04-21 04:30:00+00:00</td>\n",
       "      <td>-73.987</td>\n",
       "      <td>40.733</td>\n",
       "      <td>-73.992</td>\n",
       "      <td>40.758</td>\n",
       "      <td>1</td>\n",
       "      <td>2.799</td>\n",
       "      <td>2012</td>\n",
       "      <td>4</td>\n",
       "      <td>21</td>\n",
       "      <td>Saturday</td>\n",
       "      <td>4</td>\n",
       "      <td>Night</td>\n",
       "      <td>April</td>\n",
       "    </tr>\n",
       "    <tr>\n",
       "      <td>4</td>\n",
       "      <td>5.300</td>\n",
       "      <td>2010-03-09 07:51:00+00:00</td>\n",
       "      <td>-73.968</td>\n",
       "      <td>40.768</td>\n",
       "      <td>-73.957</td>\n",
       "      <td>40.784</td>\n",
       "      <td>1</td>\n",
       "      <td>1.999</td>\n",
       "      <td>2010</td>\n",
       "      <td>3</td>\n",
       "      <td>9</td>\n",
       "      <td>Tuesday</td>\n",
       "      <td>7</td>\n",
       "      <td>Morning</td>\n",
       "      <td>March</td>\n",
       "    </tr>\n",
       "  </tbody>\n",
       "</table>\n",
       "</div>"
      ],
      "text/plain": [
       "   fare_amount           pickup_datetime  pickup_longitude  pickup_latitude  \\\n",
       "0        4.500 2009-06-15 17:26:00+00:00           -73.844           40.721   \n",
       "1       16.900 2010-01-05 16:52:00+00:00           -74.016           40.711   \n",
       "2        5.700 2011-08-18 00:35:00+00:00           -73.983           40.761   \n",
       "3        7.700 2012-04-21 04:30:00+00:00           -73.987           40.733   \n",
       "4        5.300 2010-03-09 07:51:00+00:00           -73.968           40.768   \n",
       "\n",
       "   dropoff_longitude  dropoff_latitude  passenger_count  distance  year  \\\n",
       "0            -73.842            40.712                1     1.031  2009   \n",
       "1            -73.979            40.782                1     8.450  2010   \n",
       "2            -73.991            40.751                2     1.390  2011   \n",
       "3            -73.992            40.758                1     2.799  2012   \n",
       "4            -73.957            40.784                1     1.999  2010   \n",
       "\n",
       "   month  date        wk  hour         dt       mn  \n",
       "0      6    15    Monday    17  Afternoon     June  \n",
       "1      1     5   Tuesday    16  Afternoon  January  \n",
       "2      8    18  Thursday     0      Night   August  \n",
       "3      4    21  Saturday     4      Night    April  \n",
       "4      3     9   Tuesday     7    Morning    March  "
      ]
     },
     "execution_count": 26,
     "metadata": {},
     "output_type": "execute_result"
    }
   ],
   "source": [
    "def monthnm(i):\n",
    "    switcher={\n",
    "        1:'January',\n",
    "        2:'February', \n",
    "        3:'March', \n",
    "        4:'April', \n",
    "        5:'May', \n",
    "        6:'June', \n",
    "        7:'July', \n",
    "        8:'August', \n",
    "        9:'September', \n",
    "        10:'October', \n",
    "        11:'November', \n",
    "        12:'December'\n",
    "    }\n",
    "    return switcher.get(i)\n",
    "        \n",
    "train_df['mn'] = train_df['month'].apply(monthnm)\n",
    "#train_df = train_df.drop('month', axis=1)\n",
    "\n",
    "train_df.head()"
   ]
  },
  {
   "cell_type": "markdown",
   "metadata": {},
   "source": [
    "Add day of the week name and remove column 'day_of_week'."
   ]
  },
  {
   "cell_type": "markdown",
   "metadata": {},
   "source": [
    "#### Relative distances in Latitude and Longitude is calculated and added as new columns."
   ]
  },
  {
   "cell_type": "code",
   "execution_count": 27,
   "metadata": {},
   "outputs": [
    {
     "data": {
      "text/html": [
       "<div>\n",
       "<style scoped>\n",
       "    .dataframe tbody tr th:only-of-type {\n",
       "        vertical-align: middle;\n",
       "    }\n",
       "\n",
       "    .dataframe tbody tr th {\n",
       "        vertical-align: top;\n",
       "    }\n",
       "\n",
       "    .dataframe thead th {\n",
       "        text-align: right;\n",
       "    }\n",
       "</style>\n",
       "<table border=\"1\" class=\"dataframe\">\n",
       "  <thead>\n",
       "    <tr style=\"text-align: right;\">\n",
       "      <th></th>\n",
       "      <th>fare_amount</th>\n",
       "      <th>pickup_datetime</th>\n",
       "      <th>pickup_longitude</th>\n",
       "      <th>pickup_latitude</th>\n",
       "      <th>dropoff_longitude</th>\n",
       "      <th>dropoff_latitude</th>\n",
       "      <th>passenger_count</th>\n",
       "      <th>distance</th>\n",
       "      <th>year</th>\n",
       "      <th>month</th>\n",
       "      <th>date</th>\n",
       "      <th>wk</th>\n",
       "      <th>hour</th>\n",
       "      <th>dt</th>\n",
       "      <th>mn</th>\n",
       "      <th>lat_diff</th>\n",
       "      <th>lon_diff</th>\n",
       "    </tr>\n",
       "  </thead>\n",
       "  <tbody>\n",
       "    <tr>\n",
       "      <td>0</td>\n",
       "      <td>4.500</td>\n",
       "      <td>2009-06-15 17:26:00+00:00</td>\n",
       "      <td>-73.844</td>\n",
       "      <td>40.721</td>\n",
       "      <td>-73.842</td>\n",
       "      <td>40.712</td>\n",
       "      <td>1</td>\n",
       "      <td>1.031</td>\n",
       "      <td>2009</td>\n",
       "      <td>6</td>\n",
       "      <td>15</td>\n",
       "      <td>Monday</td>\n",
       "      <td>17</td>\n",
       "      <td>Afternoon</td>\n",
       "      <td>June</td>\n",
       "      <td>0.009</td>\n",
       "      <td>0.003</td>\n",
       "    </tr>\n",
       "    <tr>\n",
       "      <td>1</td>\n",
       "      <td>16.900</td>\n",
       "      <td>2010-01-05 16:52:00+00:00</td>\n",
       "      <td>-74.016</td>\n",
       "      <td>40.711</td>\n",
       "      <td>-73.979</td>\n",
       "      <td>40.782</td>\n",
       "      <td>1</td>\n",
       "      <td>8.450</td>\n",
       "      <td>2010</td>\n",
       "      <td>1</td>\n",
       "      <td>5</td>\n",
       "      <td>Tuesday</td>\n",
       "      <td>16</td>\n",
       "      <td>Afternoon</td>\n",
       "      <td>January</td>\n",
       "      <td>0.071</td>\n",
       "      <td>0.037</td>\n",
       "    </tr>\n",
       "    <tr>\n",
       "      <td>2</td>\n",
       "      <td>5.700</td>\n",
       "      <td>2011-08-18 00:35:00+00:00</td>\n",
       "      <td>-73.983</td>\n",
       "      <td>40.761</td>\n",
       "      <td>-73.991</td>\n",
       "      <td>40.751</td>\n",
       "      <td>2</td>\n",
       "      <td>1.390</td>\n",
       "      <td>2011</td>\n",
       "      <td>8</td>\n",
       "      <td>18</td>\n",
       "      <td>Thursday</td>\n",
       "      <td>0</td>\n",
       "      <td>Night</td>\n",
       "      <td>August</td>\n",
       "      <td>0.011</td>\n",
       "      <td>0.009</td>\n",
       "    </tr>\n",
       "    <tr>\n",
       "      <td>3</td>\n",
       "      <td>7.700</td>\n",
       "      <td>2012-04-21 04:30:00+00:00</td>\n",
       "      <td>-73.987</td>\n",
       "      <td>40.733</td>\n",
       "      <td>-73.992</td>\n",
       "      <td>40.758</td>\n",
       "      <td>1</td>\n",
       "      <td>2.799</td>\n",
       "      <td>2012</td>\n",
       "      <td>4</td>\n",
       "      <td>21</td>\n",
       "      <td>Saturday</td>\n",
       "      <td>4</td>\n",
       "      <td>Night</td>\n",
       "      <td>April</td>\n",
       "      <td>0.025</td>\n",
       "      <td>0.004</td>\n",
       "    </tr>\n",
       "    <tr>\n",
       "      <td>4</td>\n",
       "      <td>5.300</td>\n",
       "      <td>2010-03-09 07:51:00+00:00</td>\n",
       "      <td>-73.968</td>\n",
       "      <td>40.768</td>\n",
       "      <td>-73.957</td>\n",
       "      <td>40.784</td>\n",
       "      <td>1</td>\n",
       "      <td>1.999</td>\n",
       "      <td>2010</td>\n",
       "      <td>3</td>\n",
       "      <td>9</td>\n",
       "      <td>Tuesday</td>\n",
       "      <td>7</td>\n",
       "      <td>Morning</td>\n",
       "      <td>March</td>\n",
       "      <td>0.016</td>\n",
       "      <td>0.011</td>\n",
       "    </tr>\n",
       "  </tbody>\n",
       "</table>\n",
       "</div>"
      ],
      "text/plain": [
       "   fare_amount           pickup_datetime  pickup_longitude  pickup_latitude  \\\n",
       "0        4.500 2009-06-15 17:26:00+00:00           -73.844           40.721   \n",
       "1       16.900 2010-01-05 16:52:00+00:00           -74.016           40.711   \n",
       "2        5.700 2011-08-18 00:35:00+00:00           -73.983           40.761   \n",
       "3        7.700 2012-04-21 04:30:00+00:00           -73.987           40.733   \n",
       "4        5.300 2010-03-09 07:51:00+00:00           -73.968           40.768   \n",
       "\n",
       "   dropoff_longitude  dropoff_latitude  passenger_count  distance  year  \\\n",
       "0            -73.842            40.712                1     1.031  2009   \n",
       "1            -73.979            40.782                1     8.450  2010   \n",
       "2            -73.991            40.751                2     1.390  2011   \n",
       "3            -73.992            40.758                1     2.799  2012   \n",
       "4            -73.957            40.784                1     1.999  2010   \n",
       "\n",
       "   month  date        wk  hour         dt       mn  lat_diff  lon_diff  \n",
       "0      6    15    Monday    17  Afternoon     June     0.009     0.003  \n",
       "1      1     5   Tuesday    16  Afternoon  January     0.071     0.037  \n",
       "2      8    18  Thursday     0      Night   August     0.011     0.009  \n",
       "3      4    21  Saturday     4      Night    April     0.025     0.004  \n",
       "4      3     9   Tuesday     7    Morning    March     0.016     0.011  "
      ]
     },
     "execution_count": 27,
     "metadata": {},
     "output_type": "execute_result"
    }
   ],
   "source": [
    "train_df['lat_diff'] = (train_df['dropoff_latitude'] - train_df['pickup_latitude']).abs()\n",
    "train_df['lon_diff'] = (train_df['dropoff_longitude'] - train_df['pickup_longitude']).abs()\n",
    "train_df.head()"
   ]
  },
  {
   "cell_type": "markdown",
   "metadata": {},
   "source": [
    "#### Effect of the date and time of pickup on the fare"
   ]
  },
  {
   "cell_type": "raw",
   "metadata": {},
   "source": [
    "plt.figure(figsize=(12,5))\n",
    "plt.hist(train_df['date'], bins=100)\n",
    "plt.xlabel('date')\n",
    "plt.ylabel('Frequency')\n",
    "plt.title('Effect of the date of pickup on the frequency of ride')"
   ]
  },
  {
   "cell_type": "raw",
   "metadata": {},
   "source": [
    "plt.figure(figsize=(12,5))\n",
    "plt.scatter(x=train_df['date'], y=train_df['fare_amount'], s=1.5)\n",
    "plt.xlabel('Date')\n",
    "plt.ylabel('Fare')\n",
    "plt.title('Effect of the date of pickup on the fare')"
   ]
  },
  {
   "cell_type": "markdown",
   "metadata": {},
   "source": [
    "From the above figures, it looks like the frequency of ride and the fare are not affected by the date."
   ]
  },
  {
   "cell_type": "raw",
   "metadata": {},
   "source": [
    "plt.figure(figsize=(12,5))\n",
    "plt.hist(train_df['hour'], bins=100)\n",
    "plt.xlabel('Hour')\n",
    "plt.ylabel('Frequency')\n",
    "plt.title('Time of the day and the the frequency of ride')"
   ]
  },
  {
   "cell_type": "markdown",
   "metadata": {},
   "source": [
    "The time of the day affect the frequency of the rides. Morning 5 sees the lowest and evening 7 being the heighst."
   ]
  },
  {
   "cell_type": "raw",
   "metadata": {},
   "source": [
    "plt.figure(figsize=(12,5))\n",
    "plt.scatter(x=train_df['hour'], y=train_df['fare_amount'], s=1.5)\n",
    "plt.xlabel('Hour')\n",
    "plt.ylabel('Fare')\n",
    "plt.title('Effect of the time of the day on the fare')"
   ]
  },
  {
   "cell_type": "markdown",
   "metadata": {},
   "source": [
    "However, the fare is high between 5AM to 9AM and 1PM to 4PM."
   ]
  },
  {
   "cell_type": "markdown",
   "metadata": {},
   "source": [
    "#### Effect of the day of the week on the fare"
   ]
  },
  {
   "cell_type": "raw",
   "metadata": {},
   "source": [
    "plt.figure(figsize=(10,5))\n",
    "plt.hist(train_df['day_of_week'], bins=100)\n",
    "plt.xlabel('Day of Week')\n",
    "plt.ylabel('Frequency')\n",
    "plt.title('Time of the day and the frequency of ride')"
   ]
  },
  {
   "cell_type": "markdown",
   "metadata": {},
   "source": [
    "The day of the week doesn't seem to have much of an influence on the number of taxi rides."
   ]
  },
  {
   "cell_type": "raw",
   "metadata": {},
   "source": [
    "plt.figure(figsize=(10,5))\n",
    "plt.scatter(x=train_df['day_of_week'], y=train_df['fare_amount'], s=1.5)\n",
    "plt.xlabel('Day of Week')\n",
    "plt.ylabel('Fare')\n",
    "plt.title('Time of the day and the fare of a ride')"
   ]
  },
  {
   "cell_type": "markdown",
   "metadata": {},
   "source": [
    "The day of the week doesn't seem to have much of an influence on the fare of a rides."
   ]
  },
  {
   "cell_type": "markdown",
   "metadata": {},
   "source": [
    "#### Effect of the month on the fare"
   ]
  },
  {
   "cell_type": "raw",
   "metadata": {},
   "source": [
    "train_df['month_name'].value_counts().plot(kind='bar')\n",
    "plt.xlabel('Month')\n",
    "plt.ylabel('Frequency')\n",
    "plt.title('Month and the frequency of ride')"
   ]
  },
  {
   "cell_type": "markdown",
   "metadata": {},
   "source": [
    "First half of the year observed more rides than the second half of the year."
   ]
  },
  {
   "cell_type": "code",
   "execution_count": 46,
   "metadata": {},
   "outputs": [],
   "source": [
    "#sns.barplot(x='week', y='fare_amount', data=train_df)"
   ]
  },
  {
   "cell_type": "markdown",
   "metadata": {},
   "source": [
    "#### Effect of the week on the fare"
   ]
  },
  {
   "cell_type": "raw",
   "metadata": {},
   "source": [
    "train_df['week'].value_counts().plot(kind='bar')"
   ]
  },
  {
   "cell_type": "code",
   "execution_count": 48,
   "metadata": {},
   "outputs": [],
   "source": [
    "#sns.barplot(x='week',y='fare_amount',data=train_df)"
   ]
  },
  {
   "cell_type": "markdown",
   "metadata": {},
   "source": [
    "The frequency of rides increases on thrusday and decreases on weekends."
   ]
  },
  {
   "cell_type": "raw",
   "metadata": {},
   "source": [
    "train_df['daytime'].value_counts().plot(kind='bar')\n",
    "plt.xlabel('Time of day')\n",
    "plt.ylabel('Frequency')\n",
    "plt.title('Time of day and the frequency of ride')"
   ]
  },
  {
   "cell_type": "markdown",
   "metadata": {},
   "source": [
    "Rides increased at evening and decreases at night."
   ]
  },
  {
   "cell_type": "markdown",
   "metadata": {},
   "source": [
    "#### Effect of the distance on the fare"
   ]
  },
  {
   "cell_type": "raw",
   "metadata": {},
   "source": [
    "train_df_dist = train_df.sort_values(['distance','fare_amount'], ascending=False)\n",
    "\n",
    "bins_0 = train_df_dist.loc[(train_df_dist['distance'] == 0), ['distance']]\n",
    "bins_1 = train_df_dist.loc[(train_df_dist['distance'] > 0) & (train_df_dist['distance'] <= 10),['distance']]\n",
    "bins_2 = train_df_dist.loc[(train_df_dist['distance'] > 10) & (train_df_dist['distance'] <= 50),['distance']]\n",
    "bins_3 = train_df_dist.loc[(train_df_dist['distance'] > 50) & (train_df_dist['distance'] <= 100),['distance']]\n",
    "bins_4 = train_df_dist.loc[(train_df_dist['distance'] > 100),['distance']]\n",
    "bins_0['bins'] = '0'\n",
    "bins_1['bins'] = '0-10'\n",
    "bins_2['bins'] = '11-50'\n",
    "bins_3['bins'] = '51-100'\n",
    "bins_4['bins'] = '>100'\n",
    "dist_bins =pd.concat([bins_0,bins_1,bins_2,bins_3,bins_4])\n",
    "\n",
    "Counter(dist_bins['bins'])"
   ]
  },
  {
   "cell_type": "raw",
   "metadata": {},
   "source": [
    "plt.figure(figsize=(10,5))\n",
    "plt.hist(dist_bins['bins'], bins=75)\n",
    "plt.xlabel('Bins')\n",
    "plt.ylabel('Frequency')"
   ]
  },
  {
   "cell_type": "markdown",
   "metadata": {},
   "source": [
    "Most of the rides are within the short distance, which is within the 50km range."
   ]
  },
  {
   "cell_type": "markdown",
   "metadata": {},
   "source": [
    "There are some rows where distance is 0. We will assume that it is due to the waiting time charge when the price is 2.5. Otherwise, we will assume that it is an outlier and we will impute the distance value. \n",
    "\n",
    "Calculate distance from fare and update the distance where distance is 0. "
   ]
  },
  {
   "cell_type": "raw",
   "metadata": {},
   "source": [
    "dist_mod = train_df.loc[(train_df['distance']==0)]\n",
    "dist_mod_up = dist_mod.loc[(dist_mod['fare_amount']>2.5)&(dist_mod['distance']==0)]\n",
    "dist_mod_up['distance'] = dist_mod_up.apply(lambda row: ((row['fare_amount']-2.50)/1.56), axis=1)"
   ]
  },
  {
   "cell_type": "raw",
   "metadata": {},
   "source": [
    "train_df.update(dist_mod_up)"
   ]
  },
  {
   "cell_type": "markdown",
   "metadata": {},
   "source": [
    "__Deleting records with 0 value increase model accuracy__"
   ]
  },
  {
   "cell_type": "code",
   "execution_count": 28,
   "metadata": {},
   "outputs": [],
   "source": [
    "# Backup\n",
    "train_df6_dist = train_df.copy()"
   ]
  },
  {
   "cell_type": "code",
   "execution_count": 29,
   "metadata": {},
   "outputs": [
    {
     "name": "stdout",
     "output_type": "stream",
     "text": [
      "(1888669, 17)\n"
     ]
    },
    {
     "data": {
      "text/html": [
       "<div>\n",
       "<style scoped>\n",
       "    .dataframe tbody tr th:only-of-type {\n",
       "        vertical-align: middle;\n",
       "    }\n",
       "\n",
       "    .dataframe tbody tr th {\n",
       "        vertical-align: top;\n",
       "    }\n",
       "\n",
       "    .dataframe thead th {\n",
       "        text-align: right;\n",
       "    }\n",
       "</style>\n",
       "<table border=\"1\" class=\"dataframe\">\n",
       "  <thead>\n",
       "    <tr style=\"text-align: right;\">\n",
       "      <th></th>\n",
       "      <th>fare_amount</th>\n",
       "      <th>pickup_datetime</th>\n",
       "      <th>pickup_longitude</th>\n",
       "      <th>pickup_latitude</th>\n",
       "      <th>dropoff_longitude</th>\n",
       "      <th>dropoff_latitude</th>\n",
       "      <th>passenger_count</th>\n",
       "      <th>distance</th>\n",
       "      <th>year</th>\n",
       "      <th>month</th>\n",
       "      <th>date</th>\n",
       "      <th>wk</th>\n",
       "      <th>hour</th>\n",
       "      <th>dt</th>\n",
       "      <th>mn</th>\n",
       "      <th>lat_diff</th>\n",
       "      <th>lon_diff</th>\n",
       "    </tr>\n",
       "  </thead>\n",
       "  <tbody>\n",
       "  </tbody>\n",
       "</table>\n",
       "</div>"
      ],
      "text/plain": [
       "Empty DataFrame\n",
       "Columns: [fare_amount, pickup_datetime, pickup_longitude, pickup_latitude, dropoff_longitude, dropoff_latitude, passenger_count, distance, year, month, date, wk, hour, dt, mn, lat_diff, lon_diff]\n",
       "Index: []"
      ]
     },
     "execution_count": 29,
     "metadata": {},
     "output_type": "execute_result"
    }
   ],
   "source": [
    "# Delete all records where distance is 0\n",
    "train_df.drop(train_df.loc[train_df['distance']==0].index, inplace=True)\n",
    "print(train_df.shape)\n",
    "train_df.loc[(train_df['distance']==0)]"
   ]
  },
  {
   "cell_type": "markdown",
   "metadata": {},
   "source": [
    "Encoding categorical variables"
   ]
  },
  {
   "cell_type": "code",
   "execution_count": 30,
   "metadata": {},
   "outputs": [],
   "source": [
    "# Backup data\n",
    "train_df6_day=train_df.copy()"
   ]
  },
  {
   "cell_type": "code",
   "execution_count": 31,
   "metadata": {},
   "outputs": [
    {
     "data": {
      "text/html": [
       "<div>\n",
       "<style scoped>\n",
       "    .dataframe tbody tr th:only-of-type {\n",
       "        vertical-align: middle;\n",
       "    }\n",
       "\n",
       "    .dataframe tbody tr th {\n",
       "        vertical-align: top;\n",
       "    }\n",
       "\n",
       "    .dataframe thead th {\n",
       "        text-align: right;\n",
       "    }\n",
       "</style>\n",
       "<table border=\"1\" class=\"dataframe\">\n",
       "  <thead>\n",
       "    <tr style=\"text-align: right;\">\n",
       "      <th></th>\n",
       "      <th>fare_amount</th>\n",
       "      <th>pickup_datetime</th>\n",
       "      <th>pickup_longitude</th>\n",
       "      <th>pickup_latitude</th>\n",
       "      <th>dropoff_longitude</th>\n",
       "      <th>dropoff_latitude</th>\n",
       "      <th>passenger_count</th>\n",
       "      <th>distance</th>\n",
       "      <th>year</th>\n",
       "      <th>month</th>\n",
       "      <th>date</th>\n",
       "      <th>wk</th>\n",
       "      <th>hour</th>\n",
       "      <th>dt</th>\n",
       "      <th>mn</th>\n",
       "      <th>lat_diff</th>\n",
       "      <th>lon_diff</th>\n",
       "      <th>dd</th>\n",
       "      <th>yr</th>\n",
       "      <th>pc</th>\n",
       "    </tr>\n",
       "  </thead>\n",
       "  <tbody>\n",
       "    <tr>\n",
       "      <td>0</td>\n",
       "      <td>4.500</td>\n",
       "      <td>2009-06-15 17:26:00+00:00</td>\n",
       "      <td>-73.844</td>\n",
       "      <td>40.721</td>\n",
       "      <td>-73.842</td>\n",
       "      <td>40.712</td>\n",
       "      <td>1</td>\n",
       "      <td>1.031</td>\n",
       "      <td>2009</td>\n",
       "      <td>6</td>\n",
       "      <td>15</td>\n",
       "      <td>Monday</td>\n",
       "      <td>17</td>\n",
       "      <td>Afternoon</td>\n",
       "      <td>June</td>\n",
       "      <td>0.009</td>\n",
       "      <td>0.003</td>\n",
       "      <td>15</td>\n",
       "      <td>2009</td>\n",
       "      <td>1</td>\n",
       "    </tr>\n",
       "    <tr>\n",
       "      <td>1</td>\n",
       "      <td>16.900</td>\n",
       "      <td>2010-01-05 16:52:00+00:00</td>\n",
       "      <td>-74.016</td>\n",
       "      <td>40.711</td>\n",
       "      <td>-73.979</td>\n",
       "      <td>40.782</td>\n",
       "      <td>1</td>\n",
       "      <td>8.450</td>\n",
       "      <td>2010</td>\n",
       "      <td>1</td>\n",
       "      <td>5</td>\n",
       "      <td>Tuesday</td>\n",
       "      <td>16</td>\n",
       "      <td>Afternoon</td>\n",
       "      <td>January</td>\n",
       "      <td>0.071</td>\n",
       "      <td>0.037</td>\n",
       "      <td>5</td>\n",
       "      <td>2010</td>\n",
       "      <td>1</td>\n",
       "    </tr>\n",
       "    <tr>\n",
       "      <td>2</td>\n",
       "      <td>5.700</td>\n",
       "      <td>2011-08-18 00:35:00+00:00</td>\n",
       "      <td>-73.983</td>\n",
       "      <td>40.761</td>\n",
       "      <td>-73.991</td>\n",
       "      <td>40.751</td>\n",
       "      <td>2</td>\n",
       "      <td>1.390</td>\n",
       "      <td>2011</td>\n",
       "      <td>8</td>\n",
       "      <td>18</td>\n",
       "      <td>Thursday</td>\n",
       "      <td>0</td>\n",
       "      <td>Night</td>\n",
       "      <td>August</td>\n",
       "      <td>0.011</td>\n",
       "      <td>0.009</td>\n",
       "      <td>18</td>\n",
       "      <td>2011</td>\n",
       "      <td>2</td>\n",
       "    </tr>\n",
       "    <tr>\n",
       "      <td>3</td>\n",
       "      <td>7.700</td>\n",
       "      <td>2012-04-21 04:30:00+00:00</td>\n",
       "      <td>-73.987</td>\n",
       "      <td>40.733</td>\n",
       "      <td>-73.992</td>\n",
       "      <td>40.758</td>\n",
       "      <td>1</td>\n",
       "      <td>2.799</td>\n",
       "      <td>2012</td>\n",
       "      <td>4</td>\n",
       "      <td>21</td>\n",
       "      <td>Saturday</td>\n",
       "      <td>4</td>\n",
       "      <td>Night</td>\n",
       "      <td>April</td>\n",
       "      <td>0.025</td>\n",
       "      <td>0.004</td>\n",
       "      <td>21</td>\n",
       "      <td>2012</td>\n",
       "      <td>1</td>\n",
       "    </tr>\n",
       "    <tr>\n",
       "      <td>4</td>\n",
       "      <td>5.300</td>\n",
       "      <td>2010-03-09 07:51:00+00:00</td>\n",
       "      <td>-73.968</td>\n",
       "      <td>40.768</td>\n",
       "      <td>-73.957</td>\n",
       "      <td>40.784</td>\n",
       "      <td>1</td>\n",
       "      <td>1.999</td>\n",
       "      <td>2010</td>\n",
       "      <td>3</td>\n",
       "      <td>9</td>\n",
       "      <td>Tuesday</td>\n",
       "      <td>7</td>\n",
       "      <td>Morning</td>\n",
       "      <td>March</td>\n",
       "      <td>0.016</td>\n",
       "      <td>0.011</td>\n",
       "      <td>9</td>\n",
       "      <td>2010</td>\n",
       "      <td>1</td>\n",
       "    </tr>\n",
       "  </tbody>\n",
       "</table>\n",
       "</div>"
      ],
      "text/plain": [
       "   fare_amount           pickup_datetime  pickup_longitude  pickup_latitude  \\\n",
       "0        4.500 2009-06-15 17:26:00+00:00           -73.844           40.721   \n",
       "1       16.900 2010-01-05 16:52:00+00:00           -74.016           40.711   \n",
       "2        5.700 2011-08-18 00:35:00+00:00           -73.983           40.761   \n",
       "3        7.700 2012-04-21 04:30:00+00:00           -73.987           40.733   \n",
       "4        5.300 2010-03-09 07:51:00+00:00           -73.968           40.768   \n",
       "\n",
       "   dropoff_longitude  dropoff_latitude  passenger_count  distance  year  \\\n",
       "0            -73.842            40.712                1     1.031  2009   \n",
       "1            -73.979            40.782                1     8.450  2010   \n",
       "2            -73.991            40.751                2     1.390  2011   \n",
       "3            -73.992            40.758                1     2.799  2012   \n",
       "4            -73.957            40.784                1     1.999  2010   \n",
       "\n",
       "   month  date        wk  hour         dt       mn  lat_diff  lon_diff  dd  \\\n",
       "0      6    15    Monday    17  Afternoon     June     0.009     0.003  15   \n",
       "1      1     5   Tuesday    16  Afternoon  January     0.071     0.037   5   \n",
       "2      8    18  Thursday     0      Night   August     0.011     0.009  18   \n",
       "3      4    21  Saturday     4      Night    April     0.025     0.004  21   \n",
       "4      3     9   Tuesday     7    Morning    March     0.016     0.011   9   \n",
       "\n",
       "     yr pc  \n",
       "0  2009  1  \n",
       "1  2010  1  \n",
       "2  2011  2  \n",
       "3  2012  1  \n",
       "4  2010  1  "
      ]
     },
     "execution_count": 31,
     "metadata": {},
     "output_type": "execute_result"
    }
   ],
   "source": [
    "def datestr(dval):\n",
    "    return str(int(dval))\n",
    "def yrstr(yval):\n",
    "    return str(int(yval))\n",
    "def pcstr(pval):\n",
    "    return str(int(pval))\n",
    "\n",
    "train_df['dd'] = train_df['date'].apply(datestr)\n",
    "train_df['yr'] = train_df['year'].apply(yrstr)\n",
    "train_df['pc'] = train_df['passenger_count'].apply(pcstr)\n",
    "\n",
    "train_df.head()"
   ]
  },
  {
   "cell_type": "code",
   "execution_count": 33,
   "metadata": {},
   "outputs": [
    {
     "data": {
      "text/html": [
       "<div>\n",
       "<style scoped>\n",
       "    .dataframe tbody tr th:only-of-type {\n",
       "        vertical-align: middle;\n",
       "    }\n",
       "\n",
       "    .dataframe tbody tr th {\n",
       "        vertical-align: top;\n",
       "    }\n",
       "\n",
       "    .dataframe thead th {\n",
       "        text-align: right;\n",
       "    }\n",
       "</style>\n",
       "<table border=\"1\" class=\"dataframe\">\n",
       "  <thead>\n",
       "    <tr style=\"text-align: right;\">\n",
       "      <th></th>\n",
       "      <th>fare_amount</th>\n",
       "      <th>pickup_datetime</th>\n",
       "      <th>pickup_longitude</th>\n",
       "      <th>pickup_latitude</th>\n",
       "      <th>dropoff_longitude</th>\n",
       "      <th>dropoff_latitude</th>\n",
       "      <th>passenger_count</th>\n",
       "      <th>distance</th>\n",
       "      <th>year</th>\n",
       "      <th>month</th>\n",
       "      <th>...</th>\n",
       "      <th>yr_2011</th>\n",
       "      <th>yr_2012</th>\n",
       "      <th>yr_2013</th>\n",
       "      <th>yr_2014</th>\n",
       "      <th>yr_2015</th>\n",
       "      <th>pc_1</th>\n",
       "      <th>pc_2</th>\n",
       "      <th>pc_3</th>\n",
       "      <th>pc_4</th>\n",
       "      <th>pc_5</th>\n",
       "    </tr>\n",
       "  </thead>\n",
       "  <tbody>\n",
       "    <tr>\n",
       "      <td>0</td>\n",
       "      <td>4.500</td>\n",
       "      <td>2009-06-15 17:26:00+00:00</td>\n",
       "      <td>-73.844</td>\n",
       "      <td>40.721</td>\n",
       "      <td>-73.842</td>\n",
       "      <td>40.712</td>\n",
       "      <td>1</td>\n",
       "      <td>1.031</td>\n",
       "      <td>2009</td>\n",
       "      <td>6</td>\n",
       "      <td>...</td>\n",
       "      <td>0</td>\n",
       "      <td>0</td>\n",
       "      <td>0</td>\n",
       "      <td>0</td>\n",
       "      <td>0</td>\n",
       "      <td>1</td>\n",
       "      <td>0</td>\n",
       "      <td>0</td>\n",
       "      <td>0</td>\n",
       "      <td>0</td>\n",
       "    </tr>\n",
       "    <tr>\n",
       "      <td>1</td>\n",
       "      <td>16.900</td>\n",
       "      <td>2010-01-05 16:52:00+00:00</td>\n",
       "      <td>-74.016</td>\n",
       "      <td>40.711</td>\n",
       "      <td>-73.979</td>\n",
       "      <td>40.782</td>\n",
       "      <td>1</td>\n",
       "      <td>8.450</td>\n",
       "      <td>2010</td>\n",
       "      <td>1</td>\n",
       "      <td>...</td>\n",
       "      <td>0</td>\n",
       "      <td>0</td>\n",
       "      <td>0</td>\n",
       "      <td>0</td>\n",
       "      <td>0</td>\n",
       "      <td>1</td>\n",
       "      <td>0</td>\n",
       "      <td>0</td>\n",
       "      <td>0</td>\n",
       "      <td>0</td>\n",
       "    </tr>\n",
       "    <tr>\n",
       "      <td>2</td>\n",
       "      <td>5.700</td>\n",
       "      <td>2011-08-18 00:35:00+00:00</td>\n",
       "      <td>-73.983</td>\n",
       "      <td>40.761</td>\n",
       "      <td>-73.991</td>\n",
       "      <td>40.751</td>\n",
       "      <td>2</td>\n",
       "      <td>1.390</td>\n",
       "      <td>2011</td>\n",
       "      <td>8</td>\n",
       "      <td>...</td>\n",
       "      <td>1</td>\n",
       "      <td>0</td>\n",
       "      <td>0</td>\n",
       "      <td>0</td>\n",
       "      <td>0</td>\n",
       "      <td>0</td>\n",
       "      <td>1</td>\n",
       "      <td>0</td>\n",
       "      <td>0</td>\n",
       "      <td>0</td>\n",
       "    </tr>\n",
       "    <tr>\n",
       "      <td>3</td>\n",
       "      <td>7.700</td>\n",
       "      <td>2012-04-21 04:30:00+00:00</td>\n",
       "      <td>-73.987</td>\n",
       "      <td>40.733</td>\n",
       "      <td>-73.992</td>\n",
       "      <td>40.758</td>\n",
       "      <td>1</td>\n",
       "      <td>2.799</td>\n",
       "      <td>2012</td>\n",
       "      <td>4</td>\n",
       "      <td>...</td>\n",
       "      <td>0</td>\n",
       "      <td>1</td>\n",
       "      <td>0</td>\n",
       "      <td>0</td>\n",
       "      <td>0</td>\n",
       "      <td>1</td>\n",
       "      <td>0</td>\n",
       "      <td>0</td>\n",
       "      <td>0</td>\n",
       "      <td>0</td>\n",
       "    </tr>\n",
       "    <tr>\n",
       "      <td>4</td>\n",
       "      <td>5.300</td>\n",
       "      <td>2010-03-09 07:51:00+00:00</td>\n",
       "      <td>-73.968</td>\n",
       "      <td>40.768</td>\n",
       "      <td>-73.957</td>\n",
       "      <td>40.784</td>\n",
       "      <td>1</td>\n",
       "      <td>1.999</td>\n",
       "      <td>2010</td>\n",
       "      <td>3</td>\n",
       "      <td>...</td>\n",
       "      <td>0</td>\n",
       "      <td>0</td>\n",
       "      <td>0</td>\n",
       "      <td>0</td>\n",
       "      <td>0</td>\n",
       "      <td>1</td>\n",
       "      <td>0</td>\n",
       "      <td>0</td>\n",
       "      <td>0</td>\n",
       "      <td>0</td>\n",
       "    </tr>\n",
       "  </tbody>\n",
       "</table>\n",
       "<p>5 rows × 80 columns</p>\n",
       "</div>"
      ],
      "text/plain": [
       "   fare_amount           pickup_datetime  pickup_longitude  pickup_latitude  \\\n",
       "0        4.500 2009-06-15 17:26:00+00:00           -73.844           40.721   \n",
       "1       16.900 2010-01-05 16:52:00+00:00           -74.016           40.711   \n",
       "2        5.700 2011-08-18 00:35:00+00:00           -73.983           40.761   \n",
       "3        7.700 2012-04-21 04:30:00+00:00           -73.987           40.733   \n",
       "4        5.300 2010-03-09 07:51:00+00:00           -73.968           40.768   \n",
       "\n",
       "   dropoff_longitude  dropoff_latitude  passenger_count  distance  year  \\\n",
       "0            -73.842            40.712                1     1.031  2009   \n",
       "1            -73.979            40.782                1     8.450  2010   \n",
       "2            -73.991            40.751                2     1.390  2011   \n",
       "3            -73.992            40.758                1     2.799  2012   \n",
       "4            -73.957            40.784                1     1.999  2010   \n",
       "\n",
       "   month  ...  yr_2011  yr_2012  yr_2013  yr_2014  yr_2015  pc_1  pc_2  pc_3  \\\n",
       "0      6  ...        0        0        0        0        0     1     0     0   \n",
       "1      1  ...        0        0        0        0        0     1     0     0   \n",
       "2      8  ...        1        0        0        0        0     0     1     0   \n",
       "3      4  ...        0        1        0        0        0     1     0     0   \n",
       "4      3  ...        0        0        0        0        0     1     0     0   \n",
       "\n",
       "   pc_4  pc_5  \n",
       "0     0     0  \n",
       "1     0     0  \n",
       "2     0     0  \n",
       "3     0     0  \n",
       "4     0     0  \n",
       "\n",
       "[5 rows x 80 columns]"
      ]
     },
     "execution_count": 33,
     "metadata": {},
     "output_type": "execute_result"
    }
   ],
   "source": [
    "# One-hot encoding for categorical columns with get_dummies\n",
    "def one_hot_encoder(df):\n",
    "    original_columns = list(df.columns)\n",
    "    categorical_columns = [col for col in df.columns if df[col].dtype == 'object']\n",
    "    df = pd.get_dummies(df, columns= categorical_columns)\n",
    "    new_columns = [c for c in df.columns if c not in original_columns]\n",
    "    return df, new_columns\n",
    "    \n",
    "# Categorical features with One-Hot encode\n",
    "train_df, cat_cols = one_hot_encoder(train_df)   \n",
    "\n",
    "train_df.head()"
   ]
  },
  {
   "cell_type": "raw",
   "metadata": {},
   "source": [
    "for i in train_df.columns:\n",
    "    print(i)"
   ]
  },
  {
   "cell_type": "markdown",
   "metadata": {},
   "source": [
    "We will remove columns those are not required."
   ]
  },
  {
   "cell_type": "code",
   "execution_count": 35,
   "metadata": {},
   "outputs": [],
   "source": [
    "# Backup data\n",
    "train_df6_drop=train_df.copy()\n",
    "train_df6_drop1=train_df.copy()\n",
    "train_df6_drop2=train_df.copy()"
   ]
  },
  {
   "cell_type": "code",
   "execution_count": 36,
   "metadata": {},
   "outputs": [],
   "source": [
    "train_df6_drop1.drop(['month', 'hour', 'year', 'date', 'pickup_datetime', 'passenger_count',\\\n",
    "                     'pickup_longitude', 'pickup_latitude', 'dropoff_longitude', 'dropoff_latitude', 'distance'],\\\n",
    "                      axis=1, inplace=True)\n",
    "train_df6_drop2.drop(['month', 'hour', 'year', 'date', 'pickup_datetime', 'passenger_count',\\\n",
    "                     'pickup_longitude', 'pickup_latitude', 'dropoff_longitude', 'dropoff_latitude', 'lat_diff', \\\n",
    "                     'lon_diff'], axis=1, inplace=True)"
   ]
  },
  {
   "cell_type": "markdown",
   "metadata": {},
   "source": [
    "### 5. Machine Learning"
   ]
  },
  {
   "cell_type": "code",
   "execution_count": 37,
   "metadata": {},
   "outputs": [],
   "source": [
    "# data backup\n",
    "train_df7 = train_df.copy()\n",
    "df1=train_df6_drop1.copy()\n",
    "df2=train_df6_drop2.copy()"
   ]
  },
  {
   "cell_type": "code",
   "execution_count": 40,
   "metadata": {},
   "outputs": [],
   "source": [
    "# We will use lat_diff lon_diff features instead of distance for better accuracy\n",
    "train_df=df1.copy() # lat lon diff\n",
    "# train_df=df2.copy() # distance"
   ]
  },
  {
   "cell_type": "code",
   "execution_count": 41,
   "metadata": {},
   "outputs": [
    {
     "name": "stdout",
     "output_type": "stream",
     "text": [
      "train and test data shape:  (1322068, 68) (566601, 68) (1322068,) (566601,)\n"
     ]
    }
   ],
   "source": [
    "from sklearn.metrics import roc_auc_score, confusion_matrix, classification_report\n",
    "from sklearn.model_selection import train_test_split\n",
    "\n",
    "labels = train_df['fare_amount']\n",
    "df = train_df.drop('fare_amount', axis=1)\n",
    "\n",
    "# train_test_split\n",
    "trainx, testx, trainy, testy = train_test_split(df, labels, test_size=0.3, random_state=42)\n",
    "print('train and test data shape: ', trainx.shape , testx.shape , trainy.shape , testy.shape)"
   ]
  },
  {
   "cell_type": "markdown",
   "metadata": {},
   "source": [
    "Root mean squared error and Mean absolute percentage error will be used for model evaluation."
   ]
  },
  {
   "cell_type": "code",
   "execution_count": 42,
   "metadata": {},
   "outputs": [],
   "source": [
    "from sklearn.metrics import mean_squared_error\n",
    "import warnings\n",
    "warnings.filterwarnings('ignore', category = RuntimeWarning)\n",
    "\n",
    "def metrics(train_pred, valid_pred, y_train, y_valid):\n",
    "    \"\"\"Calculate metrics:\n",
    "       Root mean squared error and mean absolute percentage error\"\"\"\n",
    "    \n",
    "    # Root mean squared error\n",
    "    train_rmse = np.sqrt(mean_squared_error(y_train, train_pred))\n",
    "    valid_rmse = np.sqrt(mean_squared_error(y_valid, valid_pred))\n",
    "    \n",
    "    # Calculate absolute percentage error\n",
    "    train_ape = abs((y_train - train_pred) / y_train)\n",
    "    valid_ape = abs((y_valid - valid_pred) / y_valid)\n",
    "    \n",
    "    # Account for y values of 0\n",
    "    train_ape[train_ape == np.inf] = 0\n",
    "    train_ape[train_ape == -np.inf] = 0\n",
    "    valid_ape[valid_ape == np.inf] = 0\n",
    "    valid_ape[valid_ape == -np.inf] = 0\n",
    "    \n",
    "    train_mape = 100 * np.mean(train_ape)\n",
    "    valid_mape = 100 * np.mean(valid_ape)\n",
    "    \n",
    "    return train_rmse, valid_rmse, train_mape, valid_mape\n",
    "\n",
    "def evaluate(model, features, X_train, X_valid, y_train, y_valid):\n",
    "    \"\"\"Mean absolute percentage error\"\"\"\n",
    "    \n",
    "    # Make predictions\n",
    "    train_pred = model.predict(X_train[features])\n",
    "    valid_pred = model.predict(X_valid[features])\n",
    "    \n",
    "    # Get metrics\n",
    "    train_rmse, valid_rmse, train_mape, valid_mape = metrics(train_pred, valid_pred,\n",
    "                                                             y_train, y_valid)\n",
    "    \n",
    "    print(f'Training:   rmse = {round(train_rmse, 2)} \\t mape = {round(train_mape, 2)}')\n",
    "    print(f'Validation: rmse = {round(valid_rmse, 2)} \\t mape = {round(valid_mape, 2)}')"
   ]
  },
  {
   "cell_type": "markdown",
   "metadata": {},
   "source": [
    "__Linear Regression:__"
   ]
  },
  {
   "cell_type": "code",
   "execution_count": 157,
   "metadata": {},
   "outputs": [
    {
     "name": "stdout",
     "output_type": "stream",
     "text": [
      "Training:   rmse = 5.099999904632568 \t mape = 25.97\n",
      "Validation: rmse = 5.070000171661377 \t mape = 26.01\n"
     ]
    }
   ],
   "source": [
    "from sklearn.linear_model import LinearRegression\n",
    "\n",
    "lr = LinearRegression()\n",
    "lr.fit(trainx, trainy)\n",
    "evaluate(lr, list(df.columns), trainx, testx, trainy, testy)"
   ]
  },
  {
   "cell_type": "markdown",
   "metadata": {},
   "source": [
    "__Light Gradient Boosting__"
   ]
  },
  {
   "cell_type": "code",
   "execution_count": 152,
   "metadata": {},
   "outputs": [
    {
     "name": "stdout",
     "output_type": "stream",
     "text": [
      "Training:   rmse = 3.87 \t mape = 19.87\n",
      "Validation: rmse = 3.88 \t mape = 19.94\n"
     ]
    },
    {
     "data": {
      "image/png": "[encoded data removed]",
      "text/plain": [
       "<Figure size 432x288 with 1 Axes>"
      ]
     },
     "metadata": {
      "needs_background": "light"
     },
     "output_type": "display_data"
    }
   ],
   "source": [
    "import lightgbm as lgbm\n",
    "\n",
    "params = {\n",
    "        'boosting_type':'gbdt',\n",
    "        'objective': 'regression',\n",
    "        'nthread': -1,\n",
    "        'verbose': 0,\n",
    "        'num_leaves': 31,\n",
    "        'learning_rate': 0.05,\n",
    "        'max_depth': -1,\n",
    "        'subsample': 0.8,\n",
    "        'subsample_freq': 1,\n",
    "        'colsample_bytree': 0.6,\n",
    "        'reg_aplha': 1,\n",
    "        'reg_lambda': 0.001,\n",
    "        'metric': 'rmse',\n",
    "        'min_split_gain': 0.5,\n",
    "        'min_child_weight': 1,\n",
    "        'min_child_samples': 10,\n",
    "        'scale_pos_weight':1     \n",
    "    }\n",
    "\n",
    "# pred_test_y = np.zeros(testx.shape[0])\n",
    "# print(pred_test_y.shape)\n",
    "train_set = lgbm.Dataset(trainx, trainy, silent=True)\n",
    "# print(train_set)\n",
    "model = lgbm.train(params, train_set = train_set, num_boost_round=300)\n",
    "# print(model)\n",
    "# pred_test_y = model.predict(testx, num_iteration = model.best_iteration)\n",
    "# print(pred_test_y)\n",
    "\n",
    "evaluate(model, list(df.columns), trainx, testx, trainy, testy)\n",
    "\n",
    "ax = lgbm.plot_importance(model, max_num_features=10)\n",
    "plt.show()"
   ]
  },
  {
   "cell_type": "markdown",
   "metadata": {},
   "source": [
    "### Multicollinearity"
   ]
  },
  {
   "cell_type": "code",
   "execution_count": 47,
   "metadata": {},
   "outputs": [],
   "source": [
    "import statsmodels.api as sm\n",
    "from statsmodels.stats.outliers_influence import variance_inflation_factor"
   ]
  },
  {
   "cell_type": "code",
   "execution_count": 163,
   "metadata": {},
   "outputs": [],
   "source": [
    "# final_df.to_csv('multicollinearity_latlondiff_df.csv')\n",
    "# final_vif.to_csv('multicollinearity_df_latlondiff_vif.csv')\n",
    "# df1.to_csv('lat_lon_diff_df.csv')\n",
    "# df2.to_csv('distance_df.csv')"
   ]
  },
  {
   "cell_type": "code",
   "execution_count": 10,
   "metadata": {},
   "outputs": [],
   "source": [
    "# df11=pd.read_csv('lat_lon_diff_df.csv')\n",
    "# df11.head()"
   ]
  },
  {
   "cell_type": "markdown",
   "metadata": {},
   "source": [
    "#### Parameter tuning for light gbm model using GridSearchCV"
   ]
  },
  {
   "cell_type": "code",
   "execution_count": 9,
   "metadata": {},
   "outputs": [
    {
     "name": "stdout",
     "output_type": "stream",
     "text": [
      "Best parameters found by grid search are: {'learning_rate': 0.05, 'max_depth': 6, 'num_leaves': 25}\n"
     ]
    }
   ],
   "source": [
    "import lightgbm as lgbm\n",
    "from sklearn.model_selection import GridSearchCV\n",
    "\n",
    "estimator = lgbm.LGBMRegressor()#num_leaves=31)\n",
    "\n",
    "param_grid = {\n",
    "    'learning_rate': [0.05, 0.01], #0.001, 0.005, \n",
    "    'num_leaves': [15,25],\n",
    "    'max_depth': [5, 6]#, #, 8, 10\n",
    "    #'n_estimators': [20, 40]\n",
    "}\n",
    "\n",
    "gbm = GridSearchCV(estimator, param_grid, cv=3)\n",
    "gbm.fit(trainx, trainy)\n",
    "\n",
    "print('Best parameters found by grid search are:', gbm.best_params_)"
   ]
  },
  {
   "cell_type": "code",
   "execution_count": 43,
   "metadata": {},
   "outputs": [
    {
     "name": "stdout",
     "output_type": "stream",
     "text": [
      "Best parameters found by grid search are: {'learning_rate': 0.05, 'max_depth': 8, 'num_leaves': 31}\n",
      "Wall time: 15min 16s\n"
     ]
    }
   ],
   "source": [
    "%%time\n",
    "\n",
    "import lightgbm as lgbm\n",
    "from sklearn.model_selection import GridSearchCV\n",
    "\n",
    "trainx=pd.read_csv('multicollinearity_latlondiff_df.csv')\n",
    "estimator = lgbm.LGBMRegressor()\n",
    "\n",
    "param_grid = {\n",
    "    'learning_rate': [0.001, 0.005, 0.05], # \n",
    "    'num_leaves': [15, 20, 25, 31],\n",
    "    'max_depth': [5, 6, 7, 8]\n",
    "}\n",
    "\n",
    "gbm = GridSearchCV(estimator, param_grid, cv=3)\n",
    "gbm.fit(trainx, trainy)\n",
    "\n",
    "print('Best parameters found by grid search are:', gbm.best_params_)"
   ]
  },
  {
   "cell_type": "code",
   "execution_count": 44,
   "metadata": {},
   "outputs": [
    {
     "name": "stdout",
     "output_type": "stream",
     "text": [
      "Best parameters found by grid search are: {'learning_rate': 0.1, 'max_depth': 10}\n",
      "Wall time: 3min 12s\n"
     ]
    }
   ],
   "source": [
    "%%time\n",
    "\n",
    "trainx=pd.read_csv('multicollinearity_latlondiff_df.csv')\n",
    "estimator = lgbm.LGBMRegressor(num_leaves=31)\n",
    "\n",
    "param_grid = {\n",
    "    'learning_rate': [0.05, 0.01, 0.1], # \n",
    "    'max_depth': [8, 9, 10]\n",
    "}\n",
    "\n",
    "gbm = GridSearchCV(estimator, param_grid, cv=3)\n",
    "gbm.fit(trainx, trainy)\n",
    "\n",
    "print('Best parameters found by grid search are:', gbm.best_params_)"
   ]
  },
  {
   "cell_type": "markdown",
   "metadata": {},
   "source": [
    "## Multicollinearity Analysis with lat_lon_diff"
   ]
  },
  {
   "cell_type": "code",
   "execution_count": 64,
   "metadata": {},
   "outputs": [
    {
     "name": "stdout",
     "output_type": "stream",
     "text": [
      "0    4.500\n",
      "1   16.900\n",
      "2    5.700\n",
      "3    7.700\n",
      "4    5.300\n",
      "Name: fare_amount, dtype: float64\n"
     ]
    },
    {
     "data": {
      "text/html": [
       "<div>\n",
       "<style scoped>\n",
       "    .dataframe tbody tr th:only-of-type {\n",
       "        vertical-align: middle;\n",
       "    }\n",
       "\n",
       "    .dataframe tbody tr th {\n",
       "        vertical-align: top;\n",
       "    }\n",
       "\n",
       "    .dataframe thead th {\n",
       "        text-align: right;\n",
       "    }\n",
       "</style>\n",
       "<table border=\"1\" class=\"dataframe\">\n",
       "  <thead>\n",
       "    <tr style=\"text-align: right;\">\n",
       "      <th></th>\n",
       "      <th>lat_diff</th>\n",
       "      <th>lon_diff</th>\n",
       "      <th>wk_Friday</th>\n",
       "      <th>wk_Monday</th>\n",
       "      <th>wk_Saturday</th>\n",
       "      <th>wk_Sunday</th>\n",
       "      <th>wk_Thursday</th>\n",
       "      <th>wk_Tuesday</th>\n",
       "      <th>wk_Wednesday</th>\n",
       "      <th>dt_Afternoon</th>\n",
       "      <th>...</th>\n",
       "      <th>yr_2011</th>\n",
       "      <th>yr_2012</th>\n",
       "      <th>yr_2013</th>\n",
       "      <th>yr_2014</th>\n",
       "      <th>yr_2015</th>\n",
       "      <th>pc_1</th>\n",
       "      <th>pc_2</th>\n",
       "      <th>pc_3</th>\n",
       "      <th>pc_4</th>\n",
       "      <th>pc_5</th>\n",
       "    </tr>\n",
       "  </thead>\n",
       "  <tbody>\n",
       "    <tr>\n",
       "      <td>0</td>\n",
       "      <td>0.009</td>\n",
       "      <td>0.003</td>\n",
       "      <td>0</td>\n",
       "      <td>1</td>\n",
       "      <td>0</td>\n",
       "      <td>0</td>\n",
       "      <td>0</td>\n",
       "      <td>0</td>\n",
       "      <td>0</td>\n",
       "      <td>1</td>\n",
       "      <td>...</td>\n",
       "      <td>0</td>\n",
       "      <td>0</td>\n",
       "      <td>0</td>\n",
       "      <td>0</td>\n",
       "      <td>0</td>\n",
       "      <td>1</td>\n",
       "      <td>0</td>\n",
       "      <td>0</td>\n",
       "      <td>0</td>\n",
       "      <td>0</td>\n",
       "    </tr>\n",
       "    <tr>\n",
       "      <td>1</td>\n",
       "      <td>0.071</td>\n",
       "      <td>0.037</td>\n",
       "      <td>0</td>\n",
       "      <td>0</td>\n",
       "      <td>0</td>\n",
       "      <td>0</td>\n",
       "      <td>0</td>\n",
       "      <td>1</td>\n",
       "      <td>0</td>\n",
       "      <td>1</td>\n",
       "      <td>...</td>\n",
       "      <td>0</td>\n",
       "      <td>0</td>\n",
       "      <td>0</td>\n",
       "      <td>0</td>\n",
       "      <td>0</td>\n",
       "      <td>1</td>\n",
       "      <td>0</td>\n",
       "      <td>0</td>\n",
       "      <td>0</td>\n",
       "      <td>0</td>\n",
       "    </tr>\n",
       "    <tr>\n",
       "      <td>2</td>\n",
       "      <td>0.011</td>\n",
       "      <td>0.009</td>\n",
       "      <td>0</td>\n",
       "      <td>0</td>\n",
       "      <td>0</td>\n",
       "      <td>0</td>\n",
       "      <td>1</td>\n",
       "      <td>0</td>\n",
       "      <td>0</td>\n",
       "      <td>0</td>\n",
       "      <td>...</td>\n",
       "      <td>1</td>\n",
       "      <td>0</td>\n",
       "      <td>0</td>\n",
       "      <td>0</td>\n",
       "      <td>0</td>\n",
       "      <td>0</td>\n",
       "      <td>1</td>\n",
       "      <td>0</td>\n",
       "      <td>0</td>\n",
       "      <td>0</td>\n",
       "    </tr>\n",
       "    <tr>\n",
       "      <td>3</td>\n",
       "      <td>0.025</td>\n",
       "      <td>0.004</td>\n",
       "      <td>0</td>\n",
       "      <td>0</td>\n",
       "      <td>1</td>\n",
       "      <td>0</td>\n",
       "      <td>0</td>\n",
       "      <td>0</td>\n",
       "      <td>0</td>\n",
       "      <td>0</td>\n",
       "      <td>...</td>\n",
       "      <td>0</td>\n",
       "      <td>1</td>\n",
       "      <td>0</td>\n",
       "      <td>0</td>\n",
       "      <td>0</td>\n",
       "      <td>1</td>\n",
       "      <td>0</td>\n",
       "      <td>0</td>\n",
       "      <td>0</td>\n",
       "      <td>0</td>\n",
       "    </tr>\n",
       "    <tr>\n",
       "      <td>4</td>\n",
       "      <td>0.016</td>\n",
       "      <td>0.011</td>\n",
       "      <td>0</td>\n",
       "      <td>0</td>\n",
       "      <td>0</td>\n",
       "      <td>0</td>\n",
       "      <td>0</td>\n",
       "      <td>1</td>\n",
       "      <td>0</td>\n",
       "      <td>0</td>\n",
       "      <td>...</td>\n",
       "      <td>0</td>\n",
       "      <td>0</td>\n",
       "      <td>0</td>\n",
       "      <td>0</td>\n",
       "      <td>0</td>\n",
       "      <td>1</td>\n",
       "      <td>0</td>\n",
       "      <td>0</td>\n",
       "      <td>0</td>\n",
       "      <td>0</td>\n",
       "    </tr>\n",
       "  </tbody>\n",
       "</table>\n",
       "<p>5 rows × 68 columns</p>\n",
       "</div>"
      ],
      "text/plain": [
       "   lat_diff  lon_diff  wk_Friday  wk_Monday  wk_Saturday  wk_Sunday  \\\n",
       "0     0.009     0.003          0          1            0          0   \n",
       "1     0.071     0.037          0          0            0          0   \n",
       "2     0.011     0.009          0          0            0          0   \n",
       "3     0.025     0.004          0          0            1          0   \n",
       "4     0.016     0.011          0          0            0          0   \n",
       "\n",
       "   wk_Thursday  wk_Tuesday  wk_Wednesday  dt_Afternoon  ...  yr_2011  yr_2012  \\\n",
       "0            0           0             0             1  ...        0        0   \n",
       "1            0           1             0             1  ...        0        0   \n",
       "2            1           0             0             0  ...        1        0   \n",
       "3            0           0             0             0  ...        0        1   \n",
       "4            0           1             0             0  ...        0        0   \n",
       "\n",
       "   yr_2013  yr_2014  yr_2015  pc_1  pc_2  pc_3  pc_4  pc_5  \n",
       "0        0        0        0     1     0     0     0     0  \n",
       "1        0        0        0     1     0     0     0     0  \n",
       "2        0        0        0     0     1     0     0     0  \n",
       "3        0        0        0     1     0     0     0     0  \n",
       "4        0        0        0     1     0     0     0     0  \n",
       "\n",
       "[5 rows x 68 columns]"
      ]
     },
     "execution_count": 64,
     "metadata": {},
     "output_type": "execute_result"
    }
   ],
   "source": [
    "mcdf = pd.read_csv('lat_lon_diff_df.csv')\n",
    "ylabels=mcdf['fare_amount']\n",
    "mcdf = mcdf.iloc[:,2:]\n",
    "print(ylabels.head())\n",
    "mcdf.head()"
   ]
  },
  {
   "cell_type": "code",
   "execution_count": 66,
   "metadata": {},
   "outputs": [
    {
     "name": "stdout",
     "output_type": "stream",
     "text": [
      "Iteration # 1\n",
      "Removing wk_Friday with VIF of inf\n",
      "Iteration # 2\n",
      "Removing dt_Afternoon with VIF of inf\n",
      "Iteration # 3\n",
      "Removing mn_April with VIF of inf\n",
      "Iteration # 4\n",
      "Removing dd_1 with VIF of inf\n",
      "Iteration # 5\n",
      "Removing yr_2009 with VIF of inf\n",
      "Iteration # 6\n",
      "Removing pc_1 with VIF of 40.600000\n",
      "Iteration # 7\n",
      "Complete\n",
      "Wall time: 1h 53min 42s\n"
     ]
    }
   ],
   "source": [
    "%%time\n",
    "\n",
    "def iterate_vif(df, vif_threshold=5, max_vif=6):\n",
    "  count = 0\n",
    "  while max_vif > vif_threshold:\n",
    "    count += 1\n",
    "    print(\"Iteration # \"+str(count))\n",
    "    vif = pd.DataFrame()\n",
    "    vif[\"VIFactor\"] = [variance_inflation_factor(df.values, i) for i in range(df.shape[1])]\n",
    "    vif[\"features\"] = df.columns\n",
    "    \n",
    "    if vif['VIFactor'].max().round(1) > vif_threshold:\n",
    "      print('Removing %s with VIF of %f' % (vif[vif['VIFactor'] == vif['VIFactor'].max()]['features'].values[0], vif['VIFactor'].max().round(1)))\n",
    "      df = df.drop(vif[vif['VIFactor'] == vif['VIFactor'].max()]['features'].values[0], axis=1)\n",
    "      max_vif = vif['VIFactor'].max().round(1)\n",
    "    else:\n",
    "        print('Complete')\n",
    "        return df, vif.sort_values('VIFactor').round(1)\n",
    "\n",
    "mcdf_nd = mcdf._get_numeric_data()\n",
    "mc_df, mc_vif = iterate_vif(mcdf_nd)"
   ]
  },
  {
   "cell_type": "code",
   "execution_count": 70,
   "metadata": {},
   "outputs": [],
   "source": [
    "mc_df.to_csv('multicollinearity_latlondiff_data.csv')\n",
    "mc_vif.to_csv('multicollinearity_df_latlondiff_vif_data.csv')"
   ]
  },
  {
   "cell_type": "code",
   "execution_count": 71,
   "metadata": {},
   "outputs": [
    {
     "name": "stdout",
     "output_type": "stream",
     "text": [
      "train and test data shape:  (1322068, 62) (566601, 62) (1322068,) (566601,)\n"
     ]
    }
   ],
   "source": [
    "# train_test_split\n",
    "trainx, testx, trainy, testy = train_test_split(mc_df, ylabels, test_size=0.3, random_state=42)\n",
    "print('train and test data shape: ', trainx.shape , testx.shape , trainy.shape , testy.shape)"
   ]
  },
  {
   "cell_type": "code",
   "execution_count": 72,
   "metadata": {},
   "outputs": [
    {
     "name": "stdout",
     "output_type": "stream",
     "text": [
      "Training:   rmse = 3.61 \t mape = 18.72\n",
      "Validation: rmse = 3.67 \t mape = 18.87\n"
     ]
    },
    {
     "data": {
      "image/png": "[encoded data removed]",
      "text/plain": [
       "<Figure size 432x288 with 1 Axes>"
      ]
     },
     "metadata": {},
     "output_type": "display_data"
    }
   ],
   "source": [
    "params = {\n",
    "        'boosting_type':'gbdt',\n",
    "        'objective': 'regression',\n",
    "        'nthread': 4,\n",
    "        'verbose': 0,\n",
    "        'num_leaves': 31,\n",
    "        'learning_rate': 0.1,\n",
    "        'max_depth': 10,\n",
    "        'subsample': 0.8,\n",
    "        'subsample_freq': 1,\n",
    "        'colsample_bytree': 0.6,\n",
    "        'reg_aplha': 1,\n",
    "        'reg_lambda': 0.001,\n",
    "        'metric': 'rmse',\n",
    "        'min_split_gain': 0.5,\n",
    "        'min_child_weight': 1,\n",
    "        'min_child_samples': 10,\n",
    "        'scale_pos_weight':1     \n",
    "    }\n",
    "\n",
    "train_set = lgbm.Dataset(trainx, trainy, silent=True)\n",
    "model = lgbm.train(params, train_set = train_set, num_boost_round=300)\n",
    "\n",
    "evaluate(model, list(trainx.columns), trainx, testx, trainy, testy)\n",
    "\n",
    "ax = lgbm.plot_importance(model, max_num_features=10)\n",
    "plt.show()"
   ]
  },
  {
   "cell_type": "code",
   "execution_count": 73,
   "metadata": {},
   "outputs": [
    {
     "name": "stdout",
     "output_type": "stream",
     "text": [
      "Training:   rmse = 3.59 \t mape = 18.52\n",
      "Validation: rmse = 3.65 \t mape = 18.67\n"
     ]
    }
   ],
   "source": [
    "import lightgbm as lgb\n",
    "\n",
    "lgb_train = lgb.Dataset(trainx, trainy, free_raw_data=False)\n",
    "lgb_val = lgb.Dataset(testx, testy, reference=lgb_train, free_raw_data=False)\n",
    "\n",
    "core_params = {\n",
    "    'boosting_type': 'gbdt', \n",
    "    'objective': 'regression', \n",
    "    'learning_rate': 0.1,\n",
    "    'num_leaves': 31,\n",
    "    'max_depth': 10,\n",
    "    'nthread': 4,\n",
    "    'verbose': 0,\n",
    "    'metric': 'rmse'\n",
    "}\n",
    "\n",
    "training_set = lgb.Dataset(trainx, trainy, silent=True)\n",
    "boost_rounds=300\n",
    "early_stopping_rounds=500\n",
    "validation_set=ylabels\n",
    "\n",
    "evals_result = {}\n",
    "gbm = lgb.train(core_params, # parameter dict to use\n",
    "                train_set = lgb_train,\n",
    "                num_boost_round=boost_rounds, # number of boosting rounds.\n",
    "                early_stopping_rounds=early_stopping_rounds,\n",
    "                valid_sets=lgb_val,\n",
    "                evals_result=evals_result, # stores validation results.\n",
    "                verbose_eval=False) # print evaluations during training.\n",
    "\n",
    "evaluate(gbm, list(trainx.columns), trainx, testx, trainy, testy)\n"
   ]
  },
  {
   "cell_type": "code",
   "execution_count": 74,
   "metadata": {},
   "outputs": [
    {
     "name": "stderr",
     "output_type": "stream",
     "text": [
      "[Parallel(n_jobs=-1)]: Using backend ThreadingBackend with 4 concurrent workers.\n",
      "[Parallel(n_jobs=-1)]: Done  20 out of  20 | elapsed:  2.8min finished\n",
      "[Parallel(n_jobs=4)]: Using backend ThreadingBackend with 4 concurrent workers.\n",
      "[Parallel(n_jobs=4)]: Done  20 out of  20 | elapsed:    2.1s finished\n",
      "[Parallel(n_jobs=4)]: Using backend ThreadingBackend with 4 concurrent workers.\n",
      "[Parallel(n_jobs=4)]: Done  20 out of  20 | elapsed:    0.8s finished\n"
     ]
    },
    {
     "name": "stdout",
     "output_type": "stream",
     "text": [
      "Training:   rmse = 2.63 \t mape = 16.26\n",
      "Validation: rmse = 3.74 \t mape = 19.08\n"
     ]
    },
    {
     "data": {
      "text/html": [
       "<div>\n",
       "<style scoped>\n",
       "    .dataframe tbody tr th:only-of-type {\n",
       "        vertical-align: middle;\n",
       "    }\n",
       "\n",
       "    .dataframe tbody tr th {\n",
       "        vertical-align: top;\n",
       "    }\n",
       "\n",
       "    .dataframe thead th {\n",
       "        text-align: right;\n",
       "    }\n",
       "</style>\n",
       "<table border=\"1\" class=\"dataframe\">\n",
       "  <thead>\n",
       "    <tr style=\"text-align: right;\">\n",
       "      <th></th>\n",
       "      <th>lat_diff</th>\n",
       "      <th>lon_diff</th>\n",
       "      <th>wk_Monday</th>\n",
       "      <th>wk_Saturday</th>\n",
       "      <th>wk_Sunday</th>\n",
       "      <th>wk_Thursday</th>\n",
       "      <th>wk_Tuesday</th>\n",
       "      <th>wk_Wednesday</th>\n",
       "      <th>dt_Evening</th>\n",
       "      <th>dt_Morning</th>\n",
       "      <th>...</th>\n",
       "      <th>yr_2010</th>\n",
       "      <th>yr_2011</th>\n",
       "      <th>yr_2012</th>\n",
       "      <th>yr_2013</th>\n",
       "      <th>yr_2014</th>\n",
       "      <th>yr_2015</th>\n",
       "      <th>pc_2</th>\n",
       "      <th>pc_3</th>\n",
       "      <th>pc_4</th>\n",
       "      <th>pc_5</th>\n",
       "    </tr>\n",
       "  </thead>\n",
       "  <tbody>\n",
       "    <tr>\n",
       "      <td>1818302</td>\n",
       "      <td>0.043</td>\n",
       "      <td>0.023</td>\n",
       "      <td>0</td>\n",
       "      <td>0</td>\n",
       "      <td>0</td>\n",
       "      <td>0</td>\n",
       "      <td>1</td>\n",
       "      <td>0</td>\n",
       "      <td>1</td>\n",
       "      <td>0</td>\n",
       "      <td>...</td>\n",
       "      <td>1</td>\n",
       "      <td>0</td>\n",
       "      <td>0</td>\n",
       "      <td>0</td>\n",
       "      <td>0</td>\n",
       "      <td>0</td>\n",
       "      <td>0</td>\n",
       "      <td>0</td>\n",
       "      <td>0</td>\n",
       "      <td>0</td>\n",
       "    </tr>\n",
       "    <tr>\n",
       "      <td>1818588</td>\n",
       "      <td>0.077</td>\n",
       "      <td>0.060</td>\n",
       "      <td>0</td>\n",
       "      <td>0</td>\n",
       "      <td>0</td>\n",
       "      <td>0</td>\n",
       "      <td>0</td>\n",
       "      <td>0</td>\n",
       "      <td>0</td>\n",
       "      <td>0</td>\n",
       "      <td>...</td>\n",
       "      <td>1</td>\n",
       "      <td>0</td>\n",
       "      <td>0</td>\n",
       "      <td>0</td>\n",
       "      <td>0</td>\n",
       "      <td>0</td>\n",
       "      <td>0</td>\n",
       "      <td>0</td>\n",
       "      <td>0</td>\n",
       "      <td>0</td>\n",
       "    </tr>\n",
       "    <tr>\n",
       "      <td>1345055</td>\n",
       "      <td>0.010</td>\n",
       "      <td>0.012</td>\n",
       "      <td>0</td>\n",
       "      <td>0</td>\n",
       "      <td>0</td>\n",
       "      <td>0</td>\n",
       "      <td>0</td>\n",
       "      <td>0</td>\n",
       "      <td>0</td>\n",
       "      <td>0</td>\n",
       "      <td>...</td>\n",
       "      <td>0</td>\n",
       "      <td>0</td>\n",
       "      <td>0</td>\n",
       "      <td>1</td>\n",
       "      <td>0</td>\n",
       "      <td>0</td>\n",
       "      <td>0</td>\n",
       "      <td>1</td>\n",
       "      <td>0</td>\n",
       "      <td>0</td>\n",
       "    </tr>\n",
       "    <tr>\n",
       "      <td>461281</td>\n",
       "      <td>0.012</td>\n",
       "      <td>0.007</td>\n",
       "      <td>0</td>\n",
       "      <td>1</td>\n",
       "      <td>0</td>\n",
       "      <td>0</td>\n",
       "      <td>0</td>\n",
       "      <td>0</td>\n",
       "      <td>1</td>\n",
       "      <td>0</td>\n",
       "      <td>...</td>\n",
       "      <td>1</td>\n",
       "      <td>0</td>\n",
       "      <td>0</td>\n",
       "      <td>0</td>\n",
       "      <td>0</td>\n",
       "      <td>0</td>\n",
       "      <td>0</td>\n",
       "      <td>0</td>\n",
       "      <td>0</td>\n",
       "      <td>0</td>\n",
       "    </tr>\n",
       "    <tr>\n",
       "      <td>1793270</td>\n",
       "      <td>0.033</td>\n",
       "      <td>0.185</td>\n",
       "      <td>0</td>\n",
       "      <td>0</td>\n",
       "      <td>0</td>\n",
       "      <td>0</td>\n",
       "      <td>1</td>\n",
       "      <td>0</td>\n",
       "      <td>1</td>\n",
       "      <td>0</td>\n",
       "      <td>...</td>\n",
       "      <td>0</td>\n",
       "      <td>0</td>\n",
       "      <td>0</td>\n",
       "      <td>1</td>\n",
       "      <td>0</td>\n",
       "      <td>0</td>\n",
       "      <td>1</td>\n",
       "      <td>0</td>\n",
       "      <td>0</td>\n",
       "      <td>0</td>\n",
       "    </tr>\n",
       "  </tbody>\n",
       "</table>\n",
       "<p>5 rows × 62 columns</p>\n",
       "</div>"
      ],
      "text/plain": [
       "         lat_diff  lon_diff  wk_Monday  wk_Saturday  wk_Sunday  wk_Thursday  \\\n",
       "1818302     0.043     0.023          0            0          0            0   \n",
       "1818588     0.077     0.060          0            0          0            0   \n",
       "1345055     0.010     0.012          0            0          0            0   \n",
       "461281      0.012     0.007          0            1          0            0   \n",
       "1793270     0.033     0.185          0            0          0            0   \n",
       "\n",
       "         wk_Tuesday  wk_Wednesday  dt_Evening  dt_Morning  ...  yr_2010  \\\n",
       "1818302           1             0           1           0  ...        1   \n",
       "1818588           0             0           0           0  ...        1   \n",
       "1345055           0             0           0           0  ...        0   \n",
       "461281            0             0           1           0  ...        1   \n",
       "1793270           1             0           1           0  ...        0   \n",
       "\n",
       "         yr_2011  yr_2012  yr_2013  yr_2014  yr_2015  pc_2  pc_3  pc_4  pc_5  \n",
       "1818302        0        0        0        0        0     0     0     0     0  \n",
       "1818588        0        0        0        0        0     0     0     0     0  \n",
       "1345055        0        0        1        0        0     0     1     0     0  \n",
       "461281         0        0        0        0        0     0     0     0     0  \n",
       "1793270        0        0        1        0        0     1     0     0     0  \n",
       "\n",
       "[5 rows x 62 columns]"
      ]
     },
     "execution_count": 74,
     "metadata": {},
     "output_type": "execute_result"
    }
   ],
   "source": [
    "from sklearn.ensemble import RandomForestRegressor\n",
    "\n",
    "# Create the random forest\n",
    "random_forest = RandomForestRegressor(n_estimators = 20, max_depth = 20, max_features = None, oob_score = True, \n",
    "                                      bootstrap = True, verbose = 1, n_jobs = -1)\n",
    "\n",
    "# Train on data\n",
    "random_forest.fit(trainx, trainy)\n",
    "evaluate(random_forest, list(trainx.columns), trainx, testx, trainy, testy)\n",
    "trainx.head()"
   ]
  },
  {
   "cell_type": "code",
   "execution_count": 78,
   "metadata": {},
   "outputs": [
    {
     "name": "stdout",
     "output_type": "stream",
     "text": [
      "[01:20:18] WARNING: src/objective/regression_obj.cu:152: reg:linear is now deprecated in favor of reg:squarederror.\n",
      "RMSE: 8.595403\n",
      "Training:   rmse = 8.65 \t mape = 31.34\n",
      "Validation: rmse = 8.6 \t mape = 31.35\n"
     ]
    },
    {
     "data": {
      "image/png": "[encoded data removed]",
      "text/plain": [
       "<Figure size 432x288 with 1 Axes>"
      ]
     },
     "metadata": {},
     "output_type": "display_data"
    }
   ],
   "source": [
    "import xgboost as xgb3\n",
    "\n",
    "data_dmatrix = xgb3.DMatrix(data=mcdf,label=ylabels)\n",
    "\n",
    "xg_reg3 = xgb3.XGBRegressor(objective ='reg:linear', colsample_bytree = 0.3, learning_rate = 0.1,\n",
    "                max_depth = 10, alpha = 10, n_estimators = 10)\n",
    "\n",
    "xg_reg3.fit(trainx,trainy)\n",
    "\n",
    "preds = xg_reg3.predict(testx)\n",
    "\n",
    "rmse = np.sqrt(mean_squared_error(testy, preds))\n",
    "print(\"RMSE: %f\" % (rmse))\n",
    "\n",
    "evaluate(xg_reg3, list(trainx.columns), trainx, testx, trainy, testy)\n",
    "\n",
    "xgb3.plot_importance(xg_reg3, max_num_features=10)\n",
    "plt.show()"
   ]
  },
  {
   "cell_type": "markdown",
   "metadata": {},
   "source": [
    "## Model without Multicolinearity"
   ]
  },
  {
   "cell_type": "code",
   "execution_count": 79,
   "metadata": {},
   "outputs": [
    {
     "name": "stdout",
     "output_type": "stream",
     "text": [
      "0    4.500\n",
      "1   16.900\n",
      "2    5.700\n",
      "3    7.700\n",
      "4    5.300\n",
      "Name: fare_amount, dtype: float64\n"
     ]
    },
    {
     "data": {
      "text/html": [
       "<div>\n",
       "<style scoped>\n",
       "    .dataframe tbody tr th:only-of-type {\n",
       "        vertical-align: middle;\n",
       "    }\n",
       "\n",
       "    .dataframe tbody tr th {\n",
       "        vertical-align: top;\n",
       "    }\n",
       "\n",
       "    .dataframe thead th {\n",
       "        text-align: right;\n",
       "    }\n",
       "</style>\n",
       "<table border=\"1\" class=\"dataframe\">\n",
       "  <thead>\n",
       "    <tr style=\"text-align: right;\">\n",
       "      <th></th>\n",
       "      <th>lat_diff</th>\n",
       "      <th>lon_diff</th>\n",
       "      <th>wk_Friday</th>\n",
       "      <th>wk_Monday</th>\n",
       "      <th>wk_Saturday</th>\n",
       "      <th>wk_Sunday</th>\n",
       "      <th>wk_Thursday</th>\n",
       "      <th>wk_Tuesday</th>\n",
       "      <th>wk_Wednesday</th>\n",
       "      <th>dt_Afternoon</th>\n",
       "      <th>...</th>\n",
       "      <th>yr_2011</th>\n",
       "      <th>yr_2012</th>\n",
       "      <th>yr_2013</th>\n",
       "      <th>yr_2014</th>\n",
       "      <th>yr_2015</th>\n",
       "      <th>pc_1</th>\n",
       "      <th>pc_2</th>\n",
       "      <th>pc_3</th>\n",
       "      <th>pc_4</th>\n",
       "      <th>pc_5</th>\n",
       "    </tr>\n",
       "  </thead>\n",
       "  <tbody>\n",
       "    <tr>\n",
       "      <td>0</td>\n",
       "      <td>0.009</td>\n",
       "      <td>0.003</td>\n",
       "      <td>0</td>\n",
       "      <td>1</td>\n",
       "      <td>0</td>\n",
       "      <td>0</td>\n",
       "      <td>0</td>\n",
       "      <td>0</td>\n",
       "      <td>0</td>\n",
       "      <td>1</td>\n",
       "      <td>...</td>\n",
       "      <td>0</td>\n",
       "      <td>0</td>\n",
       "      <td>0</td>\n",
       "      <td>0</td>\n",
       "      <td>0</td>\n",
       "      <td>1</td>\n",
       "      <td>0</td>\n",
       "      <td>0</td>\n",
       "      <td>0</td>\n",
       "      <td>0</td>\n",
       "    </tr>\n",
       "    <tr>\n",
       "      <td>1</td>\n",
       "      <td>0.071</td>\n",
       "      <td>0.037</td>\n",
       "      <td>0</td>\n",
       "      <td>0</td>\n",
       "      <td>0</td>\n",
       "      <td>0</td>\n",
       "      <td>0</td>\n",
       "      <td>1</td>\n",
       "      <td>0</td>\n",
       "      <td>1</td>\n",
       "      <td>...</td>\n",
       "      <td>0</td>\n",
       "      <td>0</td>\n",
       "      <td>0</td>\n",
       "      <td>0</td>\n",
       "      <td>0</td>\n",
       "      <td>1</td>\n",
       "      <td>0</td>\n",
       "      <td>0</td>\n",
       "      <td>0</td>\n",
       "      <td>0</td>\n",
       "    </tr>\n",
       "    <tr>\n",
       "      <td>2</td>\n",
       "      <td>0.011</td>\n",
       "      <td>0.009</td>\n",
       "      <td>0</td>\n",
       "      <td>0</td>\n",
       "      <td>0</td>\n",
       "      <td>0</td>\n",
       "      <td>1</td>\n",
       "      <td>0</td>\n",
       "      <td>0</td>\n",
       "      <td>0</td>\n",
       "      <td>...</td>\n",
       "      <td>1</td>\n",
       "      <td>0</td>\n",
       "      <td>0</td>\n",
       "      <td>0</td>\n",
       "      <td>0</td>\n",
       "      <td>0</td>\n",
       "      <td>1</td>\n",
       "      <td>0</td>\n",
       "      <td>0</td>\n",
       "      <td>0</td>\n",
       "    </tr>\n",
       "    <tr>\n",
       "      <td>3</td>\n",
       "      <td>0.025</td>\n",
       "      <td>0.004</td>\n",
       "      <td>0</td>\n",
       "      <td>0</td>\n",
       "      <td>1</td>\n",
       "      <td>0</td>\n",
       "      <td>0</td>\n",
       "      <td>0</td>\n",
       "      <td>0</td>\n",
       "      <td>0</td>\n",
       "      <td>...</td>\n",
       "      <td>0</td>\n",
       "      <td>1</td>\n",
       "      <td>0</td>\n",
       "      <td>0</td>\n",
       "      <td>0</td>\n",
       "      <td>1</td>\n",
       "      <td>0</td>\n",
       "      <td>0</td>\n",
       "      <td>0</td>\n",
       "      <td>0</td>\n",
       "    </tr>\n",
       "    <tr>\n",
       "      <td>4</td>\n",
       "      <td>0.016</td>\n",
       "      <td>0.011</td>\n",
       "      <td>0</td>\n",
       "      <td>0</td>\n",
       "      <td>0</td>\n",
       "      <td>0</td>\n",
       "      <td>0</td>\n",
       "      <td>1</td>\n",
       "      <td>0</td>\n",
       "      <td>0</td>\n",
       "      <td>...</td>\n",
       "      <td>0</td>\n",
       "      <td>0</td>\n",
       "      <td>0</td>\n",
       "      <td>0</td>\n",
       "      <td>0</td>\n",
       "      <td>1</td>\n",
       "      <td>0</td>\n",
       "      <td>0</td>\n",
       "      <td>0</td>\n",
       "      <td>0</td>\n",
       "    </tr>\n",
       "  </tbody>\n",
       "</table>\n",
       "<p>5 rows × 68 columns</p>\n",
       "</div>"
      ],
      "text/plain": [
       "   lat_diff  lon_diff  wk_Friday  wk_Monday  wk_Saturday  wk_Sunday  \\\n",
       "0     0.009     0.003          0          1            0          0   \n",
       "1     0.071     0.037          0          0            0          0   \n",
       "2     0.011     0.009          0          0            0          0   \n",
       "3     0.025     0.004          0          0            1          0   \n",
       "4     0.016     0.011          0          0            0          0   \n",
       "\n",
       "   wk_Thursday  wk_Tuesday  wk_Wednesday  dt_Afternoon  ...  yr_2011  yr_2012  \\\n",
       "0            0           0             0             1  ...        0        0   \n",
       "1            0           1             0             1  ...        0        0   \n",
       "2            1           0             0             0  ...        1        0   \n",
       "3            0           0             0             0  ...        0        1   \n",
       "4            0           1             0             0  ...        0        0   \n",
       "\n",
       "   yr_2013  yr_2014  yr_2015  pc_1  pc_2  pc_3  pc_4  pc_5  \n",
       "0        0        0        0     1     0     0     0     0  \n",
       "1        0        0        0     1     0     0     0     0  \n",
       "2        0        0        0     0     1     0     0     0  \n",
       "3        0        0        0     1     0     0     0     0  \n",
       "4        0        0        0     1     0     0     0     0  \n",
       "\n",
       "[5 rows x 68 columns]"
      ]
     },
     "execution_count": 79,
     "metadata": {},
     "output_type": "execute_result"
    }
   ],
   "source": [
    "df_all = pd.read_csv('lat_lon_diff_df.csv')\n",
    "y=df_all['fare_amount']\n",
    "df = df_all.iloc[:,2:]\n",
    "print(y.head())\n",
    "df.head()"
   ]
  },
  {
   "cell_type": "code",
   "execution_count": 81,
   "metadata": {},
   "outputs": [
    {
     "name": "stdout",
     "output_type": "stream",
     "text": [
      "train and test data shape:  (1322068, 68) (566601, 68) (1322068,) (566601,)\n"
     ]
    }
   ],
   "source": [
    "# train_test_split\n",
    "trainx, testx, trainy, testy = train_test_split(df, y, test_size=0.3, random_state=42)\n",
    "print('train and test data shape: ', trainx.shape , testx.shape , trainy.shape , testy.shape)"
   ]
  },
  {
   "cell_type": "code",
   "execution_count": 82,
   "metadata": {},
   "outputs": [
    {
     "name": "stdout",
     "output_type": "stream",
     "text": [
      "Training:   rmse = 3.6 \t mape = 18.78\n",
      "Validation: rmse = 3.67 \t mape = 18.93\n"
     ]
    },
    {
     "data": {
      "image/png": "[encoded data removed]",
      "text/plain": [
       "<Figure size 432x288 with 1 Axes>"
      ]
     },
     "metadata": {},
     "output_type": "display_data"
    }
   ],
   "source": [
    "params = {\n",
    "        'boosting_type':'gbdt',\n",
    "        'objective': 'regression',\n",
    "        'nthread': 4,\n",
    "        'verbose': 0,\n",
    "        'num_leaves': 31,\n",
    "        'learning_rate': 0.1,\n",
    "        'max_depth': 10,\n",
    "        'subsample': 0.8,\n",
    "        'subsample_freq': 1,\n",
    "        'colsample_bytree': 0.6,\n",
    "        'reg_aplha': 1,\n",
    "        'reg_lambda': 0.001,\n",
    "        'metric': 'rmse',\n",
    "        'min_split_gain': 0.5,\n",
    "        'min_child_weight': 1,\n",
    "        'min_child_samples': 10,\n",
    "        'scale_pos_weight':1     \n",
    "    }\n",
    "\n",
    "train_set = lgbm.Dataset(trainx, trainy, silent=True)\n",
    "model = lgbm.train(params, train_set = train_set, num_boost_round=300)\n",
    "\n",
    "evaluate(model, list(trainx.columns), trainx, testx, trainy, testy)\n",
    "\n",
    "ax = lgbm.plot_importance(model, max_num_features=10)\n",
    "plt.show()"
   ]
  },
  {
   "cell_type": "code",
   "execution_count": 83,
   "metadata": {},
   "outputs": [
    {
     "name": "stdout",
     "output_type": "stream",
     "text": [
      "Training:   rmse = 3.58 \t mape = 18.52\n",
      "Validation: rmse = 3.65 \t mape = 18.66\n"
     ]
    },
    {
     "data": {
      "image/png": "[encoded data removed]",
      "text/plain": [
       "<Figure size 432x288 with 1 Axes>"
      ]
     },
     "metadata": {},
     "output_type": "display_data"
    }
   ],
   "source": [
    "import lightgbm as lgb\n",
    "\n",
    "lgb_train = lgb.Dataset(trainx, trainy, free_raw_data=False)\n",
    "lgb_val = lgb.Dataset(testx, testy, reference=lgb_train, free_raw_data=False)\n",
    "\n",
    "core_params = {\n",
    "    'boosting_type': 'gbdt', \n",
    "    'objective': 'regression', \n",
    "    'learning_rate': 0.1,\n",
    "    'num_leaves': 31,\n",
    "    'max_depth': 10,\n",
    "    'nthread': 4,\n",
    "    'verbose': 0,\n",
    "    'metric': 'rmse'\n",
    "}\n",
    "\n",
    "training_set = lgb.Dataset(trainx, trainy, silent=True)\n",
    "boost_rounds=300\n",
    "early_stopping_rounds=500\n",
    "validation_set=ylabels\n",
    "\n",
    "evals_result = {}\n",
    "gbm = lgb.train(core_params, # parameter dict to use\n",
    "                train_set = lgb_train,\n",
    "                num_boost_round=boost_rounds, # number of boosting rounds.\n",
    "                early_stopping_rounds=early_stopping_rounds,\n",
    "                valid_sets=lgb_val,\n",
    "                evals_result=evals_result, # stores validation results.\n",
    "                verbose_eval=False) # print evaluations during training.\n",
    "\n",
    "evaluate(gbm, list(trainx.columns), trainx, testx, trainy, testy)\n",
    "\n",
    "ax = lgbm.plot_importance(model, max_num_features=10)\n",
    "plt.show()"
   ]
  },
  {
   "cell_type": "code",
   "execution_count": 86,
   "metadata": {},
   "outputs": [
    {
     "name": "stderr",
     "output_type": "stream",
     "text": [
      "[Parallel(n_jobs=-1)]: Using backend ThreadingBackend with 4 concurrent workers.\n",
      "[Parallel(n_jobs=-1)]: Done  10 out of  10 | elapsed:   53.2s finished\n",
      "[Parallel(n_jobs=4)]: Using backend ThreadingBackend with 4 concurrent workers.\n",
      "[Parallel(n_jobs=4)]: Done  10 out of  10 | elapsed:    0.3s finished\n",
      "[Parallel(n_jobs=4)]: Using backend ThreadingBackend with 4 concurrent workers.\n",
      "[Parallel(n_jobs=4)]: Done  10 out of  10 | elapsed:    0.1s finished\n"
     ]
    },
    {
     "name": "stdout",
     "output_type": "stream",
     "text": [
      "Training:   rmse = 3.69 \t mape = 19.81\n",
      "Validation: rmse = 3.75 \t mape = 19.94\n"
     ]
    }
   ],
   "source": [
    "# Create the random forest\n",
    "random_forest = RandomForestRegressor(max_depth = 10, max_features = None, oob_score = True, \n",
    "                                      bootstrap = True, verbose = 1, n_jobs = -1)\n",
    "\n",
    "# Train on data\n",
    "random_forest.fit(trainx, trainy)\n",
    "evaluate(random_forest, list(trainx.columns), trainx, testx, trainy, testy)"
   ]
  }
 ],
 "metadata": {
  "kernelspec": {
   "display_name": "Python [conda env:dsenv2] *",
   "language": "python",
   "name": "conda-env-dsenv2-py"
  },
  "language_info": {
   "codemirror_mode": {
    "name": "ipython",
    "version": 3
   },
   "file_extension": ".py",
   "mimetype": "text/x-python",
   "name": "python",
   "nbconvert_exporter": "python",
   "pygments_lexer": "ipython3",
   "version": "3.6.7"
  }
 },
 "nbformat": 4,
 "nbformat_minor": 2
}
