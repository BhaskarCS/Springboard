{
 "cells": [
  {
   "cell_type": "markdown",
   "metadata": {},
   "source": [
    "## Capstone Project : New York City Taxi Fare Prediction\n",
    "Bhaskar Das\n",
    "Springboard Data Science Career Track, May 2019 cohort\n",
    "\n",
    "### Import Libraries"
   ]
  },
  {
   "cell_type": "code",
   "execution_count": 1,
   "metadata": {},
   "outputs": [],
   "source": [
    "# load some default Python modules\n",
    "import numpy as np # Linear algebra\n",
    "import pandas as pd # Data processing, CSV file I/O\n",
    "pd.set_option('display.float_format', lambda x: '%.3f' % x) # Pandas display options\n",
    "r_seed = 100 # Set random seed \n",
    "\n",
    "from tqdm import tqdm # Decorate an iterable object. Used for reading large input file\n",
    "\n",
    "import os # Reading the input files we have access to\n",
    "import warnings # Ignore warnings\n",
    "warnings.simplefilter(\"ignore\")\n",
    "\n",
    "# Visualizations\n",
    "import matplotlib.pyplot as plt\n",
    "%matplotlib inline\n",
    "#plt.style.use('seaborn-whitegrid')\n",
    "plt.style.use('fivethirtyeight')\n",
    "plt.rcParams['font.size'] = 18\n",
    "\n",
    "import seaborn as sns\n",
    "palette = sns.color_palette('Paired', 10)"
   ]
  },
  {
   "cell_type": "markdown",
   "metadata": {},
   "source": [
    "### 1.1 Reading Data\n",
    "\n",
    "The data contain 55 million rows out of which we will work with only 2 million rows to speed up our model. Later we will use more data to evaluate the accuracy of our model. For the longitude and latitude values, we will use float32 insted of float64 to train data faster. While reading the data, we will treat the variable \"pickup_datetime\" as a date and drop the variable \"key\" since it is a unique identifier."
   ]
  },
  {
   "cell_type": "code",
   "execution_count": 2,
   "metadata": {},
   "outputs": [
    {
     "name": "stderr",
     "output_type": "stream",
     "text": [
      "28it [01:41,  3.63s/it]\n"
     ]
    },
    {
     "name": "stdout",
     "output_type": "stream",
     "text": [
      "Wall time: 1min 44s\n"
     ]
    }
   ],
   "source": [
    "%%time\n",
    "\n",
    "TRAIN_PATH = './input/train.csv'\n",
    "\n",
    "# Set columns to most suitable type to optimize for memory usage\n",
    "traintypes = {'fare_amount': 'float32', #'key':'object', # dropped ID variable\n",
    "              'pickup_datetime': 'str', \n",
    "              'pickup_longitude': 'float32',\n",
    "              'pickup_latitude': 'float32',\n",
    "              'dropoff_longitude': 'float32',\n",
    "              'dropoff_latitude': 'float32',\n",
    "              'passenger_count': 'uint8'}\n",
    "\n",
    "cols = list(traintypes.keys())\n",
    "\n",
    "chunksize = 2_000_000\n",
    "\n",
    "df_list = [] # list to hold the batch dataframe\n",
    "\n",
    "for df_chunk in tqdm(pd.read_csv(TRAIN_PATH, usecols=cols, dtype=traintypes, chunksize=chunksize)):\n",
    "     \n",
    "    # Using parse_dates would be much slower\n",
    "    df_chunk['pickup_datetime'] = df_chunk['pickup_datetime'].str.slice(0, 16)\n",
    "    df_chunk['pickup_datetime'] = pd.to_datetime(df_chunk['pickup_datetime'], utc=True, format='%Y-%m-%d %H:%M')\n",
    "    \n",
    "    # Alternatively, append the chunk to list and merge all\n",
    "    df_list.append(df_chunk) \n",
    "    \n",
    "# Merge all dataframes into one dataframe\n",
    "train_df_all = pd.concat(df_list)\n",
    "\n",
    "# Delete the dataframe list to release memory\n",
    "del df_list"
   ]
  },
  {
   "cell_type": "code",
   "execution_count": 3,
   "metadata": {},
   "outputs": [
    {
     "data": {
      "text/html": [
       "<div>\n",
       "<style scoped>\n",
       "    .dataframe tbody tr th:only-of-type {\n",
       "        vertical-align: middle;\n",
       "    }\n",
       "\n",
       "    .dataframe tbody tr th {\n",
       "        vertical-align: top;\n",
       "    }\n",
       "\n",
       "    .dataframe thead th {\n",
       "        text-align: right;\n",
       "    }\n",
       "</style>\n",
       "<table border=\"1\" class=\"dataframe\">\n",
       "  <thead>\n",
       "    <tr style=\"text-align: right;\">\n",
       "      <th></th>\n",
       "      <th>fare_amount</th>\n",
       "      <th>pickup_datetime</th>\n",
       "      <th>pickup_longitude</th>\n",
       "      <th>pickup_latitude</th>\n",
       "      <th>dropoff_longitude</th>\n",
       "      <th>dropoff_latitude</th>\n",
       "      <th>passenger_count</th>\n",
       "    </tr>\n",
       "  </thead>\n",
       "  <tbody>\n",
       "    <tr>\n",
       "      <td>0</td>\n",
       "      <td>4.500</td>\n",
       "      <td>2009-06-15 17:26:00+00:00</td>\n",
       "      <td>-73.844</td>\n",
       "      <td>40.721</td>\n",
       "      <td>-73.842</td>\n",
       "      <td>40.712</td>\n",
       "      <td>1</td>\n",
       "    </tr>\n",
       "    <tr>\n",
       "      <td>1</td>\n",
       "      <td>16.900</td>\n",
       "      <td>2010-01-05 16:52:00+00:00</td>\n",
       "      <td>-74.016</td>\n",
       "      <td>40.711</td>\n",
       "      <td>-73.979</td>\n",
       "      <td>40.782</td>\n",
       "      <td>1</td>\n",
       "    </tr>\n",
       "    <tr>\n",
       "      <td>2</td>\n",
       "      <td>5.700</td>\n",
       "      <td>2011-08-18 00:35:00+00:00</td>\n",
       "      <td>-73.983</td>\n",
       "      <td>40.761</td>\n",
       "      <td>-73.991</td>\n",
       "      <td>40.751</td>\n",
       "      <td>2</td>\n",
       "    </tr>\n",
       "    <tr>\n",
       "      <td>3</td>\n",
       "      <td>7.700</td>\n",
       "      <td>2012-04-21 04:30:00+00:00</td>\n",
       "      <td>-73.987</td>\n",
       "      <td>40.733</td>\n",
       "      <td>-73.992</td>\n",
       "      <td>40.758</td>\n",
       "      <td>1</td>\n",
       "    </tr>\n",
       "    <tr>\n",
       "      <td>4</td>\n",
       "      <td>5.300</td>\n",
       "      <td>2010-03-09 07:51:00+00:00</td>\n",
       "      <td>-73.968</td>\n",
       "      <td>40.768</td>\n",
       "      <td>-73.957</td>\n",
       "      <td>40.784</td>\n",
       "      <td>1</td>\n",
       "    </tr>\n",
       "  </tbody>\n",
       "</table>\n",
       "</div>"
      ],
      "text/plain": [
       "   fare_amount           pickup_datetime  pickup_longitude  pickup_latitude  \\\n",
       "0        4.500 2009-06-15 17:26:00+00:00           -73.844           40.721   \n",
       "1       16.900 2010-01-05 16:52:00+00:00           -74.016           40.711   \n",
       "2        5.700 2011-08-18 00:35:00+00:00           -73.983           40.761   \n",
       "3        7.700 2012-04-21 04:30:00+00:00           -73.987           40.733   \n",
       "4        5.300 2010-03-09 07:51:00+00:00           -73.968           40.768   \n",
       "\n",
       "   dropoff_longitude  dropoff_latitude  passenger_count  \n",
       "0            -73.842            40.712                1  \n",
       "1            -73.979            40.782                1  \n",
       "2            -73.991            40.751                2  \n",
       "3            -73.992            40.758                1  \n",
       "4            -73.957            40.784                1  "
      ]
     },
     "execution_count": 3,
     "metadata": {},
     "output_type": "execute_result"
    }
   ],
   "source": [
    "train_df = train_df_all.head(2_000_000) # load 2 million rows to train model\n",
    "\n",
    "# See what we have loaded\n",
    "train_df.head()    "
   ]
  },
  {
   "cell_type": "code",
   "execution_count": 4,
   "metadata": {},
   "outputs": [
    {
     "data": {
      "text/html": [
       "<div>\n",
       "<style scoped>\n",
       "    .dataframe tbody tr th:only-of-type {\n",
       "        vertical-align: middle;\n",
       "    }\n",
       "\n",
       "    .dataframe tbody tr th {\n",
       "        vertical-align: top;\n",
       "    }\n",
       "\n",
       "    .dataframe thead th {\n",
       "        text-align: right;\n",
       "    }\n",
       "</style>\n",
       "<table border=\"1\" class=\"dataframe\">\n",
       "  <thead>\n",
       "    <tr style=\"text-align: right;\">\n",
       "      <th></th>\n",
       "      <th>fare_amount</th>\n",
       "      <th>pickup_longitude</th>\n",
       "      <th>pickup_latitude</th>\n",
       "      <th>dropoff_longitude</th>\n",
       "      <th>dropoff_latitude</th>\n",
       "      <th>passenger_count</th>\n",
       "    </tr>\n",
       "  </thead>\n",
       "  <tbody>\n",
       "    <tr>\n",
       "      <td>count</td>\n",
       "      <td>2000000.000</td>\n",
       "      <td>2000000.000</td>\n",
       "      <td>2000000.000</td>\n",
       "      <td>1999986.000</td>\n",
       "      <td>1999986.000</td>\n",
       "      <td>2000000.000</td>\n",
       "    </tr>\n",
       "    <tr>\n",
       "      <td>mean</td>\n",
       "      <td>11.348</td>\n",
       "      <td>-72.523</td>\n",
       "      <td>39.930</td>\n",
       "      <td>-72.524</td>\n",
       "      <td>39.928</td>\n",
       "      <td>1.684</td>\n",
       "    </tr>\n",
       "    <tr>\n",
       "      <td>std</td>\n",
       "      <td>9.853</td>\n",
       "      <td>12.868</td>\n",
       "      <td>7.983</td>\n",
       "      <td>12.775</td>\n",
       "      <td>10.324</td>\n",
       "      <td>1.315</td>\n",
       "    </tr>\n",
       "    <tr>\n",
       "      <td>min</td>\n",
       "      <td>-62.000</td>\n",
       "      <td>-3377.681</td>\n",
       "      <td>-3458.665</td>\n",
       "      <td>-3383.297</td>\n",
       "      <td>-3461.541</td>\n",
       "      <td>0.000</td>\n",
       "    </tr>\n",
       "    <tr>\n",
       "      <td>25%</td>\n",
       "      <td>6.000</td>\n",
       "      <td>-73.992</td>\n",
       "      <td>40.735</td>\n",
       "      <td>-73.991</td>\n",
       "      <td>40.734</td>\n",
       "      <td>1.000</td>\n",
       "    </tr>\n",
       "    <tr>\n",
       "      <td>50%</td>\n",
       "      <td>8.500</td>\n",
       "      <td>-73.982</td>\n",
       "      <td>40.753</td>\n",
       "      <td>-73.980</td>\n",
       "      <td>40.753</td>\n",
       "      <td>1.000</td>\n",
       "    </tr>\n",
       "    <tr>\n",
       "      <td>75%</td>\n",
       "      <td>12.500</td>\n",
       "      <td>-73.967</td>\n",
       "      <td>40.767</td>\n",
       "      <td>-73.964</td>\n",
       "      <td>40.768</td>\n",
       "      <td>2.000</td>\n",
       "    </tr>\n",
       "    <tr>\n",
       "      <td>max</td>\n",
       "      <td>1273.310</td>\n",
       "      <td>2856.442</td>\n",
       "      <td>2621.628</td>\n",
       "      <td>3414.307</td>\n",
       "      <td>3345.917</td>\n",
       "      <td>208.000</td>\n",
       "    </tr>\n",
       "  </tbody>\n",
       "</table>\n",
       "</div>"
      ],
      "text/plain": [
       "       fare_amount  pickup_longitude  pickup_latitude  dropoff_longitude  \\\n",
       "count  2000000.000       2000000.000      2000000.000        1999986.000   \n",
       "mean        11.348           -72.523           39.930            -72.524   \n",
       "std          9.853            12.868            7.983             12.775   \n",
       "min        -62.000         -3377.681        -3458.665          -3383.297   \n",
       "25%          6.000           -73.992           40.735            -73.991   \n",
       "50%          8.500           -73.982           40.753            -73.980   \n",
       "75%         12.500           -73.967           40.767            -73.964   \n",
       "max       1273.310          2856.442         2621.628           3414.307   \n",
       "\n",
       "       dropoff_latitude  passenger_count  \n",
       "count       1999986.000      2000000.000  \n",
       "mean             39.928            1.684  \n",
       "std              10.324            1.315  \n",
       "min           -3461.541            0.000  \n",
       "25%              40.734            1.000  \n",
       "50%              40.753            1.000  \n",
       "75%              40.768            2.000  \n",
       "max            3345.917          208.000  "
      ]
     },
     "execution_count": 4,
     "metadata": {},
     "output_type": "execute_result"
    }
   ],
   "source": [
    "# check statistics of the features\n",
    "train_df.describe()"
   ]
  },
  {
   "cell_type": "markdown",
   "metadata": {},
   "source": [
    "We can observe that there are a number of outliers present in the data:\n",
    "\n",
    "- fare_amount contains negative value.\n",
    "- the latitude and longitude values.\n",
    "- passenger_count contains 0 value."
   ]
  },
  {
   "cell_type": "markdown",
   "metadata": {},
   "source": [
    "### 2. Missing value treatment\n",
    "\n",
    "We will remove observations with missing entries."
   ]
  },
  {
   "cell_type": "code",
   "execution_count": 5,
   "metadata": {},
   "outputs": [
    {
     "name": "stdout",
     "output_type": "stream",
     "text": [
      "fare_amount           0\n",
      "pickup_datetime       0\n",
      "pickup_longitude      0\n",
      "pickup_latitude       0\n",
      "dropoff_longitude    14\n",
      "dropoff_latitude     14\n",
      "passenger_count       0\n",
      "dtype: int64\n"
     ]
    }
   ],
   "source": [
    "# Check missing values\n",
    "print(train_df.isnull().sum())"
   ]
  },
  {
   "cell_type": "markdown",
   "metadata": {},
   "source": [
    "Only two columns contains missing values and we have deleted those rows."
   ]
  },
  {
   "cell_type": "code",
   "execution_count": 6,
   "metadata": {},
   "outputs": [
    {
     "name": "stdout",
     "output_type": "stream",
     "text": [
      "Old size: 2000000\n",
      "New size: 1999986\n",
      "\n",
      "<class 'pandas.core.frame.DataFrame'>\n",
      "Int64Index: 1999986 entries, 0 to 1999999\n",
      "Data columns (total 7 columns):\n",
      "fare_amount          float32\n",
      "pickup_datetime      datetime64[ns, UTC]\n",
      "pickup_longitude     float32\n",
      "pickup_latitude      float32\n",
      "dropoff_longitude    float32\n",
      "dropoff_latitude     float32\n",
      "passenger_count      uint8\n",
      "dtypes: datetime64[ns, UTC](1), float32(5), uint8(1)\n",
      "memory usage: 70.6 MB\n"
     ]
    }
   ],
   "source": [
    "print('Old size: %d' % len(train_df))\n",
    "train_df = train_df.dropna()\n",
    "#train_df = train_df[train_df.fare_amount>=0]\n",
    "print('New size: %d\\n' % len(train_df))\n",
    "train_df.info()"
   ]
  },
  {
   "cell_type": "markdown",
   "metadata": {},
   "source": [
    "### 3. Outlier Detection and Treatment"
   ]
  },
  {
   "cell_type": "markdown",
   "metadata": {},
   "source": [
    "#### Fare Amount"
   ]
  },
  {
   "cell_type": "code",
   "execution_count": 9,
   "metadata": {},
   "outputs": [],
   "source": [
    "# Data backup\n",
    "train_df2 = train_df.copy()"
   ]
  },
  {
   "cell_type": "code",
   "execution_count": 163,
   "metadata": {},
   "outputs": [],
   "source": [
    "# load backup data\n",
    "# train_df = train_df2.copy()"
   ]
  },
  {
   "cell_type": "code",
   "execution_count": 164,
   "metadata": {},
   "outputs": [
    {
     "data": {
      "image/png": "[encoded data removed]",
      "text/plain": [
       "<Figure size 720x432 with 1 Axes>"
      ]
     },
     "metadata": {
      "needs_background": "light"
     },
     "output_type": "display_data"
    }
   ],
   "source": [
    "# Examine the Target Variable\n",
    "plt.figure(figsize = (10, 6))\n",
    "sns.distplot(train_df['fare_amount']);\n",
    "plt.title('Distribution of Fare');"
   ]
  },
  {
   "cell_type": "code",
   "execution_count": 166,
   "metadata": {},
   "outputs": [
    {
     "name": "stdout",
     "output_type": "stream",
     "text": [
      "Negative fares:  77\n",
      "$0 fares:  56\n",
      "Less than minimum $2.5 fares:  155\n",
      "Fares between $2.5 and $100:  1999046\n",
      "Fares greater than $100:  785\n"
     ]
    }
   ],
   "source": [
    "print(\"Negative fares: \", len(train_df[train_df['fare_amount'] < 0]))\n",
    "print(\"$0 fares: \", len(train_df[train_df['fare_amount'] == 0]))\n",
    "print(\"Less than minimum $2.5 fares: \", len(train_df[train_df['fare_amount'] < 2.5]))\n",
    "print(\"Fares between $2.5 and $100: \", len(train_df[train_df['fare_amount'].between(left=2.5,right=100)]))\n",
    "print(\"Fares greater than $100: \", len(train_df[train_df['fare_amount'] > 100]))"
   ]
  },
  {
   "cell_type": "markdown",
   "metadata": {},
   "source": [
    "Most of the rides lies between \\\\$2.5 and \\\\$100. "
   ]
  },
  {
   "cell_type": "code",
   "execution_count": 169,
   "metadata": {},
   "outputs": [
    {
     "data": {
      "image/png": "[encoded data removed]",
      "text/plain": [
       "<Figure size 576x432 with 1 Axes>"
      ]
     },
     "metadata": {
      "needs_background": "light"
     },
     "output_type": "display_data"
    }
   ],
   "source": [
    "def ecdf(x):\n",
    "    \"\"\"Empirical cumulative distribution function of a variable\"\"\"\n",
    "    # Sort in ascending order\n",
    "    x = np.sort(x)\n",
    "    n = len(x)\n",
    "    \n",
    "    # Go from 1/n to 1\n",
    "    y = np.arange(1, n + 1, 1) / n\n",
    "    \n",
    "    return x, y\n",
    "\n",
    "fare_100 = train_df[train_df['fare_amount'].between(left=2.5,right=100)]\n",
    "\n",
    "xs, ys = ecdf(fare_100['fare_amount'])\n",
    "plt.figure(figsize = (8, 6))\n",
    "plt.plot(xs, ys, '.')\n",
    "plt.ylabel('Percentile'); plt.title('ECDF of Fare Amount'); plt.xlabel('Fare Amount ($)');"
   ]
  },
  {
   "cell_type": "markdown",
   "metadata": {},
   "source": [
    "From the ECDF plot, we can observe that most of the rides are below \\\\$20. Nest, we will remove fares less than \\\\$2.5, which is the minimum fare."
   ]
  },
  {
   "cell_type": "code",
   "execution_count": 170,
   "metadata": {},
   "outputs": [
    {
     "name": "stdout",
     "output_type": "stream",
     "text": [
      "Counter({False: 1999831, True: 155})\n",
      "Old size: 1999986\n",
      "New size: 1999831\n",
      "(1999831, 7)\n",
      "count   1999831.000\n",
      "mean         11.349\n",
      "std           9.852\n",
      "min           2.500\n",
      "25%           6.000\n",
      "50%           8.500\n",
      "75%          12.500\n",
      "max        1273.310\n",
      "Name: fare_amount, dtype: float64\n"
     ]
    }
   ],
   "source": [
    "from collections import Counter\n",
    "\n",
    "print(Counter(train_df['fare_amount']<2.5))\n",
    "print('Old size: %d' % len(train_df))\n",
    "\n",
    "train_df = train_df.drop(train_df[train_df['fare_amount']<2.5].index, axis=0)\n",
    "print('New size: %d' % len(train_df))\n",
    "print(train_df.shape)\n",
    "\n",
    "#no more negative values in the fare field\n",
    "print(train_df['fare_amount'].describe())\n",
    "#train_df['fare_amount'].sort_values(ascending=False)\n",
    "#train_df['fare_amount'].value_counts().sort_values(ascending=False)\n",
    "#train_df['fare_amount'].value_counts().sort_index(ascending=False).head(20)"
   ]
  },
  {
   "cell_type": "code",
   "execution_count": 171,
   "metadata": {},
   "outputs": [
    {
     "data": {
      "image/png": "[encoded data removed]",
      "text/plain": [
       "<Figure size 864x432 with 1 Axes>"
      ]
     },
     "metadata": {
      "needs_background": "light"
     },
     "output_type": "display_data"
    }
   ],
   "source": [
    "# Fare into a separate dataframe\n",
    "fare_data = train_df[['fare_amount']]\n",
    "\n",
    "# Bin the age data\n",
    "fare_data['fare_bin'] = pd.cut(train_df['fare_amount'], bins = np.linspace(2.5, 55.5, num = 22))\n",
    "\n",
    "plt.figure(figsize = (12, 6))\n",
    "\n",
    "# Graph the fare bins as a bar plot\n",
    "fare_data['fare_bin'].value_counts().sort_index().plot.bar(color = 'b', edgecolor = 'k');\n",
    "\n",
    "# Plot labeling\n",
    "plt.xticks(rotation = 75); plt.xlabel('Taxi fare in $USD'); plt.ylabel('Count')\n",
    "plt.title('Taxi fare');\n"
   ]
  },
  {
   "cell_type": "markdown",
   "metadata": {},
   "source": [
    "The minimum taxi fares in New York City starts from \\\\$2.5. Therefore, all the records having values less than \\\\$2.50 are removed. "
   ]
  },
  {
   "cell_type": "markdown",
   "metadata": {},
   "source": [
    "#### Passenger Counts"
   ]
  },
  {
   "cell_type": "code",
   "execution_count": 172,
   "metadata": {},
   "outputs": [],
   "source": [
    "# data backup\n",
    "train_df3 = train_df.copy()"
   ]
  },
  {
   "cell_type": "code",
   "execution_count": 186,
   "metadata": {},
   "outputs": [],
   "source": [
    "# load backup data\n",
    "# train_df = train_df3.copy()"
   ]
  },
  {
   "cell_type": "code",
   "execution_count": 190,
   "metadata": {},
   "outputs": [
    {
     "data": {
      "image/png": "[encoded data removed]",
      "text/plain": [
       "<Figure size 432x288 with 1 Axes>"
      ]
     },
     "metadata": {
      "needs_background": "light"
     },
     "output_type": "display_data"
    }
   ],
   "source": [
    "train_df['passenger_count'].value_counts().plot.bar(color = 'b', edgecolor = 'k');\n",
    "plt.title('Passenger Counts'); plt.xlabel('Number of Passengers'); plt.ylabel('Count');"
   ]
  },
  {
   "cell_type": "markdown",
   "metadata": {},
   "source": [
    "Passenger counts can not be more than 6. Therefore, all recordes will be deleted where passenger counts is more than 6."
   ]
  },
  {
   "cell_type": "code",
   "execution_count": 189,
   "metadata": {},
   "outputs": [
    {
     "name": "stdout",
     "output_type": "stream",
     "text": [
      "Old size: 1999831\n",
      "New size: 1999829\n"
     ]
    }
   ],
   "source": [
    "print('Old size: %d' % len(train_df))\n",
    "train_df = train_df.loc[train_df['passenger_count'] <= 6]\n",
    "print('New size: %d' % len(train_df))"
   ]
  },
  {
   "cell_type": "markdown",
   "metadata": {},
   "source": [
    "#### Location Data"
   ]
  },
  {
   "cell_type": "code",
   "execution_count": 191,
   "metadata": {},
   "outputs": [],
   "source": [
    "# data backup\n",
    "train_df4 = train_df.copy()"
   ]
  },
  {
   "cell_type": "code",
   "execution_count": 294,
   "metadata": {},
   "outputs": [],
   "source": [
    "# load backup data\n",
    "# train_df = train_df4.copy()"
   ]
  },
  {
   "cell_type": "markdown",
   "metadata": {},
   "source": [
    "Remove outlier from location data."
   ]
  },
  {
   "cell_type": "code",
   "execution_count": 297,
   "metadata": {},
   "outputs": [
    {
     "name": "stdout",
     "output_type": "stream",
     "text": [
      "Pickup_latitude  : 2.5% = 40.64 \t 97.5% =     40.8\n",
      "Pickup_longitude : 2.5% = -74.01 \t 97.5% =     -73.78\n",
      "Dropoff_latitude : 2.5% = 40.64 \t 97.5% =     40.81\n",
      "Dropoff_longitude: 2.5% = -74.01 \t 97.5% =     -73.78\n"
     ]
    }
   ],
   "source": [
    "for col in ['pickup_latitude', 'pickup_longitude', 'dropoff_latitude', 'dropoff_longitude']:\n",
    "    print(f'{col.capitalize():17}: 2.5% = {round(np.percentile(train_df[col], 2.5), 2):5} \\t 97.5% = \\\n",
    "    {round(np.percentile(train_df[col], 97.5), 2)}')"
   ]
  },
  {
   "cell_type": "code",
   "execution_count": 298,
   "metadata": {},
   "outputs": [
    {
     "name": "stdout",
     "output_type": "stream",
     "text": [
      "New number of observations: 1958184\n"
     ]
    }
   ],
   "source": [
    "# Remove latitude and longtiude outliers\n",
    "train_df = train_df.loc[train_df['pickup_latitude'].between(40, 42)]\n",
    "train_df = train_df.loc[train_df['pickup_longitude'].between(-75, -72)]\n",
    "train_df = train_df.loc[train_df['dropoff_latitude'].between(40, 42)]\n",
    "train_df = train_df.loc[train_df['dropoff_longitude'].between(-75, -72)]\n",
    "\n",
    "print(f'New number of observations: {train_df.shape[0]}')"
   ]
  },
  {
   "cell_type": "markdown",
   "metadata": {},
   "source": [
    "### 4. Exploratory Data Analysis (EDA)\n",
    "\n",
    "We will use vizulization methods to find trends, anomalies, patterns, or relationships within the data. EDA helps us to learn more about our data.\n",
    "\n",
    "#### Correlation Matrix \n",
    "\n",
    "The Pearson correlation coefficient gives the correlations between a variable and the target. It gives us an idea of possible relationships within the data."
   ]
  },
  {
   "cell_type": "code",
   "execution_count": 299,
   "metadata": {},
   "outputs": [],
   "source": [
    "# data backup\n",
    "train_df5 = train_df.copy()"
   ]
  },
  {
   "cell_type": "code",
   "execution_count": 300,
   "metadata": {},
   "outputs": [],
   "source": [
    "# load backup data\n",
    "# train_df = train_df5.copy()"
   ]
  },
  {
   "cell_type": "code",
   "execution_count": 301,
   "metadata": {},
   "outputs": [
    {
     "name": "stdout",
     "output_type": "stream",
     "text": [
      "Correlations:\n",
      " pickup_latitude     -0.186\n",
      "dropoff_latitude    -0.153\n",
      "passenger_count      0.014\n",
      "dropoff_longitude    0.282\n",
      "pickup_longitude     0.372\n",
      "fare_amount          1.000\n",
      "Name: fare_amount, dtype: float64\n"
     ]
    }
   ],
   "source": [
    "# Find correlations with the fare_amount and sort\n",
    "correlations = train_df.corr()['fare_amount'].sort_values()\n",
    "\n",
    "# Display correlations\n",
    "print('Correlations:\\n', correlations.tail(15))"
   ]
  },
  {
   "cell_type": "markdown",
   "metadata": {},
   "source": [
    "The passenger_count has positive correlation with the fare_amount. The increase in the passenger_count increase fare_amount. "
   ]
  },
  {
   "cell_type": "markdown",
   "metadata": {},
   "source": [
    "#### Relationship between number of passengers and fare"
   ]
  },
  {
   "cell_type": "code",
   "execution_count": 302,
   "metadata": {},
   "outputs": [
    {
     "data": {
      "text/plain": [
       "Text(0, 0.5, 'Frequency')"
      ]
     },
     "execution_count": 302,
     "metadata": {},
     "output_type": "execute_result"
    },
    {
     "data": {
      "image/png": "[encoded data removed]",
      "text/plain": [
       "<Figure size 720x360 with 1 Axes>"
      ]
     },
     "metadata": {
      "needs_background": "light"
     },
     "output_type": "display_data"
    }
   ],
   "source": [
    "plt.figure(figsize=(10,5))\n",
    "plt.hist(train_df['passenger_count'], bins=15)\n",
    "plt.xlabel('No. of Passengers')\n",
    "plt.ylabel('Frequency')"
   ]
  },
  {
   "cell_type": "markdown",
   "metadata": {},
   "source": [
    "Single passengers are the most frequent travellers."
   ]
  },
  {
   "cell_type": "code",
   "execution_count": 303,
   "metadata": {},
   "outputs": [
    {
     "data": {
      "text/plain": [
       "Text(0, 0.5, 'Fare')"
      ]
     },
     "execution_count": 303,
     "metadata": {},
     "output_type": "execute_result"
    },
    {
     "data": {
      "image/png": "[encoded data removed]",
      "text/plain": [
       "<Figure size 720x360 with 1 Axes>"
      ]
     },
     "metadata": {
      "needs_background": "light"
     },
     "output_type": "display_data"
    }
   ],
   "source": [
    "plt.figure(figsize=(10,5))\n",
    "plt.scatter(x=train_df['passenger_count'], y=train_df['fare_amount'], s=1.5)\n",
    "plt.xlabel('No. of Passengers')\n",
    "plt.ylabel('Fare')"
   ]
  },
  {
   "cell_type": "markdown",
   "metadata": {},
   "source": [
    "The cabs receive heighest fares when thay carry single passengers."
   ]
  },
  {
   "cell_type": "markdown",
   "metadata": {},
   "source": [
    "### 4. Feature Engineering"
   ]
  },
  {
   "cell_type": "markdown",
   "metadata": {},
   "source": [
    "We will create new features out of the data for our machine learning model. \n",
    "\n",
    "We will calulate the distance between the pickup and dropoff from thei latitudes and longitudes values by using the Haversine formula. The distance of each ride will be added to our data."
   ]
  },
  {
   "cell_type": "code",
   "execution_count": 304,
   "metadata": {},
   "outputs": [],
   "source": [
    "# data backup\n",
    "train_df6 = train_df.copy()"
   ]
  },
  {
   "cell_type": "code",
   "execution_count": 206,
   "metadata": {},
   "outputs": [],
   "source": [
    "# load backup data\n",
    "# train_df = train_df6.copy()"
   ]
  },
  {
   "cell_type": "code",
   "execution_count": 305,
   "metadata": {},
   "outputs": [],
   "source": [
    "def haversine_distance(df, lat1, long1, lat2, long2):\n",
    "    R = 6371  #radius of earth in kilometers\n",
    "    phi1 = np.radians(df[lat1])\n",
    "    phi2 = np.radians(df[lat2])\n",
    "    \n",
    "    delta_phi = np.radians(df[lat2]-df[lat1])\n",
    "    delta_lambda = np.radians(df[long2]-df[long1])\n",
    "    \n",
    "    #a = sin²((φB - φA)/2) + cos φA . cos φB . sin²((λB - λA)/2)\n",
    "    a = np.sin(delta_phi / 2.0) ** 2 + np.cos(phi1) * np.cos(phi2) * np.sin(delta_lambda / 2.0) ** 2\n",
    "    \n",
    "    #c = 2 * atan2( √a, √(1−a) )\n",
    "    c = 2 * np.arctan2(np.sqrt(a), np.sqrt(1-a))\n",
    "    \n",
    "    #d = R*c\n",
    "    d = (R * c) #in kilometers\n",
    "    df['distance'] = d\n",
    "    #return d\n",
    "\n",
    "haversine_distance(train_df, 'pickup_latitude', 'pickup_longitude', 'dropoff_latitude', 'dropoff_longitude')"
   ]
  },
  {
   "cell_type": "code",
   "execution_count": 306,
   "metadata": {},
   "outputs": [
    {
     "data": {
      "text/html": [
       "<div>\n",
       "<style scoped>\n",
       "    .dataframe tbody tr th:only-of-type {\n",
       "        vertical-align: middle;\n",
       "    }\n",
       "\n",
       "    .dataframe tbody tr th {\n",
       "        vertical-align: top;\n",
       "    }\n",
       "\n",
       "    .dataframe thead th {\n",
       "        text-align: right;\n",
       "    }\n",
       "</style>\n",
       "<table border=\"1\" class=\"dataframe\">\n",
       "  <thead>\n",
       "    <tr style=\"text-align: right;\">\n",
       "      <th></th>\n",
       "      <th>fare_amount</th>\n",
       "      <th>pickup_datetime</th>\n",
       "      <th>pickup_longitude</th>\n",
       "      <th>pickup_latitude</th>\n",
       "      <th>dropoff_longitude</th>\n",
       "      <th>dropoff_latitude</th>\n",
       "      <th>passenger_count</th>\n",
       "      <th>distance</th>\n",
       "    </tr>\n",
       "  </thead>\n",
       "  <tbody>\n",
       "    <tr>\n",
       "      <td>0</td>\n",
       "      <td>4.500</td>\n",
       "      <td>2009-06-15 17:26:00+00:00</td>\n",
       "      <td>-73.844</td>\n",
       "      <td>40.721</td>\n",
       "      <td>-73.842</td>\n",
       "      <td>40.712</td>\n",
       "      <td>1</td>\n",
       "      <td>1.031</td>\n",
       "    </tr>\n",
       "    <tr>\n",
       "      <td>1</td>\n",
       "      <td>16.900</td>\n",
       "      <td>2010-01-05 16:52:00+00:00</td>\n",
       "      <td>-74.016</td>\n",
       "      <td>40.711</td>\n",
       "      <td>-73.979</td>\n",
       "      <td>40.782</td>\n",
       "      <td>1</td>\n",
       "      <td>8.450</td>\n",
       "    </tr>\n",
       "    <tr>\n",
       "      <td>2</td>\n",
       "      <td>5.700</td>\n",
       "      <td>2011-08-18 00:35:00+00:00</td>\n",
       "      <td>-73.983</td>\n",
       "      <td>40.761</td>\n",
       "      <td>-73.991</td>\n",
       "      <td>40.751</td>\n",
       "      <td>2</td>\n",
       "      <td>1.390</td>\n",
       "    </tr>\n",
       "    <tr>\n",
       "      <td>3</td>\n",
       "      <td>7.700</td>\n",
       "      <td>2012-04-21 04:30:00+00:00</td>\n",
       "      <td>-73.987</td>\n",
       "      <td>40.733</td>\n",
       "      <td>-73.992</td>\n",
       "      <td>40.758</td>\n",
       "      <td>1</td>\n",
       "      <td>2.799</td>\n",
       "    </tr>\n",
       "    <tr>\n",
       "      <td>4</td>\n",
       "      <td>5.300</td>\n",
       "      <td>2010-03-09 07:51:00+00:00</td>\n",
       "      <td>-73.968</td>\n",
       "      <td>40.768</td>\n",
       "      <td>-73.957</td>\n",
       "      <td>40.784</td>\n",
       "      <td>1</td>\n",
       "      <td>1.999</td>\n",
       "    </tr>\n",
       "  </tbody>\n",
       "</table>\n",
       "</div>"
      ],
      "text/plain": [
       "   fare_amount           pickup_datetime  pickup_longitude  pickup_latitude  \\\n",
       "0        4.500 2009-06-15 17:26:00+00:00           -73.844           40.721   \n",
       "1       16.900 2010-01-05 16:52:00+00:00           -74.016           40.711   \n",
       "2        5.700 2011-08-18 00:35:00+00:00           -73.983           40.761   \n",
       "3        7.700 2012-04-21 04:30:00+00:00           -73.987           40.733   \n",
       "4        5.300 2010-03-09 07:51:00+00:00           -73.968           40.768   \n",
       "\n",
       "   dropoff_longitude  dropoff_latitude  passenger_count  distance  \n",
       "0            -73.842            40.712                1     1.031  \n",
       "1            -73.979            40.782                1     8.450  \n",
       "2            -73.991            40.751                2     1.390  \n",
       "3            -73.992            40.758                1     2.799  \n",
       "4            -73.957            40.784                1     1.999  "
      ]
     },
     "execution_count": 306,
     "metadata": {},
     "output_type": "execute_result"
    }
   ],
   "source": [
    "train_df.head()"
   ]
  },
  {
   "cell_type": "markdown",
   "metadata": {},
   "source": [
    "We will create the new features, year, month, date, hour, and day_of_week from the pickup_datetime variable."
   ]
  },
  {
   "cell_type": "code",
   "execution_count": 307,
   "metadata": {},
   "outputs": [],
   "source": [
    "train_df['year'] = train_df['pickup_datetime'].dt.year\n",
    "train_df['month'] = train_df['pickup_datetime'].dt.month\n",
    "train_df['date'] = train_df['pickup_datetime'].dt.day\n",
    "train_df['day_of_week'] = train_df['pickup_datetime'].dt.dayofweek\n",
    "train_df['hour'] = train_df['pickup_datetime'].dt.hour"
   ]
  },
  {
   "cell_type": "code",
   "execution_count": 308,
   "metadata": {},
   "outputs": [
    {
     "data": {
      "text/html": [
       "<div>\n",
       "<style scoped>\n",
       "    .dataframe tbody tr th:only-of-type {\n",
       "        vertical-align: middle;\n",
       "    }\n",
       "\n",
       "    .dataframe tbody tr th {\n",
       "        vertical-align: top;\n",
       "    }\n",
       "\n",
       "    .dataframe thead th {\n",
       "        text-align: right;\n",
       "    }\n",
       "</style>\n",
       "<table border=\"1\" class=\"dataframe\">\n",
       "  <thead>\n",
       "    <tr style=\"text-align: right;\">\n",
       "      <th></th>\n",
       "      <th>fare_amount</th>\n",
       "      <th>pickup_datetime</th>\n",
       "      <th>pickup_longitude</th>\n",
       "      <th>pickup_latitude</th>\n",
       "      <th>dropoff_longitude</th>\n",
       "      <th>dropoff_latitude</th>\n",
       "      <th>passenger_count</th>\n",
       "      <th>distance</th>\n",
       "      <th>year</th>\n",
       "      <th>month</th>\n",
       "      <th>date</th>\n",
       "      <th>day_of_week</th>\n",
       "      <th>hour</th>\n",
       "    </tr>\n",
       "  </thead>\n",
       "  <tbody>\n",
       "    <tr>\n",
       "      <td>0</td>\n",
       "      <td>4.500</td>\n",
       "      <td>2009-06-15 17:26:00+00:00</td>\n",
       "      <td>-73.844</td>\n",
       "      <td>40.721</td>\n",
       "      <td>-73.842</td>\n",
       "      <td>40.712</td>\n",
       "      <td>1</td>\n",
       "      <td>1.031</td>\n",
       "      <td>2009</td>\n",
       "      <td>6</td>\n",
       "      <td>15</td>\n",
       "      <td>0</td>\n",
       "      <td>17</td>\n",
       "    </tr>\n",
       "    <tr>\n",
       "      <td>1</td>\n",
       "      <td>16.900</td>\n",
       "      <td>2010-01-05 16:52:00+00:00</td>\n",
       "      <td>-74.016</td>\n",
       "      <td>40.711</td>\n",
       "      <td>-73.979</td>\n",
       "      <td>40.782</td>\n",
       "      <td>1</td>\n",
       "      <td>8.450</td>\n",
       "      <td>2010</td>\n",
       "      <td>1</td>\n",
       "      <td>5</td>\n",
       "      <td>1</td>\n",
       "      <td>16</td>\n",
       "    </tr>\n",
       "    <tr>\n",
       "      <td>2</td>\n",
       "      <td>5.700</td>\n",
       "      <td>2011-08-18 00:35:00+00:00</td>\n",
       "      <td>-73.983</td>\n",
       "      <td>40.761</td>\n",
       "      <td>-73.991</td>\n",
       "      <td>40.751</td>\n",
       "      <td>2</td>\n",
       "      <td>1.390</td>\n",
       "      <td>2011</td>\n",
       "      <td>8</td>\n",
       "      <td>18</td>\n",
       "      <td>3</td>\n",
       "      <td>0</td>\n",
       "    </tr>\n",
       "    <tr>\n",
       "      <td>3</td>\n",
       "      <td>7.700</td>\n",
       "      <td>2012-04-21 04:30:00+00:00</td>\n",
       "      <td>-73.987</td>\n",
       "      <td>40.733</td>\n",
       "      <td>-73.992</td>\n",
       "      <td>40.758</td>\n",
       "      <td>1</td>\n",
       "      <td>2.799</td>\n",
       "      <td>2012</td>\n",
       "      <td>4</td>\n",
       "      <td>21</td>\n",
       "      <td>5</td>\n",
       "      <td>4</td>\n",
       "    </tr>\n",
       "    <tr>\n",
       "      <td>4</td>\n",
       "      <td>5.300</td>\n",
       "      <td>2010-03-09 07:51:00+00:00</td>\n",
       "      <td>-73.968</td>\n",
       "      <td>40.768</td>\n",
       "      <td>-73.957</td>\n",
       "      <td>40.784</td>\n",
       "      <td>1</td>\n",
       "      <td>1.999</td>\n",
       "      <td>2010</td>\n",
       "      <td>3</td>\n",
       "      <td>9</td>\n",
       "      <td>1</td>\n",
       "      <td>7</td>\n",
       "    </tr>\n",
       "  </tbody>\n",
       "</table>\n",
       "</div>"
      ],
      "text/plain": [
       "   fare_amount           pickup_datetime  pickup_longitude  pickup_latitude  \\\n",
       "0        4.500 2009-06-15 17:26:00+00:00           -73.844           40.721   \n",
       "1       16.900 2010-01-05 16:52:00+00:00           -74.016           40.711   \n",
       "2        5.700 2011-08-18 00:35:00+00:00           -73.983           40.761   \n",
       "3        7.700 2012-04-21 04:30:00+00:00           -73.987           40.733   \n",
       "4        5.300 2010-03-09 07:51:00+00:00           -73.968           40.768   \n",
       "\n",
       "   dropoff_longitude  dropoff_latitude  passenger_count  distance  year  \\\n",
       "0            -73.842            40.712                1     1.031  2009   \n",
       "1            -73.979            40.782                1     8.450  2010   \n",
       "2            -73.991            40.751                2     1.390  2011   \n",
       "3            -73.992            40.758                1     2.799  2012   \n",
       "4            -73.957            40.784                1     1.999  2010   \n",
       "\n",
       "   month  date  day_of_week  hour  \n",
       "0      6    15            0    17  \n",
       "1      1     5            1    16  \n",
       "2      8    18            3     0  \n",
       "3      4    21            5     4  \n",
       "4      3     9            1     7  "
      ]
     },
     "execution_count": 308,
     "metadata": {},
     "output_type": "execute_result"
    }
   ],
   "source": [
    "train_df.head()"
   ]
  },
  {
   "cell_type": "markdown",
   "metadata": {},
   "source": [
    "#### Effect of the date and time of pickup on the fare"
   ]
  },
  {
   "cell_type": "code",
   "execution_count": 309,
   "metadata": {},
   "outputs": [
    {
     "data": {
      "text/plain": [
       "Text(0.5, 1.0, 'Effect of the date of pickup on the frequency of ride')"
      ]
     },
     "execution_count": 309,
     "metadata": {},
     "output_type": "execute_result"
    },
    {
     "data": {
      "image/png": "[encoded data removed]",
      "text/plain": [
       "<Figure size 864x360 with 1 Axes>"
      ]
     },
     "metadata": {
      "needs_background": "light"
     },
     "output_type": "display_data"
    }
   ],
   "source": [
    "plt.figure(figsize=(12,5))\n",
    "plt.hist(train_df['date'], bins=100)\n",
    "plt.xlabel('date')\n",
    "plt.ylabel('Frequency')\n",
    "plt.title('Effect of the date of pickup on the frequency of ride')"
   ]
  },
  {
   "cell_type": "code",
   "execution_count": 310,
   "metadata": {},
   "outputs": [
    {
     "data": {
      "text/plain": [
       "Text(0.5, 1.0, 'Effect of the date of pickup on the fare')"
      ]
     },
     "execution_count": 310,
     "metadata": {},
     "output_type": "execute_result"
    },
    {
     "data": {
      "image/png": "[encoded data removed]",
      "text/plain": [
       "<Figure size 864x360 with 1 Axes>"
      ]
     },
     "metadata": {
      "needs_background": "light"
     },
     "output_type": "display_data"
    }
   ],
   "source": [
    "plt.figure(figsize=(12,5))\n",
    "plt.scatter(x=train_df['date'], y=train_df['fare_amount'], s=1.5)\n",
    "plt.xlabel('Date')\n",
    "plt.ylabel('Fare')\n",
    "plt.title('Effect of the date of pickup on the fare')"
   ]
  },
  {
   "cell_type": "markdown",
   "metadata": {},
   "source": [
    "From the above figures, it looks like the frequency of ride and the fare are not affected by the date."
   ]
  },
  {
   "cell_type": "code",
   "execution_count": 311,
   "metadata": {},
   "outputs": [
    {
     "data": {
      "text/plain": [
       "Text(0.5, 1.0, 'Time of the day and the the frequency of ride')"
      ]
     },
     "execution_count": 311,
     "metadata": {},
     "output_type": "execute_result"
    },
    {
     "data": {
      "image/png": "[encoded data removed]",
      "text/plain": [
       "<Figure size 864x360 with 1 Axes>"
      ]
     },
     "metadata": {
      "needs_background": "light"
     },
     "output_type": "display_data"
    }
   ],
   "source": [
    "plt.figure(figsize=(12,5))\n",
    "plt.hist(train_df['hour'], bins=100)\n",
    "plt.xlabel('Hour')\n",
    "plt.ylabel('Frequency')\n",
    "plt.title('Time of the day and the the frequency of ride')"
   ]
  },
  {
   "cell_type": "markdown",
   "metadata": {},
   "source": [
    "The time of the day affect the frequency of the rides. Morning 5 sees the lowest and evening 7 being the heighst."
   ]
  },
  {
   "cell_type": "code",
   "execution_count": 312,
   "metadata": {},
   "outputs": [
    {
     "data": {
      "text/plain": [
       "Text(0.5, 1.0, 'Effect of the time of the day on the fare')"
      ]
     },
     "execution_count": 312,
     "metadata": {},
     "output_type": "execute_result"
    },
    {
     "data": {
      "image/png": "[encoded data removed]",
      "text/plain": [
       "<Figure size 864x360 with 1 Axes>"
      ]
     },
     "metadata": {
      "needs_background": "light"
     },
     "output_type": "display_data"
    }
   ],
   "source": [
    "plt.figure(figsize=(12,5))\n",
    "plt.scatter(x=train_df['hour'], y=train_df['fare_amount'], s=1.5)\n",
    "plt.xlabel('Hour')\n",
    "plt.ylabel('Fare')\n",
    "plt.title('Effect of the time of the day on the fare')"
   ]
  },
  {
   "cell_type": "markdown",
   "metadata": {},
   "source": [
    "However, the fare is high between 5AM to 9AM and 1PM to 4PM."
   ]
  },
  {
   "cell_type": "markdown",
   "metadata": {},
   "source": [
    "#### Effect of the day of the week on the fare"
   ]
  },
  {
   "cell_type": "code",
   "execution_count": 313,
   "metadata": {},
   "outputs": [
    {
     "data": {
      "text/plain": [
       "Text(0.5, 1.0, 'Time of the day and the frequency of ride')"
      ]
     },
     "execution_count": 313,
     "metadata": {},
     "output_type": "execute_result"
    },
    {
     "data": {
      "image/png": "[encoded data removed]",
      "text/plain": [
       "<Figure size 720x360 with 1 Axes>"
      ]
     },
     "metadata": {
      "needs_background": "light"
     },
     "output_type": "display_data"
    }
   ],
   "source": [
    "plt.figure(figsize=(10,5))\n",
    "plt.hist(train_df['day_of_week'], bins=100)\n",
    "plt.xlabel('Day of Week')\n",
    "plt.ylabel('Frequency')\n",
    "plt.title('Time of the day and the frequency of ride')"
   ]
  },
  {
   "cell_type": "markdown",
   "metadata": {},
   "source": [
    "The day of the week doesn't seem to have much of an influence on the number of taxi rides."
   ]
  },
  {
   "cell_type": "code",
   "execution_count": 314,
   "metadata": {},
   "outputs": [
    {
     "data": {
      "text/plain": [
       "Text(0.5, 1.0, 'Time of the day and the fare of a ride')"
      ]
     },
     "execution_count": 314,
     "metadata": {},
     "output_type": "execute_result"
    },
    {
     "data": {
      "image/png": "[encoded data removed]",
      "text/plain": [
       "<Figure size 720x360 with 1 Axes>"
      ]
     },
     "metadata": {
      "needs_background": "light"
     },
     "output_type": "display_data"
    }
   ],
   "source": [
    "plt.figure(figsize=(10,5))\n",
    "plt.scatter(x=train_df['day_of_week'], y=train_df['fare_amount'], s=1.5)\n",
    "plt.xlabel('Day of Week')\n",
    "plt.ylabel('Fare')\n",
    "plt.title('Time of the day and the fare of a ride')"
   ]
  },
  {
   "cell_type": "markdown",
   "metadata": {},
   "source": [
    "The day of the week doesn't seem to have much of an influence on the fare of a rides."
   ]
  },
  {
   "cell_type": "markdown",
   "metadata": {},
   "source": [
    "#### Effect of the distance on the fare"
   ]
  },
  {
   "cell_type": "code",
   "execution_count": 315,
   "metadata": {},
   "outputs": [
    {
     "data": {
      "text/plain": [
       "Counter({'0': 21217,\n",
       "         '0-10': 1838438,\n",
       "         '11-50': 98134,\n",
       "         '51-100': 317,\n",
       "         '>100': 78})"
      ]
     },
     "execution_count": 315,
     "metadata": {},
     "output_type": "execute_result"
    }
   ],
   "source": [
    "train_df_dist = train_df.sort_values(['distance','fare_amount'], ascending=False)\n",
    "\n",
    "bins_0 = train_df_dist.loc[(train_df_dist['distance'] == 0), ['distance']]\n",
    "bins_1 = train_df_dist.loc[(train_df_dist['distance'] > 0) & (train_df_dist['distance'] <= 10),['distance']]\n",
    "bins_2 = train_df_dist.loc[(train_df_dist['distance'] > 10) & (train_df_dist['distance'] <= 50),['distance']]\n",
    "bins_3 = train_df_dist.loc[(train_df_dist['distance'] > 50) & (train_df_dist['distance'] <= 100),['distance']]\n",
    "bins_4 = train_df_dist.loc[(train_df_dist['distance'] > 100),['distance']]\n",
    "bins_0['bins'] = '0'\n",
    "bins_1['bins'] = '0-10'\n",
    "bins_2['bins'] = '11-50'\n",
    "bins_3['bins'] = '51-100'\n",
    "bins_4['bins'] = '>100'\n",
    "dist_bins =pd.concat([bins_0,bins_1,bins_2,bins_3,bins_4])\n",
    "\n",
    "Counter(dist_bins['bins'])"
   ]
  },
  {
   "cell_type": "code",
   "execution_count": 316,
   "metadata": {},
   "outputs": [
    {
     "data": {
      "text/plain": [
       "Text(0, 0.5, 'Frequency')"
      ]
     },
     "execution_count": 316,
     "metadata": {},
     "output_type": "execute_result"
    },
    {
     "data": {
      "image/png": "[encoded data removed]",
      "text/plain": [
       "<Figure size 720x360 with 1 Axes>"
      ]
     },
     "metadata": {
      "needs_background": "light"
     },
     "output_type": "display_data"
    }
   ],
   "source": [
    "plt.figure(figsize=(10,5))\n",
    "plt.hist(dist_bins['bins'], bins=75)\n",
    "plt.xlabel('Bins')\n",
    "plt.ylabel('Frequency')"
   ]
  },
  {
   "cell_type": "markdown",
   "metadata": {},
   "source": [
    "Most of the rides are within the short distance, which is within the 50km range."
   ]
  },
  {
   "cell_type": "markdown",
   "metadata": {},
   "source": [
    "There are some rows where distance is 0. We will assume that it is due to the waiting time charge when the price is 2.5. Otherwise, we will assume that it is an outlier and we will impute the distance value. \n",
    "\n",
    "Calculate distance from fare and update the distance where distance is 0. "
   ]
  },
  {
   "cell_type": "code",
   "execution_count": 319,
   "metadata": {},
   "outputs": [],
   "source": [
    "dist_mod = train_df.loc[(train_df['distance']==0)]\n",
    "dist_mod_up = dist_mod.loc[(dist_mod['fare_amount']>2.5)&(dist_mod['distance']==0)]\n",
    "dist_mod_up['distance'] = dist_mod_up.apply(lambda row: ((row['fare_amount']-2.50)/1.56), axis=1)"
   ]
  },
  {
   "cell_type": "code",
   "execution_count": 325,
   "metadata": {},
   "outputs": [],
   "source": [
    "train_df.update(dist_mod_up)"
   ]
  },
  {
   "cell_type": "markdown",
   "metadata": {},
   "source": [
    "### 5. Machine Learning"
   ]
  },
  {
   "cell_type": "code",
   "execution_count": 335,
   "metadata": {},
   "outputs": [],
   "source": [
    "# data backup\n",
    "train_df7 = train_df.copy()"
   ]
  },
  {
   "cell_type": "code",
   "execution_count": 366,
   "metadata": {},
   "outputs": [],
   "source": [
    "# load backup data\n",
    "# train_df = train_df7.copy()"
   ]
  },
  {
   "cell_type": "code",
   "execution_count": 371,
   "metadata": {},
   "outputs": [
    {
     "name": "stdout",
     "output_type": "stream",
     "text": [
      "train and test data shape:  (1370728, 11) (587456, 11) (1370728,) (587456,)\n"
     ]
    }
   ],
   "source": [
    "from sklearn.metrics import roc_auc_score, confusion_matrix, classification_report\n",
    "from sklearn.model_selection import train_test_split\n",
    "\n",
    "labels = train_df['fare_amount']\n",
    "df = train_df[['pickup_longitude','pickup_latitude','dropoff_longitude','dropoff_latitude','passenger_count','distance','year','month','date','day_of_week','hour']]\n",
    "\n",
    "# train_test_split\n",
    "trainx, testx, trainy, testy = train_test_split(df, labels, test_size=0.3, random_state=42)\n",
    "print('train and test data shape: ', trainx.shape , testx.shape , trainy.shape , testy.shape)"
   ]
  },
  {
   "cell_type": "markdown",
   "metadata": {},
   "source": [
    "Root mean squared error and Mean absolute percentage error will be used for model evaluation."
   ]
  },
  {
   "cell_type": "code",
   "execution_count": 368,
   "metadata": {},
   "outputs": [],
   "source": [
    "from sklearn.metrics import mean_squared_error\n",
    "import warnings\n",
    "warnings.filterwarnings('ignore', category = RuntimeWarning)\n",
    "\n",
    "def metrics(train_pred, valid_pred, y_train, y_valid):\n",
    "    \"\"\"Calculate metrics:\n",
    "       Root mean squared error and mean absolute percentage error\"\"\"\n",
    "    \n",
    "    # Root mean squared error\n",
    "    train_rmse = np.sqrt(mean_squared_error(y_train, train_pred))\n",
    "    valid_rmse = np.sqrt(mean_squared_error(y_valid, valid_pred))\n",
    "    \n",
    "    # Calculate absolute percentage error\n",
    "    train_ape = abs((y_train - train_pred) / y_train)\n",
    "    valid_ape = abs((y_valid - valid_pred) / y_valid)\n",
    "    \n",
    "    # Account for y values of 0\n",
    "    train_ape[train_ape == np.inf] = 0\n",
    "    train_ape[train_ape == -np.inf] = 0\n",
    "    valid_ape[valid_ape == np.inf] = 0\n",
    "    valid_ape[valid_ape == -np.inf] = 0\n",
    "    \n",
    "    train_mape = 100 * np.mean(train_ape)\n",
    "    valid_mape = 100 * np.mean(valid_ape)\n",
    "    \n",
    "    return train_rmse, valid_rmse, train_mape, valid_mape\n",
    "\n",
    "def evaluate(model, features, X_train, X_valid, y_train, y_valid):\n",
    "    \"\"\"Mean absolute percentage error\"\"\"\n",
    "    \n",
    "    # Make predictions\n",
    "    train_pred = model.predict(X_train[features])\n",
    "    valid_pred = model.predict(X_valid[features])\n",
    "    \n",
    "    # Get metrics\n",
    "    train_rmse, valid_rmse, train_mape, valid_mape = metrics(train_pred, valid_pred,\n",
    "                                                             y_train, y_valid)\n",
    "    \n",
    "    print(f'Training:   rmse = {round(train_rmse, 2)} \\t mape = {round(train_mape, 2)}')\n",
    "    print(f'Validation: rmse = {round(valid_rmse, 2)} \\t mape = {round(valid_mape, 2)}')"
   ]
  },
  {
   "cell_type": "markdown",
   "metadata": {},
   "source": [
    "__Linear Regression:__"
   ]
  },
  {
   "cell_type": "code",
   "execution_count": 372,
   "metadata": {},
   "outputs": [
    {
     "name": "stdout",
     "output_type": "stream",
     "text": [
      "Training:   rmse = 5.29 \t mape = 24.08\n",
      "Validation: rmse = 5.25 \t mape = 24.05\n"
     ]
    }
   ],
   "source": [
    "from sklearn.linear_model import LinearRegression\n",
    "\n",
    "lr = LinearRegression()\n",
    "lr.fit(trainx, trainy)\n",
    "evaluate(lr, list(df.columns), trainx, testx, trainy, testy)"
   ]
  },
  {
   "cell_type": "markdown",
   "metadata": {},
   "source": [
    "__Light Gradient Boosting__"
   ]
  },
  {
   "cell_type": "code",
   "execution_count": 373,
   "metadata": {},
   "outputs": [
    {
     "name": "stdout",
     "output_type": "stream",
     "text": [
      "(587456,)\n",
      "<lightgbm.basic.Dataset object at 0x000001881150D978>\n",
      "<lightgbm.basic.Booster object at 0x0000018811509DA0>\n",
      "[ 5.1552709   7.05941593 10.88512049 ... 18.39593169  7.4031918\n",
      "  7.7291003 ]\n",
      "Training:   rmse = 3.64 \t mape = 18.17\n",
      "Validation: rmse = 3.75 \t mape = 18.21\n"
     ]
    }
   ],
   "source": [
    "import lightgbm as lgbm\n",
    "\n",
    "params = {\n",
    "        'boosting_type':'gbdt',\n",
    "        'objective': 'regression',\n",
    "        'nthread': -1,\n",
    "        'verbose': 0,\n",
    "        'num_leaves': 31,\n",
    "        'learning_rate': 0.05,\n",
    "        'max_depth': -1,\n",
    "        'subsample': 0.8,\n",
    "        'subsample_freq': 1,\n",
    "        'colsample_bytree': 0.6,\n",
    "        'reg_aplha': 1,\n",
    "        'reg_lambda': 0.001,\n",
    "        'metric': 'rmse',\n",
    "        'min_split_gain': 0.5,\n",
    "        'min_child_weight': 1,\n",
    "        'min_child_samples': 10,\n",
    "        'scale_pos_weight':1     \n",
    "    }\n",
    "\n",
    "pred_test_y = np.zeros(testx.shape[0])\n",
    "print(pred_test_y.shape)\n",
    "train_set = lgbm.Dataset(trainx, trainy, silent=True)\n",
    "print(train_set)\n",
    "model = lgbm.train(params, train_set = train_set, num_boost_round=300)\n",
    "print(model)\n",
    "pred_test_y = model.predict(testx, num_iteration = model.best_iteration)\n",
    "print(pred_test_y)\n",
    "\n",
    "evaluate(model, list(df.columns), trainx, testx, trainy, testy)"
   ]
  },
  {
   "cell_type": "markdown",
   "metadata": {},
   "source": [
    "__Random Forest__"
   ]
  },
  {
   "cell_type": "code",
   "execution_count": 374,
   "metadata": {},
   "outputs": [
    {
     "name": "stderr",
     "output_type": "stream",
     "text": [
      "[Parallel(n_jobs=-1)]: Using backend ThreadingBackend with 4 concurrent workers.\n",
      "[Parallel(n_jobs=-1)]: Done  20 out of  20 | elapsed:  1.7min finished\n"
     ]
    },
    {
     "data": {
      "text/plain": [
       "RandomForestRegressor(bootstrap=True, criterion='mse', max_depth=20,\n",
       "                      max_features=None, max_leaf_nodes=None,\n",
       "                      min_impurity_decrease=0.0, min_impurity_split=None,\n",
       "                      min_samples_leaf=1, min_samples_split=2,\n",
       "                      min_weight_fraction_leaf=0.0, n_estimators=20, n_jobs=-1,\n",
       "                      oob_score=True, random_state=None, verbose=1,\n",
       "                      warm_start=False)"
      ]
     },
     "execution_count": 374,
     "metadata": {},
     "output_type": "execute_result"
    }
   ],
   "source": [
    "from sklearn.ensemble import RandomForestRegressor\n",
    "\n",
    "# Create the random forest\n",
    "random_forest = RandomForestRegressor(n_estimators = 20, max_depth = 20, max_features = None, oob_score = True, \n",
    "                                      bootstrap = True, verbose = 1, n_jobs = -1)\n",
    "\n",
    "# Train on data\n",
    "random_forest.fit(trainx, trainy)"
   ]
  },
  {
   "cell_type": "code",
   "execution_count": 375,
   "metadata": {},
   "outputs": [
    {
     "name": "stderr",
     "output_type": "stream",
     "text": [
      "[Parallel(n_jobs=4)]: Using backend ThreadingBackend with 4 concurrent workers.\n",
      "[Parallel(n_jobs=4)]: Done  20 out of  20 | elapsed:    2.6s finished\n",
      "[Parallel(n_jobs=4)]: Using backend ThreadingBackend with 4 concurrent workers.\n",
      "[Parallel(n_jobs=4)]: Done  20 out of  20 | elapsed:    1.0s finished\n"
     ]
    },
    {
     "name": "stdout",
     "output_type": "stream",
     "text": [
      "Training:   rmse = 2.45 \t mape = 14.74\n",
      "Validation: rmse = 3.68 \t mape = 17.63\n"
     ]
    }
   ],
   "source": [
    "evaluate(random_forest, list(df.columns), trainx, testx, trainy, testy)"
   ]
  },
  {
   "cell_type": "code",
   "execution_count": null,
   "metadata": {},
   "outputs": [],
   "source": []
  }
 ],
 "metadata": {
  "kernelspec": {
   "display_name": "Python [conda env:pm36] *",
   "language": "python",
   "name": "conda-env-pm36-py"
  },
  "language_info": {
   "codemirror_mode": {
    "name": "ipython",
    "version": 3
   },
   "file_extension": ".py",
   "mimetype": "text/x-python",
   "name": "python",
   "nbconvert_exporter": "python",
   "pygments_lexer": "ipython3",
   "version": "3.6.7"
  }
 },
 "nbformat": 4,
 "nbformat_minor": 2
}
