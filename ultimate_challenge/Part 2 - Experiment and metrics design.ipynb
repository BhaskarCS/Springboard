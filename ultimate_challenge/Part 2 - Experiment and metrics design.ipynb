{
 "cells": [
  {
   "cell_type": "markdown",
   "metadata": {},
   "source": [
    "# Data Analysis Interview Challenge"
   ]
  },
  {
   "cell_type": "markdown",
   "metadata": {},
   "source": [
    "## Part 2 - Experiment and metrics design"
   ]
  },
  {
   "cell_type": "markdown",
   "metadata": {},
   "source": [
    "\n",
    "\n",
    "The neighboring cities of Gotham and Metropolis have complementary circadian rhythms: on weekdays, Ultimate Gotham is most active at night, and Ultimate Metropolis is most active during the day. On weekends, there is reasonable activity in both cities.\n",
    "\n",
    "However, a toll bridge, with a two ­way toll, between the two cities causes driver partners to tend to be exclusive to each city. The Ultimate managers of city operations for the two cities have proposed an experiment to encourage driver partners to be available in both cities, by reimbursing all toll costs.\n",
    "\n",
    "   1. What would you choose as the key measure of success of this experiment in encouraging driver partners to serve both cities, and why would you choose this metric?\n",
    "   2. Describe a practical experiment you would design to compare the effectiveness of the proposed change in relation to the key measure of success. Please provide details on:\n",
    "    a. how you will implement the experiment b. what statistical test(s) you will conduct to verify the significance of the observation \n",
    "    c. how you would interpret the results and provide recommendations to the city operations team along with any caveats.\n",
    "\n"
   ]
  },
  {
   "cell_type": "markdown",
   "metadata": {},
   "source": [
    "__Solution__"
   ]
  },
  {
   "cell_type": "markdown",
   "metadata": {},
   "source": [
    "1. If drivers are tracked by the pickup and dropoff locations for customers, then their travel back and forth between the cities can also be tracked. Since drivers are exclusvie to their respective cities, then the accumulation of their pickup and dropoff statistics will show which city each driver favors before the testing starts. Therefore an initial aggregation will need to be done on current drivers to seperate them into one of two groups:\n",
    "\n",
    "- Group A: Drivers exclusive to Ultimate Gotham\n",
    "- Groub B: Drivers exclusive to Ultimate Metropolis\n",
    "\n",
    "Key measure of success:\n",
    "- Gotham: increase in Group B's pickup and/or drop off rate\n",
    "- Metropolis: increase of Group A's pickup and/or drop off rate "
   ]
  },
  {
   "cell_type": "markdown",
   "metadata": {},
   "source": [
    "2. Practical experiment: __A/B Testing__\n",
    "\n",
    "a. Depending on the timeline restrictions, a baseline would need to be established. For a respectable length of time, data would be collected on each driver for both cities. This baseline is needed to deterine how often these drivers venture over to the other city. By keeping track of such a thing, we can then use this information to detect an anomaly in their normal behavior (increased service in the other city) versus a random event (every so often a driver provides service in the other city, but they are still exclusive to their respecitive city).\n",
    "\n",
    "b. After the baseline is established, then the proposed changes are put into effect for a respectable lenght of time. Again, data would be collected and then compared to the baseline to determine if an increase of service is seen from drivers of the opposing city.\n",
    "\n",
    "c. Finally, to ensure the statistical signifigance of the results, after the time for (b.) has expired, the changes will revert back to their original state. After a designated amount of time has passed, a time series analysis will be performed to determine if there was an increase of service among the cities after the changes took effect, and if the results returned to the baseline characteristics after the changes were reverted.\n",
    "\n",
    "Using a single driver for simplicity, if that particular driver is exclusive to Gotham - After the changes take effect and they are successful, then we should expect to see an increase in that driver's services provided in Metropolis. Then once the changes are reverted, we would expect to see their normal habits return. That is being exclusive to only Gotham. This logic can be applied on the whole population.\n",
    "\n",
    "Caveats to this would be duration of test time. Too short, then a reasonable baseline can't be established. Too long then we risk the possiblity of an unstable data set. Drivers could come and go so much that drivers in the baseline might not be driving during the proposed changes. And on the other side, the majority of drivers during the proposed changes timeline could be drivers who weren't present during the establishment of the baseline."
   ]
  }
 ],
 "metadata": {
  "kernelspec": {
   "display_name": "Python [conda env:dsenv2] *",
   "language": "python",
   "name": "conda-env-dsenv2-py"
  },
  "language_info": {
   "codemirror_mode": {
    "name": "ipython",
    "version": 3
   },
   "file_extension": ".py",
   "mimetype": "text/x-python",
   "name": "python",
   "nbconvert_exporter": "python",
   "pygments_lexer": "ipython3",
   "version": "3.6.7"
  }
 },
 "nbformat": 4,
 "nbformat_minor": 2
}
