{
 "cells": [
  {
   "cell_type": "markdown",
   "metadata": {},
   "source": [
    "# Data Analysis Interview Challenge"
   ]
  },
  {
   "cell_type": "markdown",
   "metadata": {},
   "source": [
    "## Part 2 - Experiment and metrics design"
   ]
  },
  {
   "cell_type": "markdown",
   "metadata": {},
   "source": [
    "\n",
    "\n",
    "The neighboring cities of Gotham and Metropolis have complementary circadian rhythms: on weekdays, Ultimate Gotham is most active at night, and Ultimate Metropolis is most active during the day. On weekends, there is reasonable activity in both cities.\n",
    "\n",
    "However, a toll bridge, with a two ­way toll, between the two cities causes driver partners to tend to be exclusive to each city. The Ultimate managers of city operations for the two cities have proposed an experiment to encourage driver partners to be available in both cities, by reimbursing all toll costs.\n",
    "\n",
    "   1. What would you choose as the key measure of success of this experiment in encouraging driver partners to serve both cities, and why would you choose this metric?\n",
    "   2. Describe a practical experiment you would design to compare the effectiveness of the proposed change in relation to the key measure of success. Please provide details on:\n",
    "    a. how you will implement the experiment b. what statistical test(s) you will conduct to verify the significance of the observation \n",
    "    c. how you would interpret the results and provide recommendations to the city operations team along with any caveats.\n",
    "\n"
   ]
  },
  {
   "cell_type": "markdown",
   "metadata": {},
   "source": [
    "<h3>Answer</h3>\n",
    "If the experiment is successful, we would suspet that the activities for these two cities to be roughly the same regardless of time of day. Per the city managers, city activity is measured by the number of cars entering the city (more cars entering the city means more active the city), we will choose the number of cars entering the two cities as the key measure of success of this experiment.\n",
    "\n",
    "In order to do this, we can have toll booth personnel still at the booths to record the data for going into the respective cities. We would then have two sets of data: one is the number of cars entering Gotham per hour and the other one is the number of cars entering Metropolis per hour. We also need the history data of number of cars entering both cities.\n",
    "\n",
    "If the experiment is successful:\n",
    "\n",
    "1) there will be higher traffic volumn on the bridge than previously\n",
    "\n",
    "2) the number of cars entering Gotham is higher than that entering Metropolis in the day and lower in the night.\n",
    "\n",
    "For 1): Our null hypothesis would be that there is no difference of traffic volumn before and after the experiment. We will test our hypothesis using t-test and calculate p-value under our null hypothesis. If p<0.025(due to this being a one-tail problem), we can conclude that there is increase of traffic volume after reinbursing the toll.\n",
    "\n",
    "For 2): Our null hypothesis is that there is no difference of number of cars entering Gotham and entering Metropolis. Similar to the above, we would test our null hypothesis using t-test and calculate p-value under null pothesis. If p<0.025, we can conclude number of cars entering Gotham is higher than that entering Metropolis during daytime and lower during night\n",
    "\n",
    "If the experimenent works, more policies are needed to encourage the interaction between two cities. For example, city counsel might think of introducing public transportation system to facilitate the interaction between two cities."
   ]
  }
 ],
 "metadata": {
  "kernelspec": {
   "display_name": "Python [conda env:dsenv2] *",
   "language": "python",
   "name": "conda-env-dsenv2-py"
  },
  "language_info": {
   "codemirror_mode": {
    "name": "ipython",
    "version": 3
   },
   "file_extension": ".py",
   "mimetype": "text/x-python",
   "name": "python",
   "nbconvert_exporter": "python",
   "pygments_lexer": "ipython3",
   "version": "3.6.7"
  }
 },
 "nbformat": 4,
 "nbformat_minor": 2
}
